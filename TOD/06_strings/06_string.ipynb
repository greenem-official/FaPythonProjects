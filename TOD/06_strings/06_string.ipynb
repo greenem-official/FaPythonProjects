{
 "cells": [
  {
   "cell_type": "markdown",
   "metadata": {},
   "source": [
    "# Работа со строковыми значениями"
   ]
  },
  {
   "cell_type": "markdown",
   "metadata": {},
   "source": [
    "__Автор задач: Блохин Н.В. (NVBlokhin@fa.ru)__\n",
    "\n",
    "Материалы:\n",
    "* Макрушин С.В. Лекция \"Работа со строковыми значениям\"\n",
    "* https://pyformat.info/\n",
    "* https://docs.python.org/3/library/re.html\n",
    "    * https://docs.python.org/3/library/re.html#flags\n",
    "    * https://docs.python.org/3/library/re.html#functions\n",
    "* https://pythonru.com/primery/primery-primeneniya-regulyarnyh-vyrazheniy-v-python\n",
    "* https://kanoki.org/2019/11/12/how-to-use-regex-in-pandas/\n",
    "* https://realpython.com/nltk-nlp-python/"
   ]
  },
  {
   "cell_type": "markdown",
   "metadata": {},
   "source": [
    "## Задачи для совместного разбора"
   ]
  },
  {
   "cell_type": "code",
   "execution_count": 1,
   "metadata": {
    "ExecuteTime": {
     "end_time": "2024-05-13T20:32:29.897791Z",
     "start_time": "2024-05-13T20:32:29.881791300Z"
    }
   },
   "outputs": [],
   "source": [
    "import pandas as pd"
   ]
  },
  {
   "cell_type": "markdown",
   "metadata": {},
   "source": [
    "1. Вывести на экран данные из словаря `obj` построчно в виде `k = v`, задав формат таким образом, чтобы знак равенства оказался на одной и той же позиции во всех строках. Строковые литералы обернуть в кавычки."
   ]
  },
  {
   "cell_type": "code",
   "execution_count": 1,
   "metadata": {},
   "outputs": [],
   "source": [
    "obj = {\n",
    "    \"home_page\": \"https://github.com/pypa/sampleproject\",\n",
    "    \"keywords\": \"sample setuptools development\",\n",
    "    \"license\": \"MIT\",\n",
    "}"
   ]
  },
  {
   "cell_type": "markdown",
   "metadata": {},
   "source": [
    "2. Написать регулярное выражение,которое позволит найти номера групп студентов."
   ]
  },
  {
   "cell_type": "code",
   "execution_count": 4,
   "metadata": {},
   "outputs": [
    {
     "data": {
      "text/plain": [
       "0    Евгения гр.ПМ19-1\n",
       "1         Илья пм 20-4\n",
       "2            Анна 20-3\n",
       "dtype: object"
      ]
     },
     "execution_count": 4,
     "metadata": {},
     "output_type": "execute_result"
    }
   ],
   "source": [
    "obj = pd.Series([\"Евгения гр.ПМ19-1\", \"Илья пм 20-4\", \"Анна 20-3\"])\n",
    "obj"
   ]
  },
  {
   "cell_type": "markdown",
   "metadata": {},
   "source": [
    "3. Разбейте текст формулировки задачи 2 на слова."
   ]
  },
  {
   "cell_type": "markdown",
   "metadata": {},
   "source": [
    "## Лабораторная работа 6"
   ]
  },
  {
   "cell_type": "markdown",
   "metadata": {},
   "source": [
    "### Форматирование строк"
   ]
  },
  {
   "cell_type": "markdown",
   "metadata": {},
   "source": [
    "1\\. Загрузите данные из файла `recipes_sample.csv` (__ЛР2__) в виде `pd.DataFrame` `recipes` При помощи форматирования строк выведите информацию об id рецепта и времени выполнения 5 случайных рецептов в виде таблицы следующего вида:\n",
    "\n",
    "    \n",
    "    |      id      |  minutes  |\n",
    "    |--------------------------|\n",
    "    |    61178     |    65     |\n",
    "    |    202352    |    80     |\n",
    "    |    364322    |    150    |\n",
    "    |    26177     |    20     |\n",
    "    |    224785    |    35     |\n",
    "    \n",
    "Обратите внимание, что ширина столбцов заранее неизвестна и должна рассчитываться динамически, в зависимости от тех данных, которые были выбраны. "
   ]
  },
  {
   "cell_type": "code",
   "execution_count": 2,
   "metadata": {
    "ExecuteTime": {
     "end_time": "2024-05-13T21:30:11.386945300Z",
     "start_time": "2024-05-13T21:30:11.347855800Z"
    }
   },
   "outputs": [],
   "source": [
    "import pandas as pd\n",
    "import xml.etree.ElementTree as ET\n",
    "import regex as re"
   ]
  },
  {
   "cell_type": "code",
   "execution_count": null,
   "metadata": {},
   "outputs": [],
   "source": [
    "def split_line(line):\n",
    "    return line[: len(line) // 2] + ' | ' + line[len(line)//2 :]\n",
    "\n",
    "recipes = pd.read_csv('recipes_sample.csv', header=0)\n",
    "random_recipes = recipes.sample(5)\n",
    "s = random_recipes[['id', 'minutes']].to_string(index=False, index_names=False, justify='center').split('\\n')\n",
    "first_line = '|  ' + split_line(s[0]) + '  |'\n",
    "print(first_line)\n",
    "print(f'|{\"-\"*(len(first_line)-2)}|')\n",
    "for line in s[1:]:\n",
    "    parts = [p for p in line.split(' ') if p != '']\n",
    "    print('|', end='')\n",
    "    print(('% ' + str(len(first_line)/2) + '.2f') % parts[0])\n",
    "    # '^' + str(len(first_line)/2) + 's')\n"
   ]
  },
  {
   "cell_type": "markdown",
   "metadata": {},
   "source": [
    "2\\. Напишите функцию `show_info`, которая по данным о рецепте создает строку (в смысле объекта python) с описанием следующего вида:\n",
    "\n",
    "```\n",
    "\"Название Из Нескольких Слов\"\n",
    "\n",
    "1. Шаг 1\n",
    "2. Шаг 2\n",
    "----------\n",
    "Автор: contributor_id\n",
    "Среднее время приготовления: minutes минут\n",
    "```\n",
    "\n",
    "    \n",
    "Данные для создания строки получите из файлов `recipes_sample.csv` (__ЛР2__) и `steps_sample.xml` (__ЛР3__). \n",
    "Вызовите данную функцию для рецепта с id `170895` и выведите (через `print`) полученную строку на экран."
   ]
  },
  {
   "cell_type": "code",
   "execution_count": 4,
   "metadata": {
    "ExecuteTime": {
     "end_time": "2024-05-13T21:14:04.261176600Z",
     "start_time": "2024-05-13T21:14:04.241177500Z"
    }
   },
   "outputs": [],
   "source": [
    "def show_info(name, steps, minutes, author_id):\n",
    "    s = f'\"{name.title()}\"\\n'\n",
    "    for i in range(len(steps)):\n",
    "        s += f'\\n{i+1}. {steps[i].capitalize()}'\n",
    "    s += (f'\\n----------\\n'\n",
    "          f'Автор: {author_id}\\n'\n",
    "          f'Среднее время приготовления: {minutes} минут\\n')\n",
    "    return s\n",
    "\n",
    "assert (\n",
    "    show_info(\n",
    "        name=\"george s at the cove black bean soup\",\n",
    "        steps=[\n",
    "            \"clean the leeks and discard the dark green portions\",\n",
    "            \"cut the leeks lengthwise then into one-inch pieces\",\n",
    "            \"melt the butter in a medium skillet , med\",\n",
    "        ],\n",
    "        minutes=90,\n",
    "        author_id=35193,\n",
    "    )\n",
    "    == '\"George S At The Cove Black Bean Soup\"\\n\\n1. Clean the leeks and discard the dark green portions\\n2. Cut the leeks lengthwise then into one-inch pieces\\n3. Melt the butter in a medium skillet , med\\n----------\\nАвтор: 35193\\nСреднее время приготовления: 90 минут\\n'\n",
    ")"
   ]
  },
  {
   "cell_type": "code",
   "execution_count": 5,
   "metadata": {
    "ExecuteTime": {
     "end_time": "2024-05-13T21:17:03.044596900Z",
     "start_time": "2024-05-13T21:17:02.530460100Z"
    }
   },
   "outputs": [
    {
     "name": "stdout",
     "output_type": "stream",
     "text": [
      "\"Leeks And Parsnips  Sauteed Or Creamed\"\n",
      "\n",
      "1. Clean the leeks and discard the dark green portions\n",
      "2. Cut the leeks lengthwise then into one-inch pieces\n",
      "3. Melt the butter in a medium skillet , med\n",
      "4. Heat\n",
      "5. Add the garlic and fry 'til fragrant\n",
      "6. Add leeks and fry until the leeks are tender , about 6-minutes\n",
      "7. Meanwhile , peel and chunk the parsnips into one-inch pieces\n",
      "8. Place in a steaming basket and steam 'til they are as tender as you prefer\n",
      "9. I like them fork-tender\n",
      "10. Drain parsnips and add to the skillet with the leeks\n",
      "11. Add salt and pepper\n",
      "12. Gently sautee together for 5-minutes\n",
      "13. At this point you can serve it , or continue on and cream it:\n",
      "14. In a jar with a screw top , add the half-n-half and arrowroot\n",
      "15. Shake 'til blended\n",
      "16. Turn heat to low under the leeks and parsnips\n",
      "17. Pour in the arrowroot mixture , stirring gently as you pour\n",
      "18. If too thick , gradually add the water\n",
      "19. Let simmer for a couple of minutes\n",
      "20. Taste to adjust seasoning , probably an additional 1 / 2 teaspoon salt\n",
      "21. Serve warm\n",
      "----------\n",
      "Автор: 8377\n",
      "Среднее время приготовления: 27 минут\n"
     ]
    }
   ],
   "source": [
    "recipe_id = 170895\n",
    "\n",
    "recipes = pd.read_csv('recipes_sample.csv', header=0)\n",
    "recipe_data = recipes[recipes['id'] == recipe_id]\n",
    "\n",
    "if not recipe_data.empty:\n",
    "    tree = ET.parse(\"steps_sample.xml\")\n",
    "    root = tree.getroot()\n",
    "    \n",
    "    steps = []\n",
    "    for recipe in root.findall('recipe'):\n",
    "        if recipe.find('id').text == str(recipe_id):\n",
    "            steps = [step.text for step in recipe.find('steps').findall('step')]\n",
    "\n",
    "    print(show_info(\n",
    "        recipe_data['name'].values[0],\n",
    "        steps,\n",
    "        recipe_data['minutes'].values[0],\n",
    "        recipe_data['contributor_id'].values[0]\n",
    "    ))\n",
    "else:\n",
    "    print(\"Нет такого рецепта\")"
   ]
  },
  {
   "cell_type": "markdown",
   "metadata": {},
   "source": [
    "## Работа с регулярными выражениями"
   ]
  },
  {
   "cell_type": "markdown",
   "metadata": {},
   "source": [
    "3\\. Напишите регулярное выражение, которое ищет следующий паттерн в строке: число (1 цифра или более), затем пробел, затем слова: hour или hours или minute или minutes. Произведите поиск по данному регулярному выражению в каждом шаге рецепта с id 25082. Выведите на экран все непустые результаты, найденные по данному шаблону."
   ]
  },
  {
   "cell_type": "code",
   "execution_count": 6,
   "metadata": {
    "ExecuteTime": {
     "end_time": "2024-05-13T21:55:46.095046300Z",
     "start_time": "2024-05-13T21:55:45.644464900Z"
    }
   },
   "outputs": [
    {
     "name": "stdout",
     "output_type": "stream",
     "text": [
      "['20 minute']\n",
      "['10 minute']\n",
      "['2 hour']\n",
      "['10 minute']\n",
      "['20 minute', '30 minute']\n"
     ]
    }
   ],
   "source": [
    "tree = ET.parse(\"steps_sample.xml\")\n",
    "root = tree.getroot()\n",
    "\n",
    "recipe_id = 25082\n",
    "steps = []\n",
    "for recipe in root.findall('recipe'):\n",
    "    if recipe.find('id').text == str(recipe_id):\n",
    "        steps = [step.text.strip() for step in recipe.find('steps').findall('step')]\n",
    "\n",
    "# ?: - не захватывающая группа\n",
    "pattern = r'\\d+\\s+(?:hour|hours|minute|minutes)'\n",
    "for step in steps:\n",
    "    matches = re.findall(pattern, step)\n",
    "    if matches:\n",
    "        print(matches)"
   ]
  },
  {
   "cell_type": "markdown",
   "metadata": {},
   "source": [
    "4\\. Напишите регулярное выражение, которое ищет шаблон вида \"this..., but\" _в начале строки_ . Между словом \"this\" и частью \", but\" может находиться произвольное число букв, цифр, знаков подчеркивания и пробелов. Никаких других символов вместо многоточия быть не может. Пробел между запятой и словом \"but\" может присутствовать или отсутствовать.\n",
    "\n",
    "Используя строковые методы `pd.Series`, выясните, для каких рецептов данный шаблон содержится в тексте описания. Выведите на экран количество таких рецептов и 3 примера подходящих описаний (текст описания должен быть виден на экране полностью)."
   ]
  },
  {
   "cell_type": "code",
   "execution_count": 13,
   "metadata": {},
   "outputs": [
    {
     "name": "stdout",
     "output_type": "stream",
     "text": [
      "this is a great meal eaten the same day ,but\n",
      "this was adapted from a recipe i found on the net, but\n",
      "this is kind of similar to some of the other versions out there, but\n",
      "this is a moist, but\n",
      "this pie does not have very many ingredients in it, but\n",
      "this is very different, but\n",
      "this is really to simple to call a recipe,but\n",
      "this dressing is wonderful on baby greens salad, but\n",
      "this is a great recipe, but\n",
      "this casserole may be made with regular white rice, but\n",
      "this salad has quite a few ingredients, but\n",
      "this marinade is wonderful for any meat, but\n",
      "this recipe shows for pork, but\n",
      "this is considered peasant soup, but\n",
      "this recipe is posted by request, but\n",
      "this is a terribly sinful dish, but\n",
      "this is not only fantastic hot, but\n",
      "this is so gringo it is unreal, but\n",
      "this recipe is so good you will want to save it for company, but\n",
      "this cake is very rich, but\n",
      "this soup is served as a fancy appetizer in a shot glass with half a piece of candied bacon, but\n",
      "this is a rich creamy drink made of vodka, but\n",
      "this is traditionally a vegetarian dish, but\n",
      "this is a very simple recipe, but\n",
      "this is about as far from gourmet as you can get, but\n",
      "this sounds like a weird combination of ingredients, but\n",
      "this is a recipe that i make to serve to guests, but\n",
      "this recipe makes a lot, but\n",
      "this is a bit time consuming, but\n",
      "this tastes rich and looks like an expensive gourmet entree, but\n",
      "this dish is a wonderful weekday meal, but\n",
      "this is wonderful when peaches are fresh and in season, but\n",
      "this recipe is for 2 steaks or 3 very small steaks, but\n",
      "this classic chinese dish is so simple, but\n",
      "this is really nice inside my best ever chocolate cake, but\n",
      "this recipes takes a little playing around, but\n",
      "this is a concoction for salmon that i came up with when i wanted salmon, but\n",
      "this pie crust retains the flavor of an all butter crust, but\n",
      "this is not only fairly easy, but\n",
      "this recipe is not exactly crab rangoon,but\n",
      "this is sooooo simple, but\n",
      "this doctored up version of boxed mac and cheese is quick and easy, but\n",
      "this was born one night when i was trying a new recipe, but\n",
      "this not so healthy, but\n",
      "this sounds really good, but\n",
      "this recipe is insanely high in fiber and protein, but\n",
      "this is a nice simple way to prepare chicken in the crock pot, but\n",
      "this apple cake is super easy and quick to make, but\n",
      "this is almost too easy to be called a recipe, but\n",
      "this is from my pumpkin nuggets recipe, but\n",
      "this is a great fried turkey recipe, but\n",
      "this recipe is a work in process, but\n",
      "this tasted soooooo good, but\n",
      "this spread is delicious on crackers and toasts, but\n",
      "this is a somersize recipe, but\n",
      "this dish used to have a different name, but\n",
      "this makes a big batch, but\n",
      "this is pretty easy, but\n",
      "this recipe is very similar to other feta chicken recipes on recipezaar, but\n",
      "this chowder is great when you feel like soup, but\n",
      "this tastes like the  well known boursin cheese, but\n",
      "this was a long one to type, but\n",
      "this is for those of you who enjoy hot apple cider, but\n",
      "this recipe is not exactly like they have around here, but\n",
      "this is from a recent foodday section of the oregonian, but\n",
      "this is a great recipie, but\n",
      "this is a traditional indonesian recipe for fried chicken, but\n",
      "this is not a fancy beef gravy and i am not claiming it to be the best, but\n",
      "this is how i make broccoflower, but\n",
      "this is a great recipe to serve as an appetizer for two or three people, but\n",
      "this recipe is so simple i almost decided not to post it, but\n",
      "this is an ideal marinade for those who like spicy, but\n",
      "this is listed in bon appetit as a side accompaniament for cheesecake, but\n",
      "this actually takes a little effort to make, but\n",
      "this is a simple recipe, but\n",
      "this is absolutely delicious, but\n",
      "this is good with desserts, but\n",
      "this recipe sounds a little strange, but\n",
      "this is sooo good, but\n",
      "this is an easy cake, but\n",
      "this has a lot of ingredients, but\n",
      "this recipe might come across as more of a dressing than a salad, but\n",
      "this recipe is for one, but\n",
      "this dish is so easy to make, but\n",
      "this recipe is quick and easy, but\n",
      "this is such an easy, but\n",
      "this spanish dish is a lot like our sloppy joes, but\n",
      "this is so simple, but\n",
      "this cake is easier to make the the traditional recipe, but\n",
      "this is a wonderful sauce for any kind of venison, but\n",
      "this is posted by request, but\n",
      "this is a different, but\n",
      "this recipe is similar to others posted here, but\n",
      "this grilled chicken gets great flavor from the outdoor grill, but\n",
      "this recipe was originally meant for elementary students, but\n",
      "this is a great weeknight meal, but\n",
      "this is a copycat recipe, but\n",
      "this is a recipe that i clipped from a magazine years ago, but\n",
      "this is really great to have on hand when you have little time, but\n",
      "this recipe originally from a taste of home magazine, but\n",
      "this is not a low cal sauce, but\n",
      "this sauce is terrific with any seafood, but\n",
      "this is an unusual tart which can be baked all year round using elderflower cordial, but\n",
      "this rice not only looks beautiful, but\n",
      "this is also good made with jumbo lump crabmeat, but\n",
      "this sauce is more sweet than sour, but\n",
      "this is a very ellegant special dinner for two, but\n",
      "this is a simple, but\n",
      "this drink is rich, but\n",
      "this has a lot of ingredients in it, but\n",
      "this is a delicious traditional spanish dessert and is similar to cold custard, but\n",
      "this is wonderfully easy for those fall evenings when you want something tasty, but\n",
      "this recipe tastes very similar to the spicy tuna rolls found in japanese restaurants, but\n",
      "this is the original recipe, but\n",
      "this salad has the regular ingredients you would expect to find in a spinach salad, but\n",
      "this apple pie is loaded with apples, but\n",
      "this recipe is based off of a cooking light recipe, but\n",
      "this recipe is very simple, but\n",
      "this entrée packs a powerful flavor punch, but\n",
      "this uses frozen cheesesteak meat, but\n",
      "this is a nice side salad that i first had as a side at a thai restaurant, but\n",
      "this brownie batter comes from a mix, but\n",
      "this  healthy salad is not only easy to make, but\n",
      "this sounds so good, but\n",
      "this recipe is a little bit of work, but\n",
      "this only serves 2 as a side dish, but\n",
      "this is delicious anytime, but\n",
      "this is fabulous for a brunch, but\n",
      "this looks and smells like orange juice, but\n",
      "this is so simple to put together and tastes so good, but\n",
      "this is so good, but\n",
      "this simple salad pairs wonderfully with any meal, but\n",
      "this recipe is pretty close to bizzare, but\n",
      "this is a delicious soup that i originally found on the better homes and gardens website, but\n"
     ]
    }
   ],
   "source": [
    "import pandas as pd\n",
    "import re\n",
    "\n",
    "recipes = pd.read_csv('recipes_sample.csv', header=0)\n",
    "pattern = r'^this([\\w\\d\\s]+),\\s?but'\n",
    "for desc in recipes['description']:\n",
    "    if isinstance(desc, str):\n",
    "        match = re.search(pattern, desc)\n",
    "        if match:\n",
    "            print(match.group())"
   ]
  },
  {
   "cell_type": "markdown",
   "metadata": {},
   "source": [
    "5\\. В текстах шагов рецептов обыкновенные дроби имеют вид \"a / b\". Используя регулярные выражения, уберите в тексте шагов рецепта с id 72367 пробелы до и после символа дроби. Выведите на экран шаги этого рецепта после их изменения."
   ]
  },
  {
   "cell_type": "code",
   "execution_count": 18,
   "metadata": {},
   "outputs": [
    {
     "name": "stdout",
     "output_type": "stream",
     "text": [
      "mix butter , flour , 11/3 c\n",
      "sugar and 1-11/4 t\n",
      "vanilla\n",
      "press into greased 9\" springform pan\n",
      "mix cream cheese , 11/4 c\n",
      "sugar , eggs and 11/2 t\n",
      "vanilla beating until fluffy\n",
      "pour over dough\n",
      "combine apples , 11/3 c\n",
      "sugar and cinnamon\n",
      "arrange on top of cream cheese mixture and sprinkle with almonds\n",
      "bake at 350 for 45-55 minutes , or until tester comes out clean\n"
     ]
    }
   ],
   "source": [
    "import pandas as pd\n",
    "import re\n",
    "import xml.etree.ElementTree as ET\n",
    "\n",
    "tree = ET.parse(\"steps_sample.xml\")\n",
    "root = tree.getroot()\n",
    "\n",
    "recipe_id = 72367\n",
    "steps = []\n",
    "for recipe in root.findall('recipe'):\n",
    "    if recipe.find('id').text == str(recipe_id):\n",
    "        steps = [step.text.strip() for step in recipe.find('steps').findall('step')]\n",
    "\n",
    "pattern = r'(\\d+)\\s?/\\s?(\\d+)'\n",
    "i = -1\n",
    "for step in steps:\n",
    "    i += 1\n",
    "    match = re.search(pattern, step)\n",
    "    if match:\n",
    "        new_s = step[:match.start() + 1] + match.group(1) + '/' + match.group(2) + step[match.end():]\n",
    "        steps[i] = new_s\n",
    "\n",
    "for step in steps:\n",
    "    print(step)"
   ]
  },
  {
   "cell_type": "markdown",
   "metadata": {},
   "source": [
    "### Сегментация текста"
   ]
  },
  {
   "cell_type": "markdown",
   "metadata": {},
   "source": [
    "6\\. Разбейте тексты шагов рецептов на слова при помощи пакета `nltk`. Посчитайте и выведите на экран кол-во уникальных слов среди всех рецептов. Словом называется любая последовательность алфавитных символов (для проверки можно воспользоваться `str.isalpha`). При подсчете количества уникальных слов не учитывайте регистр."
   ]
  },
  {
   "cell_type": "code",
   "execution_count": 2,
   "outputs": [
    {
     "name": "stdout",
     "output_type": "stream",
     "text": [
      "Количество уникальных слов: 14926\n"
     ]
    }
   ],
   "source": [
    "import nltk\n",
    "from nltk.tokenize import word_tokenize\n",
    "import xml.etree.ElementTree as ET\n",
    "\n",
    "def tokenize_to_words(s):\n",
    "    words = word_tokenize(s.lower())\n",
    "    words = [word for word in words if word.isalpha()] # Только алфавитные слова\n",
    "    return words\n",
    "\n",
    "\n",
    "tree = ET.parse(\"steps_sample.xml\")\n",
    "root = tree.getroot()\n",
    "\n",
    "all_words = []\n",
    "for recipe in root.findall('recipe'):\n",
    "    steps = [step.text.strip() for step in recipe.find('steps').findall('step')]\n",
    "    for step in steps:\n",
    "        all_words.extend(tokenize_to_words(step))\n",
    "\n",
    "unique_words = set(all_words)\n",
    "\n",
    "print(\"Количество уникальных слов:\", len(unique_words))"
   ],
   "metadata": {
    "collapsed": false,
    "ExecuteTime": {
     "end_time": "2024-05-20T21:45:19.845389300Z",
     "start_time": "2024-05-20T21:45:04.306637200Z"
    }
   }
  },
  {
   "cell_type": "markdown",
   "metadata": {},
   "source": [
    "7\\. Разбейте описания рецептов из `recipes` на предложения при помощи пакета `nltk`. Найдите 5 самых длинных описаний (по количеству _предложений_) рецептов в датасете и выведите строки фрейма, соответствующие этим рецептами, в порядке убывания длины."
   ]
  },
  {
   "cell_type": "code",
   "execution_count": 7,
   "outputs": [
    {
     "name": "stdout",
     "output_type": "stream",
     "text": [
      "---------------------------------------------------------------------------\n",
      "Рецепт #18408 (76 предложений):\n",
      "this wonderful icing is used for icing cakes and cookies as well as for borders and art work on cakes.  it makes a delicious filling also between the layers of cakes and under fondant icing.  you can make roses but it takes 3 or more days to dry them depending on the humidity. \r\n",
      "\r\n",
      "there are many versions of “buttercream” icing. some are made with eggs and all butter.  some varieties, you have to cook your sugar to a softball stage.  others are 100% shortening or a combination of shortening and butter.\r\n",
      "\r\n",
      "each decorator has his or her favorite.  i personally think that the best taste and textured recipe is the one that has you cook your sugar, add to whipped eggs and use pounds of butter per batch. but…. i live in a state that can easily be a 100 degrees for days on end during the summer and you know what butter does on hot days.  it melts!  a greasy puddle of melted icing on a cake plate is not something i want to look at or eat.  \r\n",
      "\r\n",
      "your top notch decorators have a few options we don’t.  they have huge refrigerators to store their cakes in, and refrigerated vehicles that they can use to deliver decorated cakes. i even know a few that refuse to deliver at all. if you want their cake, you come and get it and it’s your responsibility if it melts.  these decorators don’t even turn on their ovens for a wedding cake for less than $2000.  \r\n",
      "\r\n",
      "the following recipes for buttercream icing hold up pretty well in the heat and humidity, but if you know that your cake will be out in very high temperatures, then don’t use any butter and use only a high quality shortening.  \r\n",
      "\r\n",
      "shortening:  \r\n",
      "\r\n",
      "solid shortenings definitely have their place in baking. so i’m going to talk taste tests. crisco is the hands down winner. it has a clean taste with the melting point of 106 degrees. butter melts somewhere between 88 and 98 degrees f. depending on the amount of fat in the brand.  you can see that if you need to serve a pure buttercream decorated cake, on a hot august afternoon, you could have melted roses (and i do mean greasy puddles) on the tablecloth. this is when a good quality shortening will be a great blessing. i have been told by decorator friends that some of the warehouse brand shortenings leave a grainy consistency to the icing no matter what you do.  \r\n",
      "\r\n",
      "powdered (confectioner's) sugar:  \r\n",
      "\r\n",
      "regarding powdered sugar. please use a cane sugar. i prefer c&h powdered (confectioners) sugar.  many of the cheaper brands use sugar beets for their base.  i don’t know the chemistry behind it but you definitely get different textures to your icing that can vary from batch to batch.  i spent a few months being very frustrated with the quality of my icing until a kind lady did a bit of trouble shooting for me. she recommended the cane sugar and i’ve been blessing her ever since.\r\n",
      "\r\n",
      "top-quality brands:  \r\n",
      "\r\n",
      "please be safe, buy a quality brands and then stick with it for the best results. a friend of mine, who is a wonderful cook and baker, travels a lot and she often prepares treats for her hosts. she’s learned to ask the host to have her favorite shortening and flour on hand. she has even made up a little makeup type case that carries her favorite extracts and precious spices. that way she knows what she is working with, how it handles, and what tastes she can expect for the finished product. some surprises are not pleasant. \r\n",
      "\r\n",
      "storing buttercream icing: \r\n",
      "\r\n",
      "if you are not going to be using the icing right away, place it in a clean, sealable bowl. store it in the refrigerator but please don’t place it next to the marinating salmon, garlic or broccoli.  you do not want those flavors in your icing!  i like to use my icing within a few days but it will hold in the cold refrigerator for a couple of weeks if necessary.  \r\n",
      "\r\n",
      "i often make a double batch of icing the night before i have a baking project.  that way i know that i have plenty of icing, it’s fresh and i don’t have to make it while i’m in the middle of baking the cakes.  the extra can always be used for a batch of cupcakes.\r\n",
      "\r\n",
      "when you remove the icing from the refrigerator, you might notice that the icing has taken on a sponge like texture. do yourself a favor and place the icing in a bowl and mix by hand using a back and forth, smashing motion with a spoon or icing spatula. what you want to do is to smash the bubbles out of the icing. this extra step will help to give you the smoothest icing for a pretty top and sides of the cake. i have found that you will get an even better texture of icing if it is at room temperature before you try to do your icing.\r\n",
      "\r\n",
      "bad buttercream icing days:  \r\n",
      "\r\n",
      "one thing that seems very silly but is true. there are bad buttercream days! i’ve asked quite a few decorators about this and every one says “yes, there are lousy days”. i’m not sure what causes the problem. \r\n",
      "\r\n",
      "it could be that every human has bad days so they blame the buttercream. \r\n",
      "\r\n",
      "it may be the humidity or that there is a low pressure system hanging over your town. \r\n",
      "\r\n",
      "i just know why but it is a perceived fact. the way i have handled the problem is that i changed the decoration on the cake.  i couldn’t get the smooth top or sides as i originally planned. writing a greeting on a messy top would look awful so i changed the design idea and put flowers everywhere. i could have also done a basket weave technique around the sides. just go with the flow, and don’t get frustrated. aunt martha won’t chuck the cake at you if you don’t write her name on the top this time. remember that you are creating something that is to be eaten so have fun with it.  \r\n",
      "\r\n",
      "different mixers:\r\n",
      "\r\n",
      "if you have a heavy duty counter mixer, you can prepare a whole batch at one time.  if you are using a hand mixer, divide the recipe in half.  if you notice the mixer getting hot, please stop and let the machine cool off.\r\n",
      "\r\n",
      "i also prefer to mix the buttercream on a low setting. it seems that the higher setting do the job faster but you also will get a spongy texture to the icing. i don’t want that quality in my final ice coating or flowers on the cake. \r\n",
      "\r\n",
      "using weight scales:\r\n",
      "\r\n",
      "1 cup of crisco weighs 6 ounces.  \r\n",
      "\r\n",
      "i put a piece of wax paper on my scale and start plopping spoons of shortening on until i get the desired weight. it really saves on the cleanup.  \r\n",
      "\r\n",
      "\r\n",
      "\r\n",
      "recipe from peggy at whatscookingamerica.net\n",
      "\n",
      "---------------------------------------------------------------------------\n",
      "Рецепт #481 (27 предложений):\n",
      "a translucent golden-brown crust allows the green of the avocado to be seen.  the crispy exterior is a counterpoint to the unctuous interior.  these are a signature dish for me, and the one i most often get requests to make (although my seafood and ricotta stuffed buckwheat pancakes run a close second).\r\n",
      "\r\n",
      "these fritters came about ten years ago when i was shopping for a dinner i was making for a friend who is a cia-trained chef.  i was in a vegetable market and saw these gorgeous avocados that i just knew would be ripe in the next two days.  i tried to think of what i could do with them since a) everyone serves cold avocado, and b) i really am not fond of guacamole.  as i tried to think of what i could make with them that was hot, the work 'fritters' jumped into my head.  having never made a fritter before, i was a little surprised to have that thought; but having never known when a vegetable was going to be ripe before i figured i was on a roll and decided to go for it.\r\n",
      "\r\n",
      "to serve with my never-before-tried-fritters, i decided to make a crème fraîche-lime-cayenne dipping sauce.  so i made fresh crème fraîche, and used it as a base not only for this dip, but for a tia maria sauce to go with the flourless chocolate cake i made for dessert (another never-before made item, but with the recipe from cook's illustrated it was the only thing i wasn't making up as i went along).\r\n",
      "\r\n",
      "the result of the fritters was that i got to taste the test fritter, then had to dive across the couch before the last one was devoured in order to have a second.\r\n",
      "\r\n",
      "the one evolution in the recipe is the change from cayenne to chipotle in the dip.  i like the smokiness, and it gives a rough edge to something very smooth - i am all about contrast.  feel free to use whatever chile or combination thereof that you like best.  this dip is easy and stands on it's own at a party for anything you want to dip into it.  i have also made it with vegan sour cream with great results.\r\n",
      "\r\n",
      "the name alligator claws comes from an alternate name for the avocado: the alligator pear, as well as the fact that the wedges of avocado look like claws.\r\n",
      "\r\n",
      "(for those not familiar with the name alligator pear, it derives from both the tough, textured exterior - reminiscent of an alligator's hide, and the fact that you really can't eat one until it softens - just like a pear.)\r\n",
      "\r\n",
      "alligator claws are also a great name to call them if you have kids who either won't eat anything that sounds weird and you want to keep them to yourself, or - if you want your kids to eat them - if you have kids who'll only eat things that will gross other people out.\r\n",
      "\r\n",
      "if you are preparing these for kids (and i recommend you do whatever name you choose to call them), protect their palates and tone down the heat of the sauce.  maybe skip the chiles altogether and put in just a hint of finely ground pepper (white pepper won't look like black specks throughout the dip - i'm normally not that fussy, but it's something kids will notice).\r\n",
      "\r\n",
      "allow half an avocado per person.  this is so rich that more is too much.\r\n",
      "\r\n",
      "note:\r\n",
      "you can easily cut the recipe in half, all the batter is is a one-to-one mix of flour & water (someone has suggested trying tempura batter which comes in a mix at many supermarkets - i tend to be a from-scratch kind of guy.  or do i just mean itchy?).\r\n",
      "\r\n",
      "enjoy.\r\n",
      "\r\n",
      "-- text by michael david winter, aka the poker roach\n",
      "\n",
      "---------------------------------------------------------------------------\n",
      "Рецепт #22566 (24 предложений):\n",
      "this is one of the best soups i've ever made and it is even worthy of company.  so simple, yet rich in deep, mushroomy flavor.  the inspiration was zaar #26877, a delicious mushroom rice casserole.  i found i couldn't stop eating the liquid before putting the casserole into the oven and that gave me the idea that the base  would make a delicious soup.  and it does! \r\n",
      "use plenty of fresh mushrooms.  i buy them when they are marked 1/2 price at the grocery, as this is a good way to use your 'shrooms that are starting to get dark.  it is the soy sauce that transforms the broth from ho-hum to yum.  i try to use low sodium or home-made no sodium chicken broth so that i can use the soy for the sodium.  there is no sense of \"asian\" in this soup at all.  ( i would not make this without the soy. )  just a little bit adds the depth of flavor and even color that transforms the soup.\r\n",
      "\r\n",
      "notes:\r\n",
      "1. if you want to make it into \"cream of\" just add some evaporated milk...delicious. \r\n",
      "\r\n",
      "2.  once i broke up a leftover ground sirloin burger into my soup bowl and nuked it...was that ever good.\r\n",
      "\r\n",
      "3. i did do this recipe with sinewy beef scraps cut from a roast once.  i browned the beef in the bottom of the pan, added the butter and onions and continued as written.  the beef added great color and flavor.  in this case, i threw the beef piece away, because it had too much sinew, but it was a great addition!  i ended up using less soy.\r\n",
      "\r\n",
      "4.  i have eye-ball made this soup with amounts i had in the fridge/cupboard and it was great.  so if you don't have that many mushrooms, make it anyway, just keep tasting it until it tastes good to you! \r\n",
      "\r\n",
      "5.  i've made it without food-processing the onions, and that worked just as well.\r\n",
      "\r\n",
      " lots of flexibility here!  try it, it might be the best barley mushroom soup you've ever had!\n",
      "\n",
      "---------------------------------------------------------------------------\n",
      "Рецепт #6779 (23 предложений):\n",
      "i wrote this because there are an astounding lack of chocolate tea recipes on the internet. \r\n",
      "\r\n",
      " the first time i heard about chocolate tea was doing a web search on chocolate. there seem to be a few companies out there who sell chocolate tea. i like to stay up late and had run out of coffee. i was in real need for a good tasting caffene beverage. i first thought chocolate tea would be yucky. we are conditioned to accept chocolate with coffee as a rule but not tea. i was very mistaken! \r\n",
      "\r\n",
      " tea and chocolate goes very well with each other and it is also very good for your body. both tea and chocolate are loaded with antioxidents. you may however not want to give this to small children because of the caffene. \r\n",
      "\r\n",
      " not having a recipe to follow, i created one. (this one) i used these ingredients because i had them on hand and it was quicker than hunting around for my pepermint extract or messing with my powered cocoa.\r\n",
      "\r\n",
      " this being said, if you do want to use powered cocoa or pepermint extract instead of the ovaltine and lifesavers please do so. experiment. this recipe is \"opensource\" :-)\r\n",
      "\r\n",
      " you will have to adjust the sugar levels to taste. if you like you can even omit the mints. i used them and i find it gives the beverage that spceial something.\r\n",
      "\r\n",
      "this recipe makes one large coffee cup of beverage.\r\n",
      "\r\n",
      "if you use regular size coffee cups you may get two servings out of this if serving each person one serving each.\r\n",
      "\r\n",
      "to serve 1 serving each to 2 or 3 people using large coffee cups, double or tripple the recipie accodingly\r\n",
      "\r\n",
      "enjoy !\r\n",
      "\r\n",
      "please let me klnow if you like it! :-)\n",
      "\n",
      "---------------------------------------------------------------------------\n",
      "Рецепт #16296 (23 предложений):\n",
      "the first time i made this cake i grated a million pounds of carrots on a knucklebuster.  then they invented cuisinarts!  now it is much faster to shred the carrots on a fine shredding disk and no bloody knuckles!  i have baked it in 8\", 9\", 9x13\" pans so if you want to experiment with pan size it works.  one thing i found was baking and stacking the three layers is tricky.  my favorite way is two 8\" pans for a nice layer cake and an 8\" square pan to put into the freezer for unexpected company. i hope you try this wonderful cake.  update:  in the spirit of carrot cake stories, this cake was invented by a bunny named foo-foo.  he is very famous and even has a hit song which goes like this: sing to the tune of 'down by the station'..........     \r\n",
      "\r\n",
      "\r\n",
      " little bunny foo foo,\r\n",
      "hopping through the forest,\r\n",
      "scooping up the field mice,\r\n",
      "and boppin' 'em on the head.\r\n",
      "\r\n",
      "down came the good fairy and she said - \r\n",
      "\r\n",
      "\"little bunny foo foo,\r\n",
      "i don't want to see you,\r\n",
      "scooping up the field mice,\r\n",
      "and boppin' 'em on the head.\r\n",
      "i'll give you three chances,\r\n",
      "and if you don't behave ...\r\n",
      "i'll turn you into a goon!\"\r\n",
      "\r\n",
      "the next day:\r\n",
      "\r\n",
      "little bunny foo foo,\r\n",
      "hopping through the forest,\r\n",
      "scooping up the field mice,\r\n",
      "and boppin' 'em on the head.\r\n",
      "\r\n",
      "down came the good fairy and she said:\r\n",
      "\r\n",
      "\"little bunny foo foo,\r\n",
      "i don't want to see you.\r\n",
      "scooping up the field mice.\r\n",
      "and boppin' 'em on the head.\r\n",
      "i'll give you two more chances,\r\n",
      "and if you don't behave...\r\n",
      "i'll turn you into a goon!\"\r\n",
      "\r\n",
      "the next day:\r\n",
      "\r\n",
      "little bunny foo foo,\r\n",
      "hopping through the forest,\r\n",
      "scooping up the field mice,\r\n",
      "and boppin' 'em on the head.\r\n",
      "\r\n",
      "down came the good fairy and she said:\r\n",
      "\r\n",
      "\"little bunny foo foo,\r\n",
      "i don't want to see you,\r\n",
      "scooping up the field mice,\r\n",
      "and boppin' 'em on the head.\r\n",
      "i'll give you one more chance,\r\n",
      "and if you don't behave..........\r\n",
      "i'll turn you into a goon!\"\r\n",
      "\r\n",
      "the next day:\r\n",
      "\r\n",
      "little bunny foo foo,\r\n",
      "hopping through the forest,\r\n",
      "scooping up the field mice,\r\n",
      "and boppin' 'em on the head,\r\n",
      "\r\n",
      "down came the good fairy and she said\r\n",
      "\r\n",
      "\"little bunny foo foo,\r\n",
      "i don't want to see you,\r\n",
      "scooping up the field mice,\r\n",
      "and boppin' 'em on the head.\r\n",
      "i gave you three chances\r\n",
      "and you didn't behave\r\n",
      "now you're a goon! poof!!\"\r\n",
      "\r\n",
      "the moral of the story is:\r\n",
      "hare today, goon tomorrow\n"
     ]
    }
   ],
   "source": [
    "from nltk.tokenize import sent_tokenize\n",
    "import xml.etree.ElementTree as ET\n",
    "import pandas as pd\n",
    "\n",
    "def tokenize_to_sentences(text):\n",
    "    sentences = sent_tokenize(text)\n",
    "    return sentences\n",
    "\n",
    "\n",
    "recipes = pd.read_csv('recipes_sample.csv', header=0)\n",
    "\n",
    "# Разбиение всех значений в столбце description на их предложения, преобразование в их количество и получение пяти записей с наибольшими значеняими\n",
    "longest = recipes.loc[recipes['description'].apply(lambda x: isinstance(x, str))]['description'].apply(tokenize_to_sentences).apply(len).nlargest(5)\n",
    "# print(longest)\n",
    "\n",
    "for idx, num_sentences in longest.items():\n",
    "    description = recipes.iloc[idx]['description']\n",
    "    print(f\"---------------------------------------------------------------------------\"\n",
    "          f\"\\nРецепт #{idx} ({num_sentences} предложений):\\n{description}\\n\")"
   ],
   "metadata": {
    "collapsed": false,
    "ExecuteTime": {
     "end_time": "2024-05-20T21:55:29.699554900Z",
     "start_time": "2024-05-20T21:55:28.329685400Z"
    }
   }
  },
  {
   "cell_type": "markdown",
   "metadata": {},
   "source": [
    "8\\. Напишите функцию, которая для заданного предложения выводит информацию о частях речи слов, входящих в предложение, в следующем виде:\n",
    "```\n",
    "PRP   VBD   DT      NNS     CC   VBD      NNS        RB   \n",
    " I  omitted the raspberries and added strawberries instead\n",
    "``` \n",
    "Для определения части речи слова можно воспользоваться `nltk.pos_tag`.\n",
    "\n",
    "Проверьте работоспособность функции на названии рецепта с id 241106.\n",
    "\n",
    "Обратите внимание, что часть речи должна находиться ровно посередине над соответствующим словом, а между самими словами должен быть ровно один пробел.\n"
   ]
  },
  {
   "cell_type": "code",
   "execution_count": 16,
   "metadata": {
    "ExecuteTime": {
     "end_time": "2024-05-20T22:11:01.065144900Z",
     "start_time": "2024-05-20T22:11:00.966148800Z"
    }
   },
   "outputs": [
    {
     "name": "stdout",
     "output_type": "stream",
     "text": [
      "JJ   NNS  IN   NNS  VBP  JJ   CC   JJ   NNS  \n",
      "eggplant steaks with chickpeas feta cheese and black olives \n"
     ]
    }
   ],
   "source": [
    "import nltk\n",
    "from nltk.tokenize import word_tokenize\n",
    "from nltk import pos_tag\n",
    "\n",
    "def pos_tag_sentence(sentence):\n",
    "    tokens = word_tokenize(sentence)\n",
    "    pos_tags = pos_tag(tokens)\n",
    "    return pos_tags\n",
    "\n",
    "try:\n",
    "    pos_tag_sentence('')\n",
    "except LookupError:\n",
    "    import nltk\n",
    "    nltk.download('averaged_perceptron_tagger')\n",
    "\n",
    "def process(pos_tags):\n",
    "    output = \"\"\n",
    "    for token, pos_tag in pos_tags:\n",
    "        output += f\"{pos_tag:<5}\"\n",
    "    output += \"\\n\"\n",
    "    \n",
    "    for token, _ in pos_tags:\n",
    "        output += f\"{token} \"\n",
    "    \n",
    "    return output\n",
    "\n",
    "\n",
    "recipe_id = 241106\n",
    "recipes = pd.read_csv('recipes_sample.csv', header=0)\n",
    "recipe_data = recipes[recipes['id'] == recipe_id]\n",
    "\n",
    "print(process(pos_tag_sentence(recipe_data['name'].values[0])))"
   ]
  },
  {
   "cell_type": "code",
   "execution_count": null,
   "outputs": [],
   "source": [],
   "metadata": {
    "collapsed": false
   }
  }
 ],
 "metadata": {
  "kernelspec": {
   "display_name": "Python 3 (ipykernel)",
   "language": "python",
   "name": "python3"
  },
  "language_info": {
   "codemirror_mode": {
    "name": "ipython",
    "version": 3
   },
   "file_extension": ".py",
   "mimetype": "text/x-python",
   "name": "python",
   "nbconvert_exporter": "python",
   "pygments_lexer": "ipython3",
   "version": "3.10.9"
  }
 },
 "nbformat": 4,
 "nbformat_minor": 4
}
