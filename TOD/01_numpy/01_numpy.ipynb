{
 "cells": [
  {
   "cell_type": "markdown",
   "metadata": {},
   "source": [
    "# Numpy"
   ]
  },
  {
   "cell_type": "markdown",
   "metadata": {},
   "source": [
    "Материалы:\n",
    "* Макрушин С.В. \"Лекция 1: Библиотека Numpy\"\n",
    "* https://numpy.org/doc/stable/user/index.html\n",
    "* https://numpy.org/doc/stable/reference/index.html"
   ]
  },
  {
   "cell_type": "markdown",
   "metadata": {},
   "source": [
    "## Задачи для совместного разбора"
   ]
  },
  {
   "cell_type": "markdown",
   "metadata": {},
   "source": [
    "1. Сгенерировать двухмерный массив `arr` размерности (4, 7), состоящий из случайных действительных чисел, равномерно распределенных в диапазоне от 0 до 20. \n",
    "Нормализовать значения массива с помощью преобразования вида  $𝑎𝑥+𝑏$  так, что после нормализации максимальный элемент масcива будет равен 1.0, минимальный 0.0"
   ]
  },
  {
   "cell_type": "code",
   "execution_count": 28,
   "metadata": {
    "ExecuteTime": {
     "end_time": "2024-03-18T22:40:54.919358800Z",
     "start_time": "2024-03-18T22:40:54.751354300Z"
    }
   },
   "outputs": [
    {
     "name": "stdout",
     "output_type": "stream",
     "text": [
      "[[ 6.32655459 13.83837785  1.8797996   5.95219686 19.69152927 11.90071601\n",
      "  15.70394201]\n",
      " [ 1.01352527  2.07735401 12.41408285 16.68371782 11.40995394 14.10805484\n",
      "   9.39099244]\n",
      " [ 0.8487023  10.36419498  4.22168784 18.63647808 10.6723228  12.34905137\n",
      "  17.51258108]\n",
      " [10.14767113 18.96522547 13.47634863 11.91798959 15.10374077  7.42633724\n",
      "   0.79475193]]\n",
      "\n",
      "[[0.32128305 0.7027579  0.09546235 0.30227195 1.         0.60435712\n",
      "  0.79749733]\n",
      " [0.05147011 0.1054948  0.63042757 0.84725354 0.57943463 0.71645298\n",
      "  0.47690519]\n",
      " [0.04309987 0.52632758 0.21439106 0.94642106 0.54197532 0.62712505\n",
      "  0.88934591]\n",
      " [0.5153318  0.96311593 0.68437288 0.60523433 0.76701716 0.3771336\n",
      "  0.04036009]]\n"
     ]
    }
   ],
   "source": [
    "import numpy as np\n",
    "\n",
    "arr = np.random.uniform(low=0, high=20, size=(4, 7))\n",
    "print(arr, end='\\n\\n')\n",
    "\n",
    "maxVal = np.max(arr)\n",
    "arr = arr / maxVal\n",
    "print(arr)"
   ]
  },
  {
   "cell_type": "markdown",
   "metadata": {},
   "source": [
    "2. Создать матрицу 8 на 10 из случайных целых (используя модуль `numpy.random`) чисел из диапозона от 0 до 10 и найти в ней строку (ее индекс и вывести саму строку), в которой сумма значений минимальна."
   ]
  },
  {
   "cell_type": "code",
   "execution_count": 29,
   "metadata": {
    "ExecuteTime": {
     "end_time": "2024-03-18T22:40:54.933359Z",
     "start_time": "2024-03-18T22:40:54.771354400Z"
    }
   },
   "outputs": [
    {
     "name": "stdout",
     "output_type": "stream",
     "text": [
      "[[3.98659369 5.09488619 8.62029679 0.45769334 7.29556084 8.75229486\n",
      "  6.50910512 4.66456078 1.58616394 7.25454189]\n",
      " [7.47842765 2.40053915 6.72622773 4.91632766 9.84336928 3.14787864\n",
      "  1.08199833 5.63807082 0.07145365 2.59167406]\n",
      " [2.7771402  5.87160426 0.63320307 5.36379471 6.61618471 5.2412175\n",
      "  1.40598672 1.78366209 5.72271418 8.53623807]\n",
      " [2.43137493 2.89748263 6.59435723 3.12175601 2.49043347 2.15515595\n",
      "  5.97499599 6.59054795 1.86479364 1.63411652]\n",
      " [6.43668829 2.0590438  3.48784659 9.69877783 1.8036225  8.52446311\n",
      "  9.29973617 8.99632542 9.6914706  8.40323483]\n",
      " [4.37056129 8.52049674 5.31615763 2.51377643 1.10043514 6.24129201\n",
      "  5.09058317 0.46355876 8.81775116 8.99159872]\n",
      " [2.05679629 9.06587197 4.49380484 0.37325471 4.20015258 9.24081722\n",
      "  2.78768367 2.96762116 6.41761521 4.19243524]\n",
      " [4.56513308 4.2402912  9.78486223 9.20689262 6.12802993 1.9377933\n",
      "  3.97116198 7.57480141 8.00583221 4.39686095]]\n",
      "\n",
      "4\n",
      "[6.43668829 2.0590438  3.48784659 9.69877783 1.8036225  8.52446311\n",
      " 9.29973617 8.99632542 9.6914706  8.40323483]\n"
     ]
    }
   ],
   "source": [
    "import numpy as np\n",
    "\n",
    "arr = np.random.uniform(low=0, high=10, size=(8, 10))\n",
    "print(arr, end='\\n\\n')\n",
    "\n",
    "maxVal = -1\n",
    "index = -1\n",
    "for i in range(len(arr)):\n",
    "    sumVal = sum(arr[i])\n",
    "    if sumVal > maxVal:\n",
    "        maxVal = sumVal\n",
    "        index = i\n",
    "\n",
    "print(index)\n",
    "print(arr[index])\n"
   ]
  },
  {
   "cell_type": "markdown",
   "metadata": {},
   "source": [
    "3. Найти евклидово расстояние между двумя одномерными векторами одинаковой размерности."
   ]
  },
  {
   "cell_type": "markdown",
   "metadata": {},
   "source": [
    "4. Решить матричное уравнение `A*X*B=-C` - найти матрицу `X`. Где `A = [[-1, 2, 4], [-3, 1, 2], [-3, 0, 1]]`, `B=[[3, -1], [2, 1]]`, `C=[[7, 21], [11, 8], [8, 4]]`."
   ]
  },
  {
   "cell_type": "code",
   "execution_count": 30,
   "metadata": {
    "ExecuteTime": {
     "end_time": "2024-03-18T22:40:54.944358700Z",
     "start_time": "2024-03-18T22:40:54.784353800Z"
    }
   },
   "outputs": [
    {
     "name": "stdout",
     "output_type": "stream",
     "text": [
      "[[ 1.00000000e+00  5.32907052e-16]\n",
      " [-2.00000000e+00  1.00000000e+00]\n",
      " [ 3.00000000e+00 -4.00000000e+00]]\n"
     ]
    }
   ],
   "source": [
    "import numpy as np\n",
    "\n",
    "a = np.array([[-1, 2, 4], [-3, 1, 2], [-3, 0, 1]])\n",
    "b = np.array([[3, -1], [2, 1]])\n",
    "c = np.array([[7, 21], [11, 8], [8, 4]])\n",
    "\n",
    "x = np.dot(np.dot(np.linalg.inv(a), -1 * c), np.linalg.inv(b))\n",
    "print(x)"
   ]
  },
  {
   "cell_type": "markdown",
   "metadata": {},
   "source": [
    "## Лабораторная работа №1"
   ]
  },
  {
   "cell_type": "markdown",
   "metadata": {},
   "source": [
    "Замечание: при решении данных задач не подразумевается использования циклов или генераторов Python, если в задании не сказано обратного. Решение должно опираться на использования функционала библиотеки `numpy`."
   ]
  },
  {
   "cell_type": "markdown",
   "metadata": {},
   "source": [
    "1. Файл `minutes_n_ingredients.csv` содержит информацию об идентификаторе рецепта, времени его выполнения в минутах и количестве необходимых ингредиентов. Считайте данные из этого файла в виде массива `numpy` типа `int32`, используя `np.loadtxt`. Выведите на экран первые 5 строк массива."
   ]
  },
  {
   "cell_type": "code",
   "execution_count": 31,
   "metadata": {
    "ExecuteTime": {
     "end_time": "2024-03-18T22:40:54.972357400Z",
     "start_time": "2024-03-18T22:40:54.801353300Z"
    }
   },
   "outputs": [
    {
     "name": "stdout",
     "output_type": "stream",
     "text": [
      "[127244     60     16]\n",
      "[23891    25     7]\n",
      "[94746    10     6]\n",
      "[67660     5     6]\n",
      "[157911     60     14]\n"
     ]
    }
   ],
   "source": [
    "import numpy as np\n",
    "\n",
    "arr = np.loadtxt('minutes_n_ingredients.csv', delimiter=',', dtype=np.int32, skiprows=1)\n",
    "for i in range(5):\n",
    "    print(arr[i])"
   ]
  },
  {
   "cell_type": "markdown",
   "metadata": {},
   "source": [
    "2. Вычислите среднее значение, минимум, максимум и медиану по каждому из столбцов, кроме первого."
   ]
  },
  {
   "cell_type": "code",
   "execution_count": 32,
   "metadata": {
    "ExecuteTime": {
     "end_time": "2024-03-18T22:40:55.002359700Z",
     "start_time": "2024-03-18T22:40:54.862354100Z"
    }
   },
   "outputs": [
    {
     "name": "stdout",
     "output_type": "stream",
     "text": [
      "Minutes column: Min: 0, Max: 2147483647, Median: 21601.00169\n",
      "N_ingredients column: Min: 1, Max: 39, Median: 9.05528\n"
     ]
    }
   ],
   "source": [
    "import numpy as np\n",
    "\n",
    "arr = np.loadtxt('minutes_n_ingredients.csv', delimiter=',', dtype=np.int32, skiprows=1)\n",
    "s1 = np.int64(0)\n",
    "s2 = np.int64(0)\n",
    "c = 0\n",
    "mi1 = arr[0][1]\n",
    "mi2 = arr[0][2]\n",
    "ma1 = arr[0][1]\n",
    "ma2 = arr[0][2]\n",
    "\n",
    "for i in arr:\n",
    "    s1 += i[1]\n",
    "    s2 += i[2]\n",
    "    if mi1 > i[1]:\n",
    "        mi1 = i[1]\n",
    "    if mi2 > i[2]:\n",
    "        mi2 = i[2]\n",
    "    if ma1 < i[1]:\n",
    "        ma1 = i[1]\n",
    "    if ma2 < i[2]:\n",
    "        ma2 = i[2]\n",
    "    c += 1\n",
    "\n",
    "print(f'Minutes column: Min: {mi1}, Max: {ma1}, Median: {s1 / c}')\n",
    "print(f'N_ingredients column: Min: {mi2}, Max: {ma2}, Median: {s2 / c}')"
   ]
  },
  {
   "cell_type": "code",
   "execution_count": 33,
   "metadata": {
    "ExecuteTime": {
     "end_time": "2024-03-18T22:40:55.054361800Z",
     "start_time": "2024-03-18T22:40:54.989360300Z"
    }
   },
   "outputs": [
    {
     "name": "stdout",
     "output_type": "stream",
     "text": [
      "Minutes column: Min: 0, Max: 2147483647, Median: 21601.00169\n",
      "N_ingredients column: Min: 1, Max: 39, Median: 9.05528\n"
     ]
    }
   ],
   "source": [
    "import numpy as np\n",
    "\n",
    "arr = np.loadtxt('minutes_n_ingredients.csv', delimiter=',', dtype=np.int32, skiprows=1)\n",
    "\n",
    "tr = arr.transpose()\n",
    "print(f'Minutes column: Min: {np.min(tr[1])}, Max: {np.max(tr[1])}, Median: {np.mean(tr[1])}')\n",
    "print(f'N_ingredients column: Min: {np.min(tr[2])}, Max: {np.max(tr[2])}, Median: {np.mean(tr[2])}')"
   ]
  },
  {
   "cell_type": "markdown",
   "metadata": {},
   "source": [
    "3. Ограничьте сверху значения продолжительности выполнения рецепта значением квантиля $q_{0.75}$. "
   ]
  },
  {
   "cell_type": "code",
   "execution_count": 34,
   "metadata": {
    "ExecuteTime": {
     "end_time": "2024-03-18T22:40:55.063362300Z",
     "start_time": "2024-03-18T22:40:55.050361600Z"
    }
   },
   "outputs": [
    {
     "name": "stdout",
     "output_type": "stream",
     "text": [
      "[[60]\n",
      " [25]\n",
      " [10]\n",
      " ...\n",
      " [35]\n",
      " [65]\n",
      " [ 5]]\n"
     ]
    }
   ],
   "source": [
    "# Квантиль - разделитель упорядоченной выборки на равные части\n",
    "qraw = 0.75\n",
    "\n",
    "minutes = np.array(arr[:, 1])\n",
    "q = np.quantile(minutes, qraw)\n",
    "minutes = minutes[minutes <= q].reshape(-1, 1)\n",
    "print(minutes)"
   ]
  },
  {
   "cell_type": "markdown",
   "metadata": {},
   "source": [
    "4. Посчитайте, для скольких рецептов указана продолжительность, равная нулю. Замените для таких строк значение в данном столбце на 1."
   ]
  },
  {
   "cell_type": "code",
   "execution_count": 35,
   "metadata": {
    "ExecuteTime": {
     "end_time": "2024-03-18T22:40:55.126360Z",
     "start_time": "2024-03-18T22:40:55.065360200Z"
    }
   },
   "outputs": [
    {
     "name": "stdout",
     "output_type": "stream",
     "text": [
      "Число таких рецептов: 479\n",
      "Обновлённая версия:\n",
      "[[127244     60     16]\n",
      " [ 23891     25      7]\n",
      " [ 94746     10      6]\n",
      " ...\n",
      " [498432     65     15]\n",
      " [370915      5      4]\n",
      " [ 81993    140     14]]\n"
     ]
    }
   ],
   "source": [
    "import numpy as np\n",
    "\n",
    "arr = np.loadtxt('minutes_n_ingredients.csv', delimiter=',', dtype=np.int32, skiprows=1)\n",
    "\n",
    "column = arr[:, 1]\n",
    "\n",
    "print(f'Число таких рецептов: {len(column[column == 0])}')\n",
    "column[column == 0] = 1\n",
    "\n",
    "print(f'Обновлённая версия:\\n{arr}')"
   ]
  },
  {
   "cell_type": "markdown",
   "metadata": {},
   "source": [
    "\n",
    "5. Посчитайте, сколько уникальных рецептов находится в датасете."
   ]
  },
  {
   "cell_type": "code",
   "execution_count": 36,
   "metadata": {
    "ExecuteTime": {
     "end_time": "2024-03-18T22:40:55.185357700Z",
     "start_time": "2024-03-18T22:40:55.128362Z"
    }
   },
   "outputs": [
    {
     "name": "stdout",
     "output_type": "stream",
     "text": [
      "100000\n"
     ]
    }
   ],
   "source": [
    "import numpy as np\n",
    "\n",
    "arr = np.loadtxt('minutes_n_ingredients.csv', delimiter=',', dtype=np.int32, skiprows=1)\n",
    "# По первому столбцу, id\n",
    "print(np.unique(arr[:, 0]).size)"
   ]
  },
  {
   "cell_type": "markdown",
   "metadata": {},
   "source": [
    "6. Сколько и каких различных значений кол-ва ингредиентов присутвует в рецептах из датасета?"
   ]
  },
  {
   "cell_type": "code",
   "execution_count": 37,
   "metadata": {
    "ExecuteTime": {
     "end_time": "2024-03-18T22:40:55.246357900Z",
     "start_time": "2024-03-18T22:40:55.188357200Z"
    }
   },
   "outputs": [
    {
     "name": "stdout",
     "output_type": "stream",
     "text": [
      "37 уникальных:\n",
      "[ 1  2  3  4  5  6  7  8  9 10 11 12 13 14 15 16 17 18 19 20 21 22 23 24\n",
      " 25 26 27 28 29 30 31 32 33 34 35 37 39]\n"
     ]
    }
   ],
   "source": [
    "import numpy as np\n",
    "\n",
    "arr = np.loadtxt('minutes_n_ingredients.csv', delimiter=',', dtype=np.int32, skiprows=1)\n",
    "# По первому столбцу\n",
    "print(f'{np.unique(arr[:, 2]).size} уникальных:')\n",
    "print(np.unique(arr[:, 2]))"
   ]
  },
  {
   "cell_type": "markdown",
   "metadata": {},
   "source": [
    "7. Создайте версию массива, содержащую информацию только о рецептах, состоящих не более чем из 5 ингредиентов."
   ]
  },
  {
   "cell_type": "code",
   "execution_count": 38,
   "metadata": {
    "ExecuteTime": {
     "end_time": "2024-03-18T22:40:55.289364500Z",
     "start_time": "2024-03-18T22:40:55.247357Z"
    }
   },
   "outputs": [
    {
     "name": "stdout",
     "output_type": "stream",
     "text": [
      "[[446597     15      5]\n",
      " [204134      5      3]\n",
      " [ 25623      6      4]\n",
      " ...\n",
      " [ 52088     60      5]\n",
      " [128811     15      4]\n",
      " [370915      5      4]]\n"
     ]
    }
   ],
   "source": [
    "print(arr[arr[:, 2] <= 5])"
   ]
  },
  {
   "cell_type": "markdown",
   "metadata": {},
   "source": [
    "8. Для каждого рецепта посчитайте, сколько в среднем ингредиентов приходится на одну минуту рецепта. Найдите максимальное значение этой величины для всего датасета"
   ]
  },
  {
   "cell_type": "code",
   "execution_count": 39,
   "outputs": [
    {
     "name": "stdout",
     "output_type": "stream",
     "text": [
      "В среднем ингредиентов приходится на одну минуту рецепта: [0.26666667 0.28       0.6        ... 0.23076923 0.8        0.1       ]\n",
      "Максимальное число ингредиентов на минуту рецепта: 23.0\n"
     ]
    }
   ],
   "source": [
    "arr_w_easy_flag = arr[arr[:, 1] != 0]\n",
    "result = arr_w_easy_flag[:, 2] / arr_w_easy_flag[:, 1]\n",
    "print(f'В среднем ингредиентов приходится на одну минуту рецепта: {result}\\nМаксимальное число ингредиентов на минуту рецепта: {np.max(result)}')"
   ],
   "metadata": {
    "collapsed": false,
    "ExecuteTime": {
     "end_time": "2024-03-18T22:40:55.295364500Z",
     "start_time": "2024-03-18T22:40:55.262355500Z"
    }
   }
  },
  {
   "cell_type": "markdown",
   "metadata": {},
   "source": [
    "9. Вычислите среднее количество ингредиентов для топ-100 рецептов с наибольшей продолжительностью"
   ]
  },
  {
   "cell_type": "code",
   "execution_count": 40,
   "outputs": [
    {
     "name": "stdout",
     "output_type": "stream",
     "text": [
      "6.61\n"
     ]
    }
   ],
   "source": [
    "arr_w_easy_flag = arr[np.argsort(arr[:, 1])][::-1] # ascending\n",
    "top_100_n_ingredients = arr_w_easy_flag[:100, 2]\n",
    "print(np.sum(top_100_n_ingredients) / top_100_n_ingredients.size)"
   ],
   "metadata": {
    "collapsed": false,
    "ExecuteTime": {
     "end_time": "2024-03-18T22:40:55.296363700Z",
     "start_time": "2024-03-18T22:40:55.277364600Z"
    }
   }
  },
  {
   "cell_type": "markdown",
   "metadata": {},
   "source": [
    "10. Выберите случайным образом и выведите информацию о 10 различных рецептах"
   ]
  },
  {
   "cell_type": "code",
   "execution_count": 41,
   "outputs": [
    {
     "name": "stdout",
     "output_type": "stream",
     "text": [
      "[[326328     25      7]\n",
      " [115764    195     11]\n",
      " [172486     40      8]\n",
      " [501178     90     17]\n",
      " [306160     40      7]\n",
      " [424938     40      8]\n",
      " [521673    150     18]\n",
      " [ 37469     45      9]\n",
      " [284765     25      4]\n",
      " [237649    375     11]]\n"
     ]
    }
   ],
   "source": [
    "print(arr[np.random.randint(0, len(arr), 10)])"
   ],
   "metadata": {
    "collapsed": false,
    "ExecuteTime": {
     "end_time": "2024-03-18T22:40:55.306364900Z",
     "start_time": "2024-03-18T22:40:55.291365900Z"
    }
   }
  },
  {
   "cell_type": "markdown",
   "metadata": {},
   "source": [
    "11. Выведите процент рецептов, кол-во ингредиентов в которых меньше среднего."
   ]
  },
  {
   "cell_type": "code",
   "execution_count": 42,
   "outputs": [
    {
     "name": "stdout",
     "output_type": "stream",
     "text": [
      "48.217\n"
     ]
    }
   ],
   "source": [
    "n_ingredients = arr[:, 2]\n",
    "med = np.median(n_ingredients)\n",
    "percent = n_ingredients[n_ingredients < med].size / n_ingredients.size * 100\n",
    "print(percent)"
   ],
   "metadata": {
    "collapsed": false,
    "ExecuteTime": {
     "end_time": "2024-03-18T22:40:55.365365500Z",
     "start_time": "2024-03-18T22:40:55.307364100Z"
    }
   }
  },
  {
   "cell_type": "markdown",
   "metadata": {},
   "source": [
    "12. Назовем \"простым\" такой рецепт, длительность выполнения которого не больше 20 минут и кол-во ингредиентов в котором не больше 5. Создайте версию датасета с дополнительным столбцом, значениями которого являются 1, если рецепт простой, и 0 в противном случае."
   ]
  },
  {
   "cell_type": "code",
   "execution_count": 43,
   "outputs": [
    {
     "name": "stdout",
     "output_type": "stream",
     "text": [
      "[[127244     60     16      0]\n",
      " [ 23891     25      7      0]\n",
      " [ 94746     10      6      0]\n",
      " ...\n",
      " [498432     65     15      0]\n",
      " [370915      5      4      1]\n",
      " [ 81993    140     14      0]]\n"
     ]
    }
   ],
   "source": [
    "mask = (arr[:, 1] <= 20) & (arr[:, 2] <= 5)\n",
    "\n",
    "easy_recipe = np.arange(len(arr)).reshape(-1, 1)\n",
    "easy_recipe[mask] = 1\n",
    "# Обратная маска\n",
    "easy_recipe[~mask] = 0\n",
    "# Присоединить столбец вдоль существующей оси\n",
    "arr_w_easy_flag = np.concatenate((arr, easy_recipe), axis=1)\n",
    "print(arr_w_easy_flag)"
   ],
   "metadata": {
    "collapsed": false,
    "ExecuteTime": {
     "end_time": "2024-03-18T22:40:55.373365600Z",
     "start_time": "2024-03-18T22:40:55.323364500Z"
    }
   }
  },
  {
   "cell_type": "markdown",
   "metadata": {},
   "source": [
    "13. Выведите процент \"простых\" рецептов в датасете"
   ]
  },
  {
   "cell_type": "code",
   "execution_count": 44,
   "outputs": [
    {
     "name": "stdout",
     "output_type": "stream",
     "text": [
      "0.09552\n"
     ]
    }
   ],
   "source": [
    "last_column = np.array(arr_w_easy_flag[:, 3])\n",
    "percent = len(last_column[last_column == 1]) / len(arr_w_easy_flag)\n",
    "print(percent)"
   ],
   "metadata": {
    "collapsed": false,
    "ExecuteTime": {
     "end_time": "2024-03-18T22:40:55.373365600Z",
     "start_time": "2024-03-18T22:40:55.337364600Z"
    }
   }
  },
  {
   "cell_type": "markdown",
   "metadata": {},
   "source": [
    "14. Разделим рецепты на группы по следующему правилу. Назовем рецепты короткими, если их продолжительность составляет менее 10 минут; стандартными, если их продолжительность составляет более 10, но менее 20 минут; и длинными, если их продолжительность составляет не менее 20 минут. Создайте трехмерный массив, где нулевая ось отвечает за номер группы (короткий, стандартный или длинный рецепт), первая ось - за сам рецепт и вторая ось - за характеристики рецепта. Выберите максимальное количество рецептов из каждой группы таким образом, чтобы было возможно сформировать трехмерный массив. Выведите форму полученного массива."
   ]
  },
  {
   "cell_type": "code",
   "execution_count": 46,
   "metadata": {
    "ExecuteTime": {
     "end_time": "2024-03-18T22:45:36.434860800Z",
     "start_time": "2024-03-18T22:45:36.414863600Z"
    }
   },
   "outputs": [
    {
     "name": "stdout",
     "output_type": "stream",
     "text": [
      "(3, 79751, 3)\n"
     ]
    }
   ],
   "source": [
    "short_recipes = arr[arr[:, 1] < 10]\n",
    "standard_recipes = arr[(arr[:, 1] >= 10) & (arr[:, 1] < 20)]\n",
    "long_recipes = arr[arr[:, 1] >= 20]\n",
    "\n",
    "max_amount = max(short_recipes.shape[0], standard_recipes.shape[0], long_recipes.shape[0])\n",
    "\n",
    "# Трехмерный массив\n",
    "result = np.zeros((3, max_amount, arr.shape[1]))\n",
    "\n",
    "result[0, :short_recipes.shape[0]] = short_recipes[:max_amount]\n",
    "result[1, :standard_recipes.shape[0]] = standard_recipes[:max_amount]\n",
    "result[2, :long_recipes.shape[0]] = long_recipes[:max_amount]\n",
    "\n",
    "print(result.shape)"
   ]
  }
 ],
 "metadata": {
  "kernelspec": {
   "display_name": "Python 3 (ipykernel)",
   "language": "python",
   "name": "python3"
  },
  "language_info": {
   "codemirror_mode": {
    "name": "ipython",
    "version": 3
   },
   "file_extension": ".py",
   "mimetype": "text/x-python",
   "name": "python",
   "nbconvert_exporter": "python",
   "pygments_lexer": "ipython3",
   "version": "3.10.9"
  }
 },
 "nbformat": 4,
 "nbformat_minor": 4
}
