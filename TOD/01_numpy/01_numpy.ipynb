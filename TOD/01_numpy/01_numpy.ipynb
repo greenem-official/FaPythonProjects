{
 "cells": [
  {
   "cell_type": "markdown",
   "metadata": {},
   "source": [
    "# Numpy"
   ]
  },
  {
   "cell_type": "markdown",
   "metadata": {},
   "source": [
    "Материалы:\n",
    "* Макрушин С.В. \"Лекция 1: Библиотека Numpy\"\n",
    "* https://numpy.org/doc/stable/user/index.html\n",
    "* https://numpy.org/doc/stable/reference/index.html"
   ]
  },
  {
   "cell_type": "markdown",
   "metadata": {},
   "source": [
    "## Задачи для совместного разбора"
   ]
  },
  {
   "cell_type": "markdown",
   "metadata": {},
   "source": [
    "1. Сгенерировать двухмерный массив `arr` размерности (4, 7), состоящий из случайных действительных чисел, равномерно распределенных в диапазоне от 0 до 20. \n",
    "Нормализовать значения массива с помощью преобразования вида  $𝑎𝑥+𝑏$  так, что после нормализации максимальный элемент масcива будет равен 1.0, минимальный 0.0"
   ]
  },
  {
   "cell_type": "code",
   "execution_count": 3,
   "metadata": {
    "ExecuteTime": {
     "end_time": "2024-02-08T20:12:43.359698800Z",
     "start_time": "2024-02-08T20:12:43.344699200Z"
    }
   },
   "outputs": [
    {
     "name": "stdout",
     "output_type": "stream",
     "text": [
      "[[ 5.08227726  0.12822001 15.70024057  8.66892575  8.49247629  0.85771482\n",
      "  12.76478894]\n",
      " [19.76971737  7.83350996  9.91815074  7.28145622  5.20727668 19.38441295\n",
      "  13.28401729]\n",
      " [ 1.92922902 12.92634677 19.15433301 14.34685378 10.04396812  8.2776282\n",
      "   9.64962822]\n",
      " [ 5.46057769  1.18632886 18.05820566  5.38635766  1.4680205   5.01019661\n",
      "  11.81470175]]\n",
      "\n",
      "[[0.25707384 0.00648568 0.79415605 0.43849518 0.42956994 0.04338528\n",
      "  0.64567382]\n",
      " [1.         0.39623783 0.50168399 0.36831362 0.26339662 0.98051037\n",
      "  0.67193764]\n",
      " [0.09758506 0.6538458  0.96887237 0.72569848 0.50804814 0.4187024\n",
      "  0.48810148]\n",
      " [0.27620919 0.06000738 0.91342761 0.27245497 0.07425602 0.25342783\n",
      "  0.59761612]]\n"
     ]
    }
   ],
   "source": [
    "import numpy as np\n",
    "\n",
    "arr = np.random.uniform(low=0, high=20, size=(4, 7))\n",
    "print(arr, end='\\n\\n')\n",
    "\n",
    "maxVal = np.max(arr)\n",
    "arr = arr / maxVal\n",
    "print(arr)"
   ]
  },
  {
   "cell_type": "markdown",
   "metadata": {},
   "source": [
    "2. Создать матрицу 8 на 10 из случайных целых (используя модуль `numpy.random`) чисел из диапозона от 0 до 10 и найти в ней строку (ее индекс и вывести саму строку), в которой сумма значений минимальна."
   ]
  },
  {
   "cell_type": "code",
   "execution_count": 6,
   "metadata": {
    "ExecuteTime": {
     "end_time": "2024-02-08T20:16:32.735144700Z",
     "start_time": "2024-02-08T20:16:32.725141100Z"
    }
   },
   "outputs": [
    {
     "name": "stdout",
     "output_type": "stream",
     "text": [
      "[[2.48673056 7.29194779 0.05168548 3.03990659 4.03428935 3.0123276\n",
      "  9.48652138 8.45189176 2.46180651 8.79717112]\n",
      " [0.31811425 2.05238751 0.19190597 2.87311901 8.48186854 3.3489208\n",
      "  7.5742734  2.69097283 7.70550933 6.07012474]\n",
      " [3.80828104 0.59669538 3.80276558 0.75141469 8.9320164  0.4973536\n",
      "  5.35559425 5.26297315 4.65418545 7.67566638]\n",
      " [9.09131559 8.49085833 2.52389553 3.78757229 0.56496073 5.98931417\n",
      "  5.79152816 0.79127558 3.03488952 7.95943751]\n",
      " [9.30438649 2.52012268 8.43375033 4.46428374 2.40098746 6.14968697\n",
      "  7.61503834 0.75775048 7.45525837 4.77200264]\n",
      " [1.75616895 1.04468722 5.98287493 6.55239362 9.35360247 9.51586899\n",
      "  9.87958005 8.85190716 9.33106381 8.2234106 ]\n",
      " [2.68259294 3.64731866 5.08545612 3.62365874 0.41858869 7.26591217\n",
      "  0.92484794 1.47536029 5.4137768  7.44228506]\n",
      " [8.38465829 3.04264294 8.40231716 9.82101339 4.56165947 9.05050032\n",
      "  5.62846515 8.8879086  4.22995426 4.29520042]]\n",
      "\n",
      "5\n",
      "[1.75616895 1.04468722 5.98287493 6.55239362 9.35360247 9.51586899\n",
      " 9.87958005 8.85190716 9.33106381 8.2234106 ]\n"
     ]
    }
   ],
   "source": [
    "import numpy as np\n",
    "\n",
    "arr = np.random.uniform(low=0, high=10, size=(8, 10))\n",
    "print(arr, end='\\n\\n')\n",
    "\n",
    "maxVal = -1\n",
    "index = -1\n",
    "for i in range(len(arr)):\n",
    "    sumVal = sum(arr[i])\n",
    "    if sumVal > maxVal:\n",
    "        maxVal = sumVal\n",
    "        index = i\n",
    "\n",
    "print(index)\n",
    "print(arr[index])\n"
   ]
  },
  {
   "cell_type": "markdown",
   "metadata": {},
   "source": [
    "3. Найти евклидово расстояние между двумя одномерными векторами одинаковой размерности."
   ]
  },
  {
   "cell_type": "markdown",
   "metadata": {},
   "source": [
    "4. Решить матричное уравнение `A*X*B=-C` - найти матрицу `X`. Где `A = [[-1, 2, 4], [-3, 1, 2], [-3, 0, 1]]`, `B=[[3, -1], [2, 1]]`, `C=[[7, 21], [11, 8], [8, 4]]`."
   ]
  },
  {
   "cell_type": "code",
   "execution_count": null,
   "metadata": {},
   "outputs": [],
   "source": [
    "import numpy as np\n",
    "\n",
    "a = np.array([[-1, 2, 4], [-3, 1, 2], [-3, 0, 1]])\n",
    "b = np.array([[3, -1], [2, 1]])\n",
    "c = np.array([[7, 21], [11, 8], [8, 4]])\n",
    "\n",
    "x = np.dot(np.dot(np.linalg.inv(a), -1 * c), np.linalg.inv(b))\n",
    "print(x)"
   ]
  },
  {
   "cell_type": "markdown",
   "metadata": {},
   "source": [
    "## Лабораторная работа №1"
   ]
  },
  {
   "cell_type": "markdown",
   "metadata": {},
   "source": [
    "Замечание: при решении данных задач не подразумевается использования циклов или генераторов Python, если в задании не сказано обратного. Решение должно опираться на использования функционала библиотеки `numpy`."
   ]
  },
  {
   "cell_type": "markdown",
   "metadata": {},
   "source": [
    "1. Файл `minutes_n_ingredients.csv` содержит информацию об идентификаторе рецепта, времени его выполнения в минутах и количестве необходимых ингредиентов. Считайте данные из этого файла в виде массива `numpy` типа `int32`, используя `np.loadtxt`. Выведите на экран первые 5 строк массива."
   ]
  },
  {
   "cell_type": "code",
   "execution_count": 3,
   "metadata": {
    "ExecuteTime": {
     "end_time": "2024-02-12T16:59:36.909570500Z",
     "start_time": "2024-02-12T16:59:36.849554500Z"
    }
   },
   "outputs": [
    {
     "name": "stdout",
     "output_type": "stream",
     "text": [
      "[127244     60     16]\n",
      "[23891    25     7]\n",
      "[94746    10     6]\n",
      "[67660     5     6]\n",
      "[157911     60     14]\n"
     ]
    }
   ],
   "source": [
    "import numpy as np\n",
    "\n",
    "arr = np.loadtxt('minutes_n_ingredients.csv', delimiter=',', dtype=np.int32, skiprows=1)\n",
    "for i in range(5):\n",
    "    print(arr[i])"
   ]
  },
  {
   "cell_type": "markdown",
   "metadata": {},
   "source": [
    "2. Вычислите среднее значение, минимум, максимум и медиану по каждому из столбцов, кроме первого."
   ]
  },
  {
   "cell_type": "code",
   "execution_count": 5,
   "metadata": {},
   "outputs": [
    {
     "name": "stdout",
     "output_type": "stream",
     "text": [
      "Minutes column: Min: 0, Max: 2147483647, Median: 21601.00169\n",
      "N_ingredients column: Min: 1, Max: 39, Median: 9.05528\n"
     ]
    }
   ],
   "source": [
    "import numpy as np\n",
    "\n",
    "arr = np.loadtxt('minutes_n_ingredients.csv', delimiter=',', dtype=np.int32, skiprows=1)\n",
    "s1 = np.int64(0)\n",
    "s2 = np.int64(0)\n",
    "c = 0\n",
    "mi1 = arr[0][1]\n",
    "mi2 = arr[0][2]\n",
    "ma1 = arr[0][1]\n",
    "ma2 = arr[0][2]\n",
    "\n",
    "for i in arr:\n",
    "    s1 += i[1]\n",
    "    s2 += i[2]\n",
    "    if mi1 > i[1]:\n",
    "        mi1 = i[1]\n",
    "    if mi2 > i[2]:\n",
    "        mi2 = i[2]\n",
    "    if ma1 < i[1]:\n",
    "        ma1 = i[1]\n",
    "    if ma2 < i[2]:\n",
    "        ma2 = i[2]\n",
    "    c += 1\n",
    "\n",
    "print(f'Minutes column: Min: {mi1}, Max: {ma1}, Median: {s1 / c}')\n",
    "print(f'N_ingredients column: Min: {mi2}, Max: {ma2}, Median: {s2 / c}')"
   ]
  },
  {
   "cell_type": "code",
   "execution_count": 6,
   "metadata": {
    "ExecuteTime": {
     "end_time": "2024-02-12T17:06:10.991296Z",
     "start_time": "2024-02-12T17:06:10.882296200Z"
    }
   },
   "outputs": [
    {
     "name": "stdout",
     "output_type": "stream",
     "text": [
      "Minutes column: Min: 0, Max: 2147483647, Median: 21601.00169\n",
      "N_ingredients column: Min: 1, Max: 39, Median: 9.05528\n"
     ]
    }
   ],
   "source": [
    "import numpy as np\n",
    "\n",
    "arr = np.loadtxt('minutes_n_ingredients.csv', delimiter=',', dtype=np.int32, skiprows=1)\n",
    "\n",
    "tr = arr.transpose()\n",
    "print(f'Minutes column: Min: {np.min(tr[1])}, Max: {np.max(tr[1])}, Median: {np.mean(tr[1])}')\n",
    "print(f'N_ingredients column: Min: {np.min(tr[2])}, Max: {np.max(tr[2])}, Median: {np.mean(tr[2])}')"
   ]
  },
  {
   "cell_type": "markdown",
   "metadata": {},
   "source": [
    "3. Ограничьте сверху значения продолжительности выполнения рецепта значением квантиля $q_{0.75}$. "
   ]
  },
  {
   "cell_type": "markdown",
   "metadata": {},
   "source": [
    "4. Посчитайте, для скольких рецептов указана продолжительность, равная нулю. Замените для таких строк значение в данном столбце на 1."
   ]
  },
  {
   "cell_type": "code",
   "execution_count": 10,
   "metadata": {},
   "outputs": [
    {
     "name": "stdout",
     "output_type": "stream",
     "text": [
      "[[127244     60     16]\n",
      " [ 23891     25      7]\n",
      " [ 94746     10      6]\n",
      " ...\n",
      " [498432     65     15]\n",
      " [370915      5      4]\n",
      " [ 81993    140     14]]\n"
     ]
    }
   ],
   "source": [
    "import numpy as np\n",
    "\n",
    "arr = np.loadtxt('minutes_n_ingredients.csv', delimiter=',', dtype=np.int32, skiprows=1)\n",
    "\n",
    "column = arr[:, 1]\n",
    "column[column == 0] = 1\n",
    "\n",
    "print(arr)"
   ]
  },
  {
   "cell_type": "markdown",
   "metadata": {},
   "source": [
    "5. Посчитайте, сколько уникальных рецептов находится в датасете."
   ]
  },
  {
   "cell_type": "markdown",
   "metadata": {},
   "source": [
    "6. Сколько и каких различных значений кол-ва ингредиентов присутвует в рецептах из датасета?"
   ]
  },
  {
   "cell_type": "markdown",
   "metadata": {},
   "source": [
    "7. Создайте версию массива, содержащую информацию только о рецептах, состоящих не более чем из 5 ингредиентов."
   ]
  },
  {
   "cell_type": "markdown",
   "metadata": {},
   "source": [
    "8. Для каждого рецепта посчитайте, сколько в среднем ингредиентов приходится на одну минуту рецепта. Найдите максимальное значение этой величины для всего датасета"
   ]
  },
  {
   "cell_type": "markdown",
   "metadata": {},
   "source": [
    "9. Вычислите среднее количество ингредиентов для топ-100 рецептов с наибольшей продолжительностью"
   ]
  },
  {
   "cell_type": "markdown",
   "metadata": {},
   "source": [
    "10. Выберите случайным образом и выведите информацию о 10 различных рецептах"
   ]
  },
  {
   "cell_type": "markdown",
   "metadata": {},
   "source": [
    "11. Выведите процент рецептов, кол-во ингредиентов в которых меньше среднего."
   ]
  },
  {
   "cell_type": "markdown",
   "metadata": {},
   "source": [
    "12. Назовем \"простым\" такой рецепт, длительность выполнения которого не больше 20 минут и кол-во ингредиентов в котором не больше 5. Создайте версию датасета с дополнительным столбцом, значениями которого являются 1, если рецепт простой, и 0 в противном случае."
   ]
  },
  {
   "cell_type": "markdown",
   "metadata": {},
   "source": [
    "13. Выведите процент \"простых\" рецептов в датасете"
   ]
  },
  {
   "cell_type": "markdown",
   "metadata": {},
   "source": [
    "14. Разделим рецепты на группы по следующему правилу. Назовем рецепты короткими, если их продолжительность составляет менее 10 минут; стандартными, если их продолжительность составляет более 10, но менее 20 минут; и длинными, если их продолжительность составляет не менее 20 минут. Создайте трехмерный массив, где нулевая ось отвечает за номер группы (короткий, стандартный или длинный рецепт), первая ось - за сам рецепт и вторая ось - за характеристики рецепта. Выберите максимальное количество рецептов из каждой группы таким образом, чтобы было возможно сформировать трехмерный массив. Выведите форму полученного массива."
   ]
  },
  {
   "cell_type": "code",
   "execution_count": null,
   "metadata": {},
   "outputs": [],
   "source": []
  }
 ],
 "metadata": {
  "kernelspec": {
   "display_name": "Python 3 (ipykernel)",
   "language": "python",
   "name": "python3"
  },
  "language_info": {
   "codemirror_mode": {
    "name": "ipython",
    "version": 3
   },
   "file_extension": ".py",
   "mimetype": "text/x-python",
   "name": "python",
   "nbconvert_exporter": "python",
   "pygments_lexer": "ipython3",
   "version": "3.10.9"
  }
 },
 "nbformat": 4,
 "nbformat_minor": 4
}
