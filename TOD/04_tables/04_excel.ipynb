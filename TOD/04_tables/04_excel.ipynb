{
 "cells": [
  {
   "cell_type": "markdown",
   "metadata": {},
   "source": [
    "# Работа с Excel"
   ]
  },
  {
   "cell_type": "markdown",
   "metadata": {},
   "source": [
    "Материалы:\n",
    "* Макрушин С.В. Лекция 7: Работа с Excel\n",
    "* https://docs.xlwings.org/en/stable/quickstart.html\n",
    "* https://nbviewer.jupyter.org/github/pybokeh/jupyter_notebooks/blob/master/xlwings/Excel_Formatting.ipynb#search_text\n"
   ]
  },
  {
   "cell_type": "markdown",
   "metadata": {},
   "source": [
    "## Задачи для совместного разбора"
   ]
  },
  {
   "cell_type": "markdown",
   "metadata": {},
   "source": [
    "1. На листе \"Рецептура\" файла `себестоимостьА_в1.xlsx` для области \"Пшеничный хлеб\" рассчитать себестоимость всех видов продукции."
   ]
  },
  {
   "cell_type": "code",
   "execution_count": 1,
   "metadata": {
    "ExecuteTime": {
     "end_time": "2024-04-18T20:47:38.227569400Z",
     "start_time": "2024-04-18T20:47:34.221515700Z"
    }
   },
   "outputs": [
    {
     "name": "stdout",
     "output_type": "stream",
     "text": [
      "Rebuilding cache of generated files for COM support...\n",
      "Checking 00020813-0000-0000-C000-000000000046x0x1x9\n",
      "Could not add module (IID('{00020813-0000-0000-C000-000000000046}'), 0, 1, 9) - <class 'ImportError'>: cannot import name 'Dispatch' from partially initialized module 'win32com.client' (most likely due to a circular import) (C:\\Users\\Ivan\\AppData\\Local\\Programs\\Python\\Python310\\lib\\site-packages\\win32com\\client\\__init__.py)\n",
      "Done.\n"
     ]
    }
   ],
   "source": [
    "import xlwings as xw\n",
    "import pandas as pd\n",
    "import numpy as np\n",
    "\n",
    "# xw.__version__"
   ]
  },
  {
   "cell_type": "code",
   "execution_count": 13,
   "metadata": {
    "ExecuteTime": {
     "end_time": "2024-04-08T21:30:33.767965100Z",
     "start_time": "2024-04-08T21:30:29.444872800Z"
    }
   },
   "outputs": [
    {
     "name": "stdout",
     "output_type": "stream",
     "text": [
      "Хлеб Венгерский 21.48\n",
      "Хлеб \"Барбари\" 16.525\n",
      "Багет парижский 17.423000000000002\n",
      "Чиабатта 18.085\n"
     ]
    }
   ],
   "source": [
    "max_breads = 7\n",
    "wb = xw.Book('себестоимостьА_в1.xlsx')\n",
    "sht = wb.sheets['Рецептура']\n",
    "rcp_breads = sht.range('рцп_пшеничный_хлеб').value\n",
    "breads = rcp_breads[3:3+max_breads-1]\n",
    "bId = -1\n",
    "for bread in breads:\n",
    "    bId += 1\n",
    "    if bread[1]: #  Name is set\n",
    "        cost = sum([bread[i] * rcp_breads[len(rcp_breads)-3][i] for i in range(5, len(bread)-1) if not bread[i] is None])\n",
    "        print(bread[1], cost)"
   ]
  },
  {
   "cell_type": "markdown",
   "metadata": {},
   "source": [
    "2. Результаты расчетов 1.1 сохранить в отдельном столбце области \"Пшеничный хлеб\""
   ]
  },
  {
   "cell_type": "code",
   "execution_count": null,
   "metadata": {},
   "outputs": [],
   "source": []
  },
  {
   "cell_type": "markdown",
   "metadata": {},
   "source": [
    "3. Приблизить форматирование столбца, добавленного в задаче 2 к оформлению всей области."
   ]
  },
  {
   "cell_type": "markdown",
   "metadata": {},
   "source": [
    "4. Выполнить 3 с помощью \"протягиваемых\" формул."
   ]
  },
  {
   "cell_type": "markdown",
   "metadata": {},
   "source": [
    "## Лабораторная работа 7.1"
   ]
  },
  {
   "cell_type": "markdown",
   "metadata": {},
   "source": [
    "1. Загрузите данные из файлов `reviews_sample.csv` (__ЛР2__) и `recipes_sample.csv` (__ЛР5__) в виде `pd.DataFrame`. Обратите внимание на корректное считывание столбца(ов) с индексами. Оставьте в таблице с рецептами следующие столбцы: `id`, `name`, `minutes`, `submitted`, `description`, `n_ingredients`"
   ]
  },
  {
   "cell_type": "code",
   "execution_count": 2,
   "metadata": {
    "ExecuteTime": {
     "end_time": "2024-04-18T20:47:39.393568700Z",
     "start_time": "2024-04-18T20:47:38.526571500Z"
    }
   },
   "outputs": [
    {
     "data": {
      "text/plain": "      id                                   name  minutes   submitted  \\\n0  44123  george s at the cove  black bean soup       90  2002-10-25   \n1  44123  george s at the cove  black bean soup       90  2002-10-25   \n2  44123  george s at the cove  black bean soup       90  2002-10-25   \n3  67664     healthy for them  yogurt popsicles       10  2003-07-26   \n4  67664     healthy for them  yogurt popsicles       10  2003-07-26   \n\n                                         description  n_ingredients  \n0  an original recipe created by chef scott meska...           18.0  \n1  an original recipe created by chef scott meska...           18.0  \n2  an original recipe created by chef scott meska...           18.0  \n3  my children and their friends ask for my homem...            NaN  \n4  my children and their friends ask for my homem...            NaN  ",
      "text/html": "<div>\n<style scoped>\n    .dataframe tbody tr th:only-of-type {\n        vertical-align: middle;\n    }\n\n    .dataframe tbody tr th {\n        vertical-align: top;\n    }\n\n    .dataframe thead th {\n        text-align: right;\n    }\n</style>\n<table border=\"1\" class=\"dataframe\">\n  <thead>\n    <tr style=\"text-align: right;\">\n      <th></th>\n      <th>id</th>\n      <th>name</th>\n      <th>minutes</th>\n      <th>submitted</th>\n      <th>description</th>\n      <th>n_ingredients</th>\n    </tr>\n  </thead>\n  <tbody>\n    <tr>\n      <th>0</th>\n      <td>44123</td>\n      <td>george s at the cove  black bean soup</td>\n      <td>90</td>\n      <td>2002-10-25</td>\n      <td>an original recipe created by chef scott meska...</td>\n      <td>18.0</td>\n    </tr>\n    <tr>\n      <th>1</th>\n      <td>44123</td>\n      <td>george s at the cove  black bean soup</td>\n      <td>90</td>\n      <td>2002-10-25</td>\n      <td>an original recipe created by chef scott meska...</td>\n      <td>18.0</td>\n    </tr>\n    <tr>\n      <th>2</th>\n      <td>44123</td>\n      <td>george s at the cove  black bean soup</td>\n      <td>90</td>\n      <td>2002-10-25</td>\n      <td>an original recipe created by chef scott meska...</td>\n      <td>18.0</td>\n    </tr>\n    <tr>\n      <th>3</th>\n      <td>67664</td>\n      <td>healthy for them  yogurt popsicles</td>\n      <td>10</td>\n      <td>2003-07-26</td>\n      <td>my children and their friends ask for my homem...</td>\n      <td>NaN</td>\n    </tr>\n    <tr>\n      <th>4</th>\n      <td>67664</td>\n      <td>healthy for them  yogurt popsicles</td>\n      <td>10</td>\n      <td>2003-07-26</td>\n      <td>my children and their friends ask for my homem...</td>\n      <td>NaN</td>\n    </tr>\n  </tbody>\n</table>\n</div>"
     },
     "execution_count": 2,
     "metadata": {},
     "output_type": "execute_result"
    }
   ],
   "source": [
    "reviews = pd.read_csv('reviews_sample.csv', header=0)\n",
    "recipes = pd.read_csv('recipes_sample.csv', header=0)\n",
    "reviews['date'] = pd.to_datetime(reviews['date'])\n",
    "combined = pd.merge(recipes, reviews, left_on='id', right_on='recipe_id')\n",
    "\n",
    "# Оставляем только необходимые столбцы\n",
    "combined = combined[['id', 'name', 'minutes', 'submitted', 'description', 'n_ingredients']]\n",
    "combined.head()"
   ]
  },
  {
   "cell_type": "markdown",
   "metadata": {},
   "source": [
    "2. Случайным образом выберите 5% строк из каждой таблицы и сохраните две таблицы на разные листы в один файл `recipes.xlsx`. Дайте листам названия \"Рецепты\" и \"Отзывы\", соответствующие содержанию таблиц."
   ]
  },
  {
   "cell_type": "code",
   "execution_count": 3,
   "metadata": {
    "ExecuteTime": {
     "end_time": "2024-04-18T20:47:40.510569Z",
     "start_time": "2024-04-18T20:47:40.501567100Z"
    }
   },
   "outputs": [],
   "source": [
    "def get5Percent(df):\n",
    "    return df.sample(frac=0.05, random_state=1)"
   ]
  },
  {
   "cell_type": "code",
   "execution_count": 4,
   "metadata": {
    "ExecuteTime": {
     "end_time": "2024-04-18T20:47:44.158840300Z",
     "start_time": "2024-04-18T20:47:41.654571900Z"
    }
   },
   "outputs": [],
   "source": [
    "saveName = 'recipes.xlsx'\n",
    "try:\n",
    "    wbR = xw.Book(saveName)\n",
    "    defaultName = None\n",
    "    shtRc = wbR.sheets['Рецепты']\n",
    "    shtRw = wbR.sheets['Отзывы']\n",
    "except:\n",
    "    wbR = xw.Book()\n",
    "    defaultName = wbR.sheets[0].name\n",
    "    shtRc = wbR.sheets.add('Рецепты')\n",
    "    shtRw = wbR.sheets.add('Отзывы')\n",
    "\n",
    "shtRc.clear()\n",
    "shtRw.clear()\n",
    "\n",
    "shtRc.range('A1').options(pd.DataFrame, index=False, header=1).value = get5Percent(recipes)\n",
    "shtRw.range('A1').options(pd.DataFrame, index=False, header=1).value = get5Percent(reviews)\n",
    "\n",
    "wbR.save(saveName)\n",
    "\n",
    "if defaultName:\n",
    "    wbR.sheets[defaultName].delete()"
   ]
  },
  {
   "cell_type": "markdown",
   "metadata": {},
   "source": [
    "3. Используя `xlwings`, добавьте на лист `Рецепты` столбец `seconds_assign`, показывающий время выполнения рецепта в секундах. Выполните задание при помощи присваивания массива значений диапазону ячеек."
   ]
  },
  {
   "cell_type": "code",
   "execution_count": 5,
   "metadata": {
    "ExecuteTime": {
     "end_time": "2024-04-18T20:47:46.262966600Z",
     "start_time": "2024-04-18T20:47:45.585967900Z"
    }
   },
   "outputs": [
    {
     "data": {
      "text/plain": "                                                          id  minutes  \\\nname                                                                    \nfantastic banana fruitcake                           78715.0    160.0   \ngreek orzo salad w  kalamata and feta               174859.0     65.0   \nyet   another tater tot casserole                   301114.0     70.0   \ncrusty parmesan herb zucchini bites                 516384.0     35.0   \npomegranate duck                                     95541.0    106.0   \n...                                                      ...      ...   \nchef flower s cracked wheat pilaf    kibrisli b...  256701.0     23.0   \nultimate quesadillas                                177539.0     40.0   \nsausage quiche squares                               96295.0     40.0   \nmalva pudding  south african baked dessert          118545.0     70.0   \nall canadian turkey cheeseburger                     37313.0     31.0   \n\n                                                    contributor_id  submitted  \\\nname                                                                            \nfantastic banana fruitcake                                 89831.0 2003-12-12   \ngreek orzo salad w  kalamata and feta                     141293.0 2006-06-26   \nyet   another tater tot casserole                         451055.0 2008-04-29   \ncrusty parmesan herb zucchini bites                       427739.0 2014-06-03   \npomegranate duck                                           29196.0 2004-07-13   \n...                                                            ...        ...   \nchef flower s cracked wheat pilaf    kibrisli b...        223854.0 2007-10-02   \nultimate quesadillas                                       86072.0 2006-07-13   \nsausage quiche squares                                    103876.0 2004-07-24   \nmalva pudding  south african baked dessert                200862.0 2005-04-22   \nall canadian turkey cheeseburger                            1533.0 2002-08-15   \n\n                                                    n_steps  \\\nname                                                          \nfantastic banana fruitcake                             13.0   \ngreek orzo salad w  kalamata and feta                   NaN   \nyet   another tater tot casserole                       6.0   \ncrusty parmesan herb zucchini bites                     5.0   \npomegranate duck                                        NaN   \n...                                                     ...   \nchef flower s cracked wheat pilaf    kibrisli b...      NaN   \nultimate quesadillas                                    6.0   \nsausage quiche squares                                  9.0   \nmalva pudding  south african baked dessert              NaN   \nall canadian turkey cheeseburger                        8.0   \n\n                                                                                          description  \\\nname                                                                                                    \nfantastic banana fruitcake                          this cake is very moist, it is the ultimate in...   \ngreek orzo salad w  kalamata and feta               a great summer salad.  serve room temperature ...   \nyet   another tater tot casserole                   i like to play with the below basic recipe.  o...   \ncrusty parmesan herb zucchini bites                       aunt donna posted this on my facebook wall.   \npomegranate duck                                    i made a quail recipe similar to this-but toni...   \n...                                                                                               ...   \nchef flower s cracked wheat pilaf    kibrisli b...  this is one of my mother's recipe, she was bor...   \nultimate quesadillas                                saving this here for future use! sound quick a...   \nsausage quiche squares                              this is a great hot appetizer recipe. i made t...   \nmalva pudding  south african baked dessert          this is more delicious than the sum of its par...   \nall canadian turkey cheeseburger                                                                 None   \n\n                                                    n_ingredients  \\\nname                                                                \nfantastic banana fruitcake                                    NaN   \ngreek orzo salad w  kalamata and feta                         NaN   \nyet   another tater tot casserole                             8.0   \ncrusty parmesan herb zucchini bites                           7.0   \npomegranate duck                                              NaN   \n...                                                           ...   \nchef flower s cracked wheat pilaf    kibrisli b...            7.0   \nultimate quesadillas                                          4.0   \nsausage quiche squares                                        NaN   \nmalva pudding  south african baked dessert                    NaN   \nall canadian turkey cheeseburger                             12.0   \n\n                                                    seconds_assign  \nname                                                                \nfantastic banana fruitcake                                  9600.0  \ngreek orzo salad w  kalamata and feta                       3900.0  \nyet   another tater tot casserole                           4200.0  \ncrusty parmesan herb zucchini bites                         2100.0  \npomegranate duck                                            6360.0  \n...                                                            ...  \nchef flower s cracked wheat pilaf    kibrisli b...          1380.0  \nultimate quesadillas                                        2400.0  \nsausage quiche squares                                      2400.0  \nmalva pudding  south african baked dessert                  4200.0  \nall canadian turkey cheeseburger                            1860.0  \n\n[1500 rows x 8 columns]",
      "text/html": "<div>\n<style scoped>\n    .dataframe tbody tr th:only-of-type {\n        vertical-align: middle;\n    }\n\n    .dataframe tbody tr th {\n        vertical-align: top;\n    }\n\n    .dataframe thead th {\n        text-align: right;\n    }\n</style>\n<table border=\"1\" class=\"dataframe\">\n  <thead>\n    <tr style=\"text-align: right;\">\n      <th></th>\n      <th>id</th>\n      <th>minutes</th>\n      <th>contributor_id</th>\n      <th>submitted</th>\n      <th>n_steps</th>\n      <th>description</th>\n      <th>n_ingredients</th>\n      <th>seconds_assign</th>\n    </tr>\n    <tr>\n      <th>name</th>\n      <th></th>\n      <th></th>\n      <th></th>\n      <th></th>\n      <th></th>\n      <th></th>\n      <th></th>\n      <th></th>\n    </tr>\n  </thead>\n  <tbody>\n    <tr>\n      <th>fantastic banana fruitcake</th>\n      <td>78715.0</td>\n      <td>160.0</td>\n      <td>89831.0</td>\n      <td>2003-12-12</td>\n      <td>13.0</td>\n      <td>this cake is very moist, it is the ultimate in...</td>\n      <td>NaN</td>\n      <td>9600.0</td>\n    </tr>\n    <tr>\n      <th>greek orzo salad w  kalamata and feta</th>\n      <td>174859.0</td>\n      <td>65.0</td>\n      <td>141293.0</td>\n      <td>2006-06-26</td>\n      <td>NaN</td>\n      <td>a great summer salad.  serve room temperature ...</td>\n      <td>NaN</td>\n      <td>3900.0</td>\n    </tr>\n    <tr>\n      <th>yet   another tater tot casserole</th>\n      <td>301114.0</td>\n      <td>70.0</td>\n      <td>451055.0</td>\n      <td>2008-04-29</td>\n      <td>6.0</td>\n      <td>i like to play with the below basic recipe.  o...</td>\n      <td>8.0</td>\n      <td>4200.0</td>\n    </tr>\n    <tr>\n      <th>crusty parmesan herb zucchini bites</th>\n      <td>516384.0</td>\n      <td>35.0</td>\n      <td>427739.0</td>\n      <td>2014-06-03</td>\n      <td>5.0</td>\n      <td>aunt donna posted this on my facebook wall.</td>\n      <td>7.0</td>\n      <td>2100.0</td>\n    </tr>\n    <tr>\n      <th>pomegranate duck</th>\n      <td>95541.0</td>\n      <td>106.0</td>\n      <td>29196.0</td>\n      <td>2004-07-13</td>\n      <td>NaN</td>\n      <td>i made a quail recipe similar to this-but toni...</td>\n      <td>NaN</td>\n      <td>6360.0</td>\n    </tr>\n    <tr>\n      <th>...</th>\n      <td>...</td>\n      <td>...</td>\n      <td>...</td>\n      <td>...</td>\n      <td>...</td>\n      <td>...</td>\n      <td>...</td>\n      <td>...</td>\n    </tr>\n    <tr>\n      <th>chef flower s cracked wheat pilaf    kibrisli bulgur pilavi</th>\n      <td>256701.0</td>\n      <td>23.0</td>\n      <td>223854.0</td>\n      <td>2007-10-02</td>\n      <td>NaN</td>\n      <td>this is one of my mother's recipe, she was bor...</td>\n      <td>7.0</td>\n      <td>1380.0</td>\n    </tr>\n    <tr>\n      <th>ultimate quesadillas</th>\n      <td>177539.0</td>\n      <td>40.0</td>\n      <td>86072.0</td>\n      <td>2006-07-13</td>\n      <td>6.0</td>\n      <td>saving this here for future use! sound quick a...</td>\n      <td>4.0</td>\n      <td>2400.0</td>\n    </tr>\n    <tr>\n      <th>sausage quiche squares</th>\n      <td>96295.0</td>\n      <td>40.0</td>\n      <td>103876.0</td>\n      <td>2004-07-24</td>\n      <td>9.0</td>\n      <td>this is a great hot appetizer recipe. i made t...</td>\n      <td>NaN</td>\n      <td>2400.0</td>\n    </tr>\n    <tr>\n      <th>malva pudding  south african baked dessert</th>\n      <td>118545.0</td>\n      <td>70.0</td>\n      <td>200862.0</td>\n      <td>2005-04-22</td>\n      <td>NaN</td>\n      <td>this is more delicious than the sum of its par...</td>\n      <td>NaN</td>\n      <td>4200.0</td>\n    </tr>\n    <tr>\n      <th>all canadian turkey cheeseburger</th>\n      <td>37313.0</td>\n      <td>31.0</td>\n      <td>1533.0</td>\n      <td>2002-08-15</td>\n      <td>8.0</td>\n      <td>None</td>\n      <td>12.0</td>\n      <td>1860.0</td>\n    </tr>\n  </tbody>\n</table>\n<p>1500 rows × 8 columns</p>\n</div>"
     },
     "execution_count": 5,
     "metadata": {},
     "output_type": "execute_result"
    }
   ],
   "source": [
    "saveName = 'recipes.xlsx'\n",
    "wb = xw.Book(saveName)\n",
    "sht = wb.sheets['Рецепты']\n",
    "table = sht.range('A1').options(pd.DataFrame, expand='table').value\n",
    "table['seconds_assign'] = table['minutes'].apply(lambda x: x * 60)\n",
    "sht.clear()\n",
    "sht.range('A1').options(pd.DataFrame, index=False, header=1).value = table\n",
    "wb.save('recipesSeconds.xlsx')\n",
    "table"
   ]
  },
  {
   "cell_type": "markdown",
   "metadata": {},
   "source": [
    "4. Используя `xlwings`, добавьте на лист `Рецепты` столбец `seconds_formula`, показывающий время выполнения рецепта в секундах. Выполните задание при помощи формул Excel."
   ]
  },
  {
   "cell_type": "code",
   "execution_count": 12,
   "metadata": {
    "ExecuteTime": {
     "end_time": "2024-04-18T20:53:35.921681800Z",
     "start_time": "2024-04-18T20:53:34.111674Z"
    }
   },
   "outputs": [
    {
     "name": "stdout",
     "output_type": "stream",
     "text": [
      "(1500, 7)\n",
      "9\n"
     ]
    }
   ],
   "source": [
    "saveName = 'recipesSeconds.xlsx'\n",
    "wb = xw.Book(saveName)\n",
    "sht = wb.sheets['Рецепты']\n",
    "table = sht.range('A1').options(convert=pd.DataFrame, expand='table').value\n",
    "\n",
    "s0 = table.shape[0]+2\n",
    "s1 = table.shape[1]+2\n",
    "\n",
    "sht.range((1, s1)).value = 'seconds_formula'\n",
    "for i in range(2, s1):\n",
    "    sht.range((i, s1)).formula = '=' + sht.range((i, 3)).address + ' * 60'\n",
    "\n",
    "wb.save('recipesFormula.xlsx')"
   ]
  },
  {
   "cell_type": "markdown",
   "metadata": {},
   "source": [
    "5. Сделайте названия всех добавленных столбцов полужирными и выровняйте по центру ячейки."
   ]
  },
  {
   "cell_type": "code",
   "execution_count": 13,
   "metadata": {
    "ExecuteTime": {
     "end_time": "2024-04-18T20:54:03.427516800Z",
     "start_time": "2024-04-18T20:54:02.852516400Z"
    }
   },
   "outputs": [],
   "source": [
    "# from xlwings.constants import Constants\n",
    "from xlwings.constants import VAlign, HAlign\n",
    "\n",
    "saveName = 'recipesFormula.xlsx'\n",
    "wb = xw.Book(saveName)\n",
    "sht: xw.Sheet = wb.sheets['Рецепты']\n",
    "# rng: xw.Range = sht.range('A1').options(pd.DataFrame, expand='right')\n",
    "rng: xw.Range = sht.range('A1:Z1')\n",
    "for cell in rng:\n",
    "    if cell.value and 'seconds' in cell.value:\n",
    "        cell.font.bold = True\n",
    "        cell.api.HorizontalAlignment = HAlign.xlHAlignCenter\n",
    "        cell.api.VerticalAlignment = VAlign.xlVAlignCenter\n",
    "\n",
    "wb.save('recipesFormula.xlsx')"
   ]
  },
  {
   "cell_type": "markdown",
   "metadata": {},
   "source": [
    "6. Раскрасьте ячейки столбца `minutes` в соответствии со следующим правилом: если рецепт выполняется быстрее 5 минут, то цвет - зеленый; от 5 до 10 минут - жёлтый; и больше 10 - красный."
   ]
  },
  {
   "cell_type": "code",
   "execution_count": 14,
   "metadata": {
    "ExecuteTime": {
     "end_time": "2024-04-18T20:54:14.050089300Z",
     "start_time": "2024-04-18T20:54:04.368518700Z"
    }
   },
   "outputs": [],
   "source": [
    "saveName = 'recipesFormula.xlsx'\n",
    "wb = xw.Book(saveName)\n",
    "sht: xw.Sheet = wb.sheets['Рецепты']\n",
    "rng: xw.Range = sht.range('A1:Z1')\n",
    "for cell in rng:\n",
    "    if cell.value == 'minutes':\n",
    "#         print(sht.range((1, cell.column)).options(expand='down'))\n",
    "        for i in range(2, 1600):\n",
    "            sub_cell = sht.range((i, cell.column))\n",
    "            try:\n",
    "                v = int(sub_cell.value)\n",
    "            except TypeError:\n",
    "                continue\n",
    "            if v <= 5:\n",
    "                sub_cell.color = '#63ff90'\n",
    "            elif 5 < v < 10:\n",
    "                sub_cell.color = '#63ff90'\n",
    "            elif v >= 10:\n",
    "                sub_cell.color = '#ff6363'\n",
    "        break\n",
    "\n",
    "wb.save('recipesFormulaColors.xlsx')"
   ]
  },
  {
   "cell_type": "markdown",
   "metadata": {},
   "source": [
    "7. Добавьте на лист `Рецепты`  столбец `n_reviews`, содержащий кол-во отзывов для этого рецепта. Выполните задание при помощи формул Excel."
   ]
  },
  {
   "cell_type": "code",
   "execution_count": 34,
   "metadata": {
    "ExecuteTime": {
     "end_time": "2024-04-18T21:15:45.611312300Z",
     "start_time": "2024-04-18T21:15:40.609212100Z"
    }
   },
   "outputs": [],
   "source": [
    "saveName = 'recipesFormulaColors.xlsx'\n",
    "wb = xw.Book(saveName)\n",
    "sht = wb.sheets['Рецепты']\n",
    "table = sht.range('A1').options(convert=pd.DataFrame, expand='table').value\n",
    "\n",
    "s0 = table.shape[0]+2\n",
    "s1 = table.shape[1]+2\n",
    "\n",
    "sht_reviews = wb.sheets[0]\n",
    "sht_recipes = wb.sheets[1]\n",
    "\n",
    "sht.range((1, s1)).value = 'n_reviews'\n",
    "for i in range(2, s0):\n",
    "    sht.range((i, s1)).formula = f'=COUNTIF({sht_reviews.name}!C:C,{sht_recipes.name}!A{i})'\n",
    "\n",
    "wb.save('recipesFormulaColorsNReviews.xlsx')"
   ]
  },
  {
   "cell_type": "markdown",
   "metadata": {},
   "source": [
    "## Лабораторная работа 7.2"
   ]
  },
  {
   "cell_type": "markdown",
   "metadata": {},
   "source": [
    "8. Напишите функцию `validate()`, которая проверяет соответствие всех строк из листа `Отзывы` следующим правилам:\n",
    "    * Рейтинг - это число от 0 до 5 включительно\n",
    "    * Соответствующий рецепт имеется на листе `Рецепты`\n",
    "    \n",
    "В случае несоответствия этим правилам, выделите строку красным цветом"
   ]
  },
  {
   "cell_type": "markdown",
   "metadata": {},
   "source": [
    "9. В файле `recipes_model.csv` находится модель данных предметной области \"рецепты\". При помощи пакета `csv` считайте эти данные. При помощи пакета `xlwings` запишите данные на лист `Модель` книги `recipes_model.xlsx`, начиная с ячейки `A2`, не используя циклы. Сделайте скриншот текущего состояния листа и прикрепите в ячейку ноутбука. "
   ]
  },
  {
   "cell_type": "markdown",
   "metadata": {},
   "source": [
    "10. При помощи пакета `xlwings` добавьте в столбец J формулу для описания столбца на языке SQL. Формула должна реализовывать следующую логику:\n",
    "\n",
    "    1\\. в начале строки идут значения из столбцов В и C (значение столбца С приведено к верхнему регистру), разделенные пробелом\n",
    "    \n",
    "    2\\. далее идут слова на основе столбца \"Ключ\"\n",
    "        2.1 если в столбце \"Ключ\" указано значение \"PK\", то дальше через пробел идет ключевое слово \"PRIMARY KEY\"\n",
    "        2.2 если в столбце \"Ключ\" указано значение \"FK\", то дальше через пробел идет ключевое слово \"REFERENCES\", затем значения столбцов H и I в формате \"название_таблицы(название_столбца)\"\n",
    "        \n",
    "    3\\. если в столбце \"Обязательно к заполнению\" указано значение \"Y\" и в столбце \"Ключ\" указано не \"PK\", то дальше через пробел идет ключевое слово \"NOT NULL\".\n",
    "\n",
    "Заполните этой формулой необходимое количество строк, используя \"протягивание\". Количество строк для протягивания определите на основе данных.\n",
    "\n",
    "Сделайте скриншот текущего состояния листа и прикрепите в ячейку ноутбука."
   ]
  },
  {
   "cell_type": "markdown",
   "metadata": {},
   "source": [
    "11. При помощи пакета `xlwings` измените стилизацию листа `Модель`.\n",
    "* для заголовков добавьте заливку цвета `00ccff`\n",
    "* примените автоподбор ширины столбца;\n",
    "* сделайте шрифт заголовков полужирным;\n",
    "* добавьте таблице автофильтр.\n",
    "\n",
    "Сделайте скриншот текущего состояния листа и прикрепите в ячейку ноутбука."
   ]
  },
  {
   "cell_type": "markdown",
   "metadata": {},
   "source": [
    "12. Посчитайте количество атрибутов для каждой из сущностей. Создайте лист `Статистика` и запишите в него результат группировки, начиная с ячейки \"А1\". Визуализируйте полученный результат при помощи столбчатой диаграммы. Сохраните полученную визуализацию на лист `Статистика`, начиная с ячейки \"E2\".  Сделайте скриншот листа `Статистика` и прикрепите в ячейку ноутбука.\n",
    "\n",
    "* Вы можете воспользоваться методами для визуализации, которые поставляются вместе с объектами `pandas` (см. https://pandas.pydata.org/docs/reference/api/pandas.DataFrame.plot) "
   ]
  }
 ],
 "metadata": {
  "kernelspec": {
   "display_name": "Python 3 (ipykernel)",
   "language": "python",
   "name": "python3"
  },
  "language_info": {
   "codemirror_mode": {
    "name": "ipython",
    "version": 3
   },
   "file_extension": ".py",
   "mimetype": "text/x-python",
   "name": "python",
   "nbconvert_exporter": "python",
   "pygments_lexer": "ipython3",
   "version": "3.10.9"
  }
 },
 "nbformat": 4,
 "nbformat_minor": 4
}
