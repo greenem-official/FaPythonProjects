{
 "cells": [
  {
   "cell_type": "markdown",
   "metadata": {},
   "source": [
    "# Работа с Excel"
   ]
  },
  {
   "cell_type": "markdown",
   "metadata": {},
   "source": [
    "Материалы:\n",
    "* Макрушин С.В. Лекция 7: Работа с Excel\n",
    "* https://docs.xlwings.org/en/stable/quickstart.html\n",
    "* https://nbviewer.jupyter.org/github/pybokeh/jupyter_notebooks/blob/master/xlwings/Excel_Formatting.ipynb#search_text\n"
   ]
  },
  {
   "cell_type": "markdown",
   "metadata": {},
   "source": [
    "## Задачи для совместного разбора"
   ]
  },
  {
   "cell_type": "markdown",
   "metadata": {},
   "source": [
    "1. На листе \"Рецептура\" файла `себестоимостьА_в1.xlsx` для области \"Пшеничный хлеб\" рассчитать себестоимость всех видов продукции."
   ]
  },
  {
   "cell_type": "code",
   "execution_count": 1,
   "metadata": {
    "ExecuteTime": {
     "end_time": "2024-04-18T20:47:38.227569400Z",
     "start_time": "2024-04-18T20:47:34.221515700Z"
    }
   },
   "outputs": [
    {
     "name": "stdout",
     "output_type": "stream",
     "text": [
      "Rebuilding cache of generated files for COM support...\n",
      "Checking 00020813-0000-0000-C000-000000000046x0x1x9\n",
      "Could not add module (IID('{00020813-0000-0000-C000-000000000046}'), 0, 1, 9) - <class 'ImportError'>: cannot import name 'Dispatch' from partially initialized module 'win32com.client' (most likely due to a circular import) (C:\\Users\\Ivan\\AppData\\Local\\Programs\\Python\\Python310\\lib\\site-packages\\win32com\\client\\__init__.py)\n",
      "Done.\n"
     ]
    }
   ],
   "source": [
    "import xlwings as xw\n",
    "import pandas as pd\n",
    "import numpy as np\n",
    "\n",
    "# xw.__version__"
   ]
  },
  {
   "cell_type": "code",
   "execution_count": 13,
   "metadata": {
    "ExecuteTime": {
     "end_time": "2024-04-08T21:30:33.767965100Z",
     "start_time": "2024-04-08T21:30:29.444872800Z"
    }
   },
   "outputs": [
    {
     "name": "stdout",
     "output_type": "stream",
     "text": [
      "Хлеб Венгерский 21.48\n",
      "Хлеб \"Барбари\" 16.525\n",
      "Багет парижский 17.423000000000002\n",
      "Чиабатта 18.085\n"
     ]
    }
   ],
   "source": [
    "max_breads = 7\n",
    "wb = xw.Book('себестоимостьА_в1.xlsx')\n",
    "sht = wb.sheets['Рецептура']\n",
    "rcp_breads = sht.range('рцп_пшеничный_хлеб').value\n",
    "breads = rcp_breads[3:3+max_breads-1]\n",
    "bId = -1\n",
    "for bread in breads:\n",
    "    bId += 1\n",
    "    if bread[1]: #  Name is set\n",
    "        cost = sum([bread[i] * rcp_breads[len(rcp_breads)-3][i] for i in range(5, len(bread)-1) if not bread[i] is None])\n",
    "        print(bread[1], cost)"
   ]
  },
  {
   "cell_type": "markdown",
   "metadata": {},
   "source": [
    "2. Результаты расчетов 1.1 сохранить в отдельном столбце области \"Пшеничный хлеб\""
   ]
  },
  {
   "cell_type": "code",
   "execution_count": null,
   "metadata": {},
   "outputs": [],
   "source": []
  },
  {
   "cell_type": "markdown",
   "metadata": {},
   "source": [
    "3. Приблизить форматирование столбца, добавленного в задаче 2 к оформлению всей области."
   ]
  },
  {
   "cell_type": "markdown",
   "metadata": {},
   "source": [
    "4. Выполнить 3 с помощью \"протягиваемых\" формул."
   ]
  },
  {
   "cell_type": "markdown",
   "metadata": {},
   "source": [
    "## Лабораторная работа 7.1"
   ]
  },
  {
   "cell_type": "markdown",
   "metadata": {},
   "source": [
    "1. Загрузите данные из файлов `reviews_sample.csv` (__ЛР2__) и `recipes_sample.csv` (__ЛР5__) в виде `pd.DataFrame`. Обратите внимание на корректное считывание столбца(ов) с индексами. Оставьте в таблице с рецептами следующие столбцы: `id`, `name`, `minutes`, `submitted`, `description`, `n_ingredients`"
   ]
  },
  {
   "cell_type": "code",
   "execution_count": 2,
   "metadata": {
    "ExecuteTime": {
     "end_time": "2024-04-18T20:47:39.393568700Z",
     "start_time": "2024-04-18T20:47:38.526571500Z"
    }
   },
   "outputs": [
    {
     "data": {
      "text/html": [
       "<div>\n",
       "<style scoped>\n",
       "    .dataframe tbody tr th:only-of-type {\n",
       "        vertical-align: middle;\n",
       "    }\n",
       "\n",
       "    .dataframe tbody tr th {\n",
       "        vertical-align: top;\n",
       "    }\n",
       "\n",
       "    .dataframe thead th {\n",
       "        text-align: right;\n",
       "    }\n",
       "</style>\n",
       "<table border=\"1\" class=\"dataframe\">\n",
       "  <thead>\n",
       "    <tr style=\"text-align: right;\">\n",
       "      <th></th>\n",
       "      <th>id</th>\n",
       "      <th>name</th>\n",
       "      <th>minutes</th>\n",
       "      <th>submitted</th>\n",
       "      <th>description</th>\n",
       "      <th>n_ingredients</th>\n",
       "    </tr>\n",
       "  </thead>\n",
       "  <tbody>\n",
       "    <tr>\n",
       "      <th>0</th>\n",
       "      <td>44123</td>\n",
       "      <td>george s at the cove  black bean soup</td>\n",
       "      <td>90</td>\n",
       "      <td>2002-10-25</td>\n",
       "      <td>an original recipe created by chef scott meska...</td>\n",
       "      <td>18.0</td>\n",
       "    </tr>\n",
       "    <tr>\n",
       "      <th>1</th>\n",
       "      <td>44123</td>\n",
       "      <td>george s at the cove  black bean soup</td>\n",
       "      <td>90</td>\n",
       "      <td>2002-10-25</td>\n",
       "      <td>an original recipe created by chef scott meska...</td>\n",
       "      <td>18.0</td>\n",
       "    </tr>\n",
       "    <tr>\n",
       "      <th>2</th>\n",
       "      <td>44123</td>\n",
       "      <td>george s at the cove  black bean soup</td>\n",
       "      <td>90</td>\n",
       "      <td>2002-10-25</td>\n",
       "      <td>an original recipe created by chef scott meska...</td>\n",
       "      <td>18.0</td>\n",
       "    </tr>\n",
       "    <tr>\n",
       "      <th>3</th>\n",
       "      <td>67664</td>\n",
       "      <td>healthy for them  yogurt popsicles</td>\n",
       "      <td>10</td>\n",
       "      <td>2003-07-26</td>\n",
       "      <td>my children and their friends ask for my homem...</td>\n",
       "      <td>NaN</td>\n",
       "    </tr>\n",
       "    <tr>\n",
       "      <th>4</th>\n",
       "      <td>67664</td>\n",
       "      <td>healthy for them  yogurt popsicles</td>\n",
       "      <td>10</td>\n",
       "      <td>2003-07-26</td>\n",
       "      <td>my children and their friends ask for my homem...</td>\n",
       "      <td>NaN</td>\n",
       "    </tr>\n",
       "  </tbody>\n",
       "</table>\n",
       "</div>"
      ],
      "text/plain": [
       "      id                                   name  minutes   submitted  \\\n",
       "0  44123  george s at the cove  black bean soup       90  2002-10-25   \n",
       "1  44123  george s at the cove  black bean soup       90  2002-10-25   \n",
       "2  44123  george s at the cove  black bean soup       90  2002-10-25   \n",
       "3  67664     healthy for them  yogurt popsicles       10  2003-07-26   \n",
       "4  67664     healthy for them  yogurt popsicles       10  2003-07-26   \n",
       "\n",
       "                                         description  n_ingredients  \n",
       "0  an original recipe created by chef scott meska...           18.0  \n",
       "1  an original recipe created by chef scott meska...           18.0  \n",
       "2  an original recipe created by chef scott meska...           18.0  \n",
       "3  my children and their friends ask for my homem...            NaN  \n",
       "4  my children and their friends ask for my homem...            NaN  "
      ]
     },
     "execution_count": 2,
     "metadata": {},
     "output_type": "execute_result"
    }
   ],
   "source": [
    "reviews = pd.read_csv('reviews_sample.csv', header=0)\n",
    "recipes = pd.read_csv('recipes_sample.csv', header=0)\n",
    "reviews['date'] = pd.to_datetime(reviews['date'])\n",
    "combined = pd.merge(recipes, reviews, left_on='id', right_on='recipe_id')\n",
    "\n",
    "# Оставляем только необходимые столбцы\n",
    "combined = combined[['id', 'name', 'minutes', 'submitted', 'description', 'n_ingredients']]\n",
    "combined.head()"
   ]
  },
  {
   "cell_type": "markdown",
   "metadata": {},
   "source": [
    "2. Случайным образом выберите 5% строк из каждой таблицы и сохраните две таблицы на разные листы в один файл `recipes.xlsx`. Дайте листам названия \"Рецепты\" и \"Отзывы\", соответствующие содержанию таблиц."
   ]
  },
  {
   "cell_type": "code",
   "execution_count": 3,
   "metadata": {
    "ExecuteTime": {
     "end_time": "2024-04-18T20:47:40.510569Z",
     "start_time": "2024-04-18T20:47:40.501567100Z"
    }
   },
   "outputs": [],
   "source": [
    "def get5Percent(df):\n",
    "    return df.sample(frac=0.05, random_state=1)"
   ]
  },
  {
   "cell_type": "code",
   "execution_count": 4,
   "metadata": {
    "ExecuteTime": {
     "end_time": "2024-04-18T20:47:44.158840300Z",
     "start_time": "2024-04-18T20:47:41.654571900Z"
    }
   },
   "outputs": [],
   "source": [
    "saveName = 'recipes.xlsx'\n",
    "try:\n",
    "    wbR = xw.Book(saveName)\n",
    "    defaultName = None\n",
    "    shtRc = wbR.sheets['Рецепты']\n",
    "    shtRw = wbR.sheets['Отзывы']\n",
    "except:\n",
    "    wbR = xw.Book()\n",
    "    defaultName = wbR.sheets[0].name\n",
    "    shtRc = wbR.sheets.add('Рецепты')\n",
    "    shtRw = wbR.sheets.add('Отзывы')\n",
    "\n",
    "shtRc.clear()\n",
    "shtRw.clear()\n",
    "\n",
    "shtRc.range('A1').options(pd.DataFrame, index=False, header=1).value = get5Percent(recipes)\n",
    "shtRw.range('A1').options(pd.DataFrame, index=False, header=1).value = get5Percent(reviews)\n",
    "\n",
    "wbR.save(saveName)\n",
    "\n",
    "if defaultName:\n",
    "    wbR.sheets[defaultName].delete()"
   ]
  },
  {
   "cell_type": "markdown",
   "metadata": {},
   "source": [
    "3. Используя `xlwings`, добавьте на лист `Рецепты` столбец `seconds_assign`, показывающий время выполнения рецепта в секундах. Выполните задание при помощи присваивания массива значений диапазону ячеек."
   ]
  },
  {
   "cell_type": "code",
   "execution_count": 5,
   "metadata": {
    "ExecuteTime": {
     "end_time": "2024-04-18T20:47:46.262966600Z",
     "start_time": "2024-04-18T20:47:45.585967900Z"
    }
   },
   "outputs": [
    {
     "data": {
      "text/html": [
       "<div>\n",
       "<style scoped>\n",
       "    .dataframe tbody tr th:only-of-type {\n",
       "        vertical-align: middle;\n",
       "    }\n",
       "\n",
       "    .dataframe tbody tr th {\n",
       "        vertical-align: top;\n",
       "    }\n",
       "\n",
       "    .dataframe thead th {\n",
       "        text-align: right;\n",
       "    }\n",
       "</style>\n",
       "<table border=\"1\" class=\"dataframe\">\n",
       "  <thead>\n",
       "    <tr style=\"text-align: right;\">\n",
       "      <th></th>\n",
       "      <th>id</th>\n",
       "      <th>minutes</th>\n",
       "      <th>contributor_id</th>\n",
       "      <th>submitted</th>\n",
       "      <th>n_steps</th>\n",
       "      <th>description</th>\n",
       "      <th>n_ingredients</th>\n",
       "      <th>seconds_assign</th>\n",
       "    </tr>\n",
       "    <tr>\n",
       "      <th>name</th>\n",
       "      <th></th>\n",
       "      <th></th>\n",
       "      <th></th>\n",
       "      <th></th>\n",
       "      <th></th>\n",
       "      <th></th>\n",
       "      <th></th>\n",
       "      <th></th>\n",
       "    </tr>\n",
       "  </thead>\n",
       "  <tbody>\n",
       "    <tr>\n",
       "      <th>fantastic banana fruitcake</th>\n",
       "      <td>78715.0</td>\n",
       "      <td>160.0</td>\n",
       "      <td>89831.0</td>\n",
       "      <td>2003-12-12</td>\n",
       "      <td>13.0</td>\n",
       "      <td>this cake is very moist, it is the ultimate in...</td>\n",
       "      <td>NaN</td>\n",
       "      <td>9600.0</td>\n",
       "    </tr>\n",
       "    <tr>\n",
       "      <th>greek orzo salad w  kalamata and feta</th>\n",
       "      <td>174859.0</td>\n",
       "      <td>65.0</td>\n",
       "      <td>141293.0</td>\n",
       "      <td>2006-06-26</td>\n",
       "      <td>NaN</td>\n",
       "      <td>a great summer salad.  serve room temperature ...</td>\n",
       "      <td>NaN</td>\n",
       "      <td>3900.0</td>\n",
       "    </tr>\n",
       "    <tr>\n",
       "      <th>yet   another tater tot casserole</th>\n",
       "      <td>301114.0</td>\n",
       "      <td>70.0</td>\n",
       "      <td>451055.0</td>\n",
       "      <td>2008-04-29</td>\n",
       "      <td>6.0</td>\n",
       "      <td>i like to play with the below basic recipe.  o...</td>\n",
       "      <td>8.0</td>\n",
       "      <td>4200.0</td>\n",
       "    </tr>\n",
       "    <tr>\n",
       "      <th>crusty parmesan herb zucchini bites</th>\n",
       "      <td>516384.0</td>\n",
       "      <td>35.0</td>\n",
       "      <td>427739.0</td>\n",
       "      <td>2014-06-03</td>\n",
       "      <td>5.0</td>\n",
       "      <td>aunt donna posted this on my facebook wall.</td>\n",
       "      <td>7.0</td>\n",
       "      <td>2100.0</td>\n",
       "    </tr>\n",
       "    <tr>\n",
       "      <th>pomegranate duck</th>\n",
       "      <td>95541.0</td>\n",
       "      <td>106.0</td>\n",
       "      <td>29196.0</td>\n",
       "      <td>2004-07-13</td>\n",
       "      <td>NaN</td>\n",
       "      <td>i made a quail recipe similar to this-but toni...</td>\n",
       "      <td>NaN</td>\n",
       "      <td>6360.0</td>\n",
       "    </tr>\n",
       "    <tr>\n",
       "      <th>...</th>\n",
       "      <td>...</td>\n",
       "      <td>...</td>\n",
       "      <td>...</td>\n",
       "      <td>...</td>\n",
       "      <td>...</td>\n",
       "      <td>...</td>\n",
       "      <td>...</td>\n",
       "      <td>...</td>\n",
       "    </tr>\n",
       "    <tr>\n",
       "      <th>chef flower s cracked wheat pilaf    kibrisli bulgur pilavi</th>\n",
       "      <td>256701.0</td>\n",
       "      <td>23.0</td>\n",
       "      <td>223854.0</td>\n",
       "      <td>2007-10-02</td>\n",
       "      <td>NaN</td>\n",
       "      <td>this is one of my mother's recipe, she was bor...</td>\n",
       "      <td>7.0</td>\n",
       "      <td>1380.0</td>\n",
       "    </tr>\n",
       "    <tr>\n",
       "      <th>ultimate quesadillas</th>\n",
       "      <td>177539.0</td>\n",
       "      <td>40.0</td>\n",
       "      <td>86072.0</td>\n",
       "      <td>2006-07-13</td>\n",
       "      <td>6.0</td>\n",
       "      <td>saving this here for future use! sound quick a...</td>\n",
       "      <td>4.0</td>\n",
       "      <td>2400.0</td>\n",
       "    </tr>\n",
       "    <tr>\n",
       "      <th>sausage quiche squares</th>\n",
       "      <td>96295.0</td>\n",
       "      <td>40.0</td>\n",
       "      <td>103876.0</td>\n",
       "      <td>2004-07-24</td>\n",
       "      <td>9.0</td>\n",
       "      <td>this is a great hot appetizer recipe. i made t...</td>\n",
       "      <td>NaN</td>\n",
       "      <td>2400.0</td>\n",
       "    </tr>\n",
       "    <tr>\n",
       "      <th>malva pudding  south african baked dessert</th>\n",
       "      <td>118545.0</td>\n",
       "      <td>70.0</td>\n",
       "      <td>200862.0</td>\n",
       "      <td>2005-04-22</td>\n",
       "      <td>NaN</td>\n",
       "      <td>this is more delicious than the sum of its par...</td>\n",
       "      <td>NaN</td>\n",
       "      <td>4200.0</td>\n",
       "    </tr>\n",
       "    <tr>\n",
       "      <th>all canadian turkey cheeseburger</th>\n",
       "      <td>37313.0</td>\n",
       "      <td>31.0</td>\n",
       "      <td>1533.0</td>\n",
       "      <td>2002-08-15</td>\n",
       "      <td>8.0</td>\n",
       "      <td>None</td>\n",
       "      <td>12.0</td>\n",
       "      <td>1860.0</td>\n",
       "    </tr>\n",
       "  </tbody>\n",
       "</table>\n",
       "<p>1500 rows × 8 columns</p>\n",
       "</div>"
      ],
      "text/plain": [
       "                                                          id  minutes  \\\n",
       "name                                                                    \n",
       "fantastic banana fruitcake                           78715.0    160.0   \n",
       "greek orzo salad w  kalamata and feta               174859.0     65.0   \n",
       "yet   another tater tot casserole                   301114.0     70.0   \n",
       "crusty parmesan herb zucchini bites                 516384.0     35.0   \n",
       "pomegranate duck                                     95541.0    106.0   \n",
       "...                                                      ...      ...   \n",
       "chef flower s cracked wheat pilaf    kibrisli b...  256701.0     23.0   \n",
       "ultimate quesadillas                                177539.0     40.0   \n",
       "sausage quiche squares                               96295.0     40.0   \n",
       "malva pudding  south african baked dessert          118545.0     70.0   \n",
       "all canadian turkey cheeseburger                     37313.0     31.0   \n",
       "\n",
       "                                                    contributor_id  submitted  \\\n",
       "name                                                                            \n",
       "fantastic banana fruitcake                                 89831.0 2003-12-12   \n",
       "greek orzo salad w  kalamata and feta                     141293.0 2006-06-26   \n",
       "yet   another tater tot casserole                         451055.0 2008-04-29   \n",
       "crusty parmesan herb zucchini bites                       427739.0 2014-06-03   \n",
       "pomegranate duck                                           29196.0 2004-07-13   \n",
       "...                                                            ...        ...   \n",
       "chef flower s cracked wheat pilaf    kibrisli b...        223854.0 2007-10-02   \n",
       "ultimate quesadillas                                       86072.0 2006-07-13   \n",
       "sausage quiche squares                                    103876.0 2004-07-24   \n",
       "malva pudding  south african baked dessert                200862.0 2005-04-22   \n",
       "all canadian turkey cheeseburger                            1533.0 2002-08-15   \n",
       "\n",
       "                                                    n_steps  \\\n",
       "name                                                          \n",
       "fantastic banana fruitcake                             13.0   \n",
       "greek orzo salad w  kalamata and feta                   NaN   \n",
       "yet   another tater tot casserole                       6.0   \n",
       "crusty parmesan herb zucchini bites                     5.0   \n",
       "pomegranate duck                                        NaN   \n",
       "...                                                     ...   \n",
       "chef flower s cracked wheat pilaf    kibrisli b...      NaN   \n",
       "ultimate quesadillas                                    6.0   \n",
       "sausage quiche squares                                  9.0   \n",
       "malva pudding  south african baked dessert              NaN   \n",
       "all canadian turkey cheeseburger                        8.0   \n",
       "\n",
       "                                                                                          description  \\\n",
       "name                                                                                                    \n",
       "fantastic banana fruitcake                          this cake is very moist, it is the ultimate in...   \n",
       "greek orzo salad w  kalamata and feta               a great summer salad.  serve room temperature ...   \n",
       "yet   another tater tot casserole                   i like to play with the below basic recipe.  o...   \n",
       "crusty parmesan herb zucchini bites                       aunt donna posted this on my facebook wall.   \n",
       "pomegranate duck                                    i made a quail recipe similar to this-but toni...   \n",
       "...                                                                                               ...   \n",
       "chef flower s cracked wheat pilaf    kibrisli b...  this is one of my mother's recipe, she was bor...   \n",
       "ultimate quesadillas                                saving this here for future use! sound quick a...   \n",
       "sausage quiche squares                              this is a great hot appetizer recipe. i made t...   \n",
       "malva pudding  south african baked dessert          this is more delicious than the sum of its par...   \n",
       "all canadian turkey cheeseburger                                                                 None   \n",
       "\n",
       "                                                    n_ingredients  \\\n",
       "name                                                                \n",
       "fantastic banana fruitcake                                    NaN   \n",
       "greek orzo salad w  kalamata and feta                         NaN   \n",
       "yet   another tater tot casserole                             8.0   \n",
       "crusty parmesan herb zucchini bites                           7.0   \n",
       "pomegranate duck                                              NaN   \n",
       "...                                                           ...   \n",
       "chef flower s cracked wheat pilaf    kibrisli b...            7.0   \n",
       "ultimate quesadillas                                          4.0   \n",
       "sausage quiche squares                                        NaN   \n",
       "malva pudding  south african baked dessert                    NaN   \n",
       "all canadian turkey cheeseburger                             12.0   \n",
       "\n",
       "                                                    seconds_assign  \n",
       "name                                                                \n",
       "fantastic banana fruitcake                                  9600.0  \n",
       "greek orzo salad w  kalamata and feta                       3900.0  \n",
       "yet   another tater tot casserole                           4200.0  \n",
       "crusty parmesan herb zucchini bites                         2100.0  \n",
       "pomegranate duck                                            6360.0  \n",
       "...                                                            ...  \n",
       "chef flower s cracked wheat pilaf    kibrisli b...          1380.0  \n",
       "ultimate quesadillas                                        2400.0  \n",
       "sausage quiche squares                                      2400.0  \n",
       "malva pudding  south african baked dessert                  4200.0  \n",
       "all canadian turkey cheeseburger                            1860.0  \n",
       "\n",
       "[1500 rows x 8 columns]"
      ]
     },
     "execution_count": 5,
     "metadata": {},
     "output_type": "execute_result"
    }
   ],
   "source": [
    "saveName = 'recipes.xlsx'\n",
    "wb = xw.Book(saveName)\n",
    "sht = wb.sheets['Рецепты']\n",
    "table = sht.range('A1').options(pd.DataFrame, expand='table').value\n",
    "table['seconds_assign'] = table['minutes'].apply(lambda x: x * 60)\n",
    "sht.clear()\n",
    "sht.range('A1').options(pd.DataFrame, index=False, header=1).value = table\n",
    "wb.save('recipesSeconds.xlsx')\n",
    "table"
   ]
  },
  {
   "cell_type": "markdown",
   "metadata": {},
   "source": [
    "4. Используя `xlwings`, добавьте на лист `Рецепты` столбец `seconds_formula`, показывающий время выполнения рецепта в секундах. Выполните задание при помощи формул Excel."
   ]
  },
  {
   "cell_type": "code",
   "execution_count": 12,
   "metadata": {
    "ExecuteTime": {
     "end_time": "2024-04-18T20:53:35.921681800Z",
     "start_time": "2024-04-18T20:53:34.111674Z"
    }
   },
   "outputs": [
    {
     "name": "stdout",
     "output_type": "stream",
     "text": [
      "(1500, 7)\n",
      "9\n"
     ]
    }
   ],
   "source": [
    "saveName = 'recipesSeconds.xlsx'\n",
    "wb = xw.Book(saveName)\n",
    "sht = wb.sheets['Рецепты']\n",
    "table = sht.range('A1').options(convert=pd.DataFrame, expand='table').value\n",
    "\n",
    "s0 = table.shape[0]+2\n",
    "s1 = table.shape[1]+2\n",
    "\n",
    "sht.range((1, s1)).value = 'seconds_formula'\n",
    "for i in range(2, s1):\n",
    "    sht.range((i, s1)).formula = '=' + sht.range((i, 3)).address + ' * 60'\n",
    "\n",
    "wb.save('recipesFormula.xlsx')"
   ]
  },
  {
   "cell_type": "markdown",
   "metadata": {},
   "source": [
    "5. Сделайте названия всех добавленных столбцов полужирными и выровняйте по центру ячейки."
   ]
  },
  {
   "cell_type": "code",
   "execution_count": 13,
   "metadata": {
    "ExecuteTime": {
     "end_time": "2024-04-18T20:54:03.427516800Z",
     "start_time": "2024-04-18T20:54:02.852516400Z"
    }
   },
   "outputs": [],
   "source": [
    "# from xlwings.constants import Constants\n",
    "from xlwings.constants import VAlign, HAlign\n",
    "\n",
    "saveName = 'recipesFormula.xlsx'\n",
    "wb = xw.Book(saveName)\n",
    "sht: xw.Sheet = wb.sheets['Рецепты']\n",
    "# rng: xw.Range = sht.range('A1').options(pd.DataFrame, expand='right')\n",
    "rng: xw.Range = sht.range('A1:Z1')\n",
    "for cell in rng:\n",
    "    if cell.value and 'seconds' in cell.value:\n",
    "        cell.font.bold = True\n",
    "        cell.api.HorizontalAlignment = HAlign.xlHAlignCenter\n",
    "        cell.api.VerticalAlignment = VAlign.xlVAlignCenter\n",
    "\n",
    "wb.save('recipesFormula.xlsx')"
   ]
  },
  {
   "cell_type": "markdown",
   "metadata": {},
   "source": [
    "6. Раскрасьте ячейки столбца `minutes` в соответствии со следующим правилом: если рецепт выполняется быстрее 5 минут, то цвет - зеленый; от 5 до 10 минут - жёлтый; и больше 10 - красный."
   ]
  },
  {
   "cell_type": "code",
   "execution_count": 14,
   "metadata": {
    "ExecuteTime": {
     "end_time": "2024-04-18T20:54:14.050089300Z",
     "start_time": "2024-04-18T20:54:04.368518700Z"
    }
   },
   "outputs": [],
   "source": [
    "saveName = 'recipesFormula.xlsx'\n",
    "wb = xw.Book(saveName)\n",
    "sht: xw.Sheet = wb.sheets['Рецепты']\n",
    "rng: xw.Range = sht.range('A1:Z1')\n",
    "for cell in rng:\n",
    "    if cell.value == 'minutes':\n",
    "#         print(sht.range((1, cell.column)).options(expand='down'))\n",
    "        for i in range(2, 1600):\n",
    "            sub_cell = sht.range((i, cell.column))\n",
    "            try:\n",
    "                v = int(sub_cell.value)\n",
    "            except TypeError:\n",
    "                continue\n",
    "            if v <= 5:\n",
    "                sub_cell.color = '#63ff90'\n",
    "            elif 5 < v < 10:\n",
    "                sub_cell.color = '#63ff90'\n",
    "            elif v >= 10:\n",
    "                sub_cell.color = '#ff6363'\n",
    "        break\n",
    "\n",
    "wb.save('recipesFormulaColors.xlsx')"
   ]
  },
  {
   "cell_type": "markdown",
   "metadata": {},
   "source": [
    "7. Добавьте на лист `Рецепты`  столбец `n_reviews`, содержащий кол-во отзывов для этого рецепта. Выполните задание при помощи формул Excel."
   ]
  },
  {
   "cell_type": "code",
   "execution_count": 34,
   "metadata": {
    "ExecuteTime": {
     "end_time": "2024-04-18T21:15:45.611312300Z",
     "start_time": "2024-04-18T21:15:40.609212100Z"
    }
   },
   "outputs": [],
   "source": [
    "saveName = 'recipesFormulaColors.xlsx'\n",
    "wb = xw.Book(saveName)\n",
    "sht = wb.sheets['Рецепты']\n",
    "table = sht.range('A1').options(convert=pd.DataFrame, expand='table').value\n",
    "\n",
    "s0 = table.shape[0]+2\n",
    "s1 = table.shape[1]+2\n",
    "\n",
    "sht_reviews = wb.sheets[0]\n",
    "sht_recipes = wb.sheets[1]\n",
    "\n",
    "sht.range((1, s1)).value = 'n_reviews'\n",
    "for i in range(2, s0):\n",
    "    sht.range((i, s1)).formula = f'=COUNTIF({sht_reviews.name}!C:C,{sht_recipes.name}!A{i})'\n",
    "\n",
    "wb.save('recipesFormulaColorsNReviews.xlsx')"
   ]
  },
  {
   "cell_type": "markdown",
   "metadata": {},
   "source": [
    "## Лабораторная работа 7.2"
   ]
  },
  {
   "cell_type": "code",
   "execution_count": 23,
   "metadata": {
    "ExecuteTime": {
     "end_time": "2024-04-22T21:19:01.985982700Z",
     "start_time": "2024-04-22T21:19:01.954971200Z"
    },
    "collapsed": false,
    "jupyter": {
     "outputs_hidden": false
    }
   },
   "outputs": [],
   "source": [
    "import xlwings as xw\n",
    "import pandas as pd\n",
    "import csv"
   ]
  },
  {
   "cell_type": "markdown",
   "metadata": {},
   "source": [
    "8. Напишите функцию `validate()`, которая проверяет соответствие всех строк из листа `Отзывы` следующим правилам:\n",
    "    * Рейтинг - это число от 0 до 5 включительно\n",
    "    * Соответствующий рецепт имеется на листе `Рецепты`\n",
    "    \n",
    "В случае несоответствия этим правилам, выделите строку красным цветом"
   ]
  },
  {
   "cell_type": "code",
   "execution_count": 20,
   "metadata": {
    "ExecuteTime": {
     "end_time": "2024-04-22T21:01:13.845102800Z",
     "start_time": "2024-04-22T21:01:03.668040400Z"
    },
    "collapsed": false,
    "jupyter": {
     "outputs_hidden": false
    }
   },
   "outputs": [
    {
     "ename": "com_error",
     "evalue": "(-2146827864, 'OLE error 0x800a01a8', None, None)",
     "output_type": "error",
     "traceback": [
      "\u001b[1;31m---------------------------------------------------------------------------\u001b[0m",
      "\u001b[1;31mcom_error\u001b[0m                                 Traceback (most recent call last)",
      "Cell \u001b[1;32mIn[20], line 28\u001b[0m\n\u001b[0;32m     25\u001b[0m             need_to_paint \u001b[38;5;241m=\u001b[39m \u001b[38;5;28;01mTrue\u001b[39;00m\n\u001b[0;32m     27\u001b[0m     \u001b[38;5;28;01mif\u001b[39;00m need_to_paint:\n\u001b[1;32m---> 28\u001b[0m         \u001b[38;5;28;01mfor\u001b[39;00m cell \u001b[38;5;129;01min\u001b[39;00m \u001b[43mmain_sht\u001b[49m\u001b[38;5;241;43m.\u001b[39;49m\u001b[43mrange\u001b[49m\u001b[43m(\u001b[49m\u001b[38;5;124;43m'\u001b[39;49m\u001b[38;5;124;43mA\u001b[39;49m\u001b[38;5;124;43m'\u001b[39;49m\u001b[38;5;241;43m+\u001b[39;49m\u001b[38;5;28;43mstr\u001b[39;49m\u001b[43m(\u001b[49m\u001b[43mi\u001b[49m\u001b[43m)\u001b[49m\u001b[43m)\u001b[49m\u001b[38;5;241;43m.\u001b[39;49m\u001b[43mexpand\u001b[49m\u001b[43m(\u001b[49m\u001b[38;5;124;43m'\u001b[39;49m\u001b[38;5;124;43mright\u001b[39;49m\u001b[38;5;124;43m'\u001b[39;49m\u001b[43m)\u001b[49m:\n\u001b[0;32m     29\u001b[0m             cell\u001b[38;5;241m.\u001b[39mcolor \u001b[38;5;241m=\u001b[39m \u001b[38;5;124m'\u001b[39m\u001b[38;5;124m#ff6363\u001b[39m\u001b[38;5;124m'\u001b[39m\n\u001b[0;32m     31\u001b[0m wb\u001b[38;5;241m.\u001b[39msave(\u001b[38;5;124m'\u001b[39m\u001b[38;5;124mrecipesValidated.xlsx\u001b[39m\u001b[38;5;124m'\u001b[39m)\n",
      "File \u001b[1;32m~\\AppData\\Local\\Programs\\Python\\Python310\\lib\\site-packages\\xlwings\\main.py:2442\u001b[0m, in \u001b[0;36mRange.expand\u001b[1;34m(self, mode)\u001b[0m\n\u001b[0;32m   2414\u001b[0m \u001b[38;5;28;01mdef\u001b[39;00m \u001b[38;5;21mexpand\u001b[39m(\u001b[38;5;28mself\u001b[39m, mode\u001b[38;5;241m=\u001b[39m\u001b[38;5;124m\"\u001b[39m\u001b[38;5;124mtable\u001b[39m\u001b[38;5;124m\"\u001b[39m):\n\u001b[0;32m   2415\u001b[0m \u001b[38;5;250m    \u001b[39m\u001b[38;5;124;03m\"\"\"\u001b[39;00m\n\u001b[0;32m   2416\u001b[0m \u001b[38;5;124;03m    Expands the range according to the mode provided. Ignores empty top-left cells\u001b[39;00m\n\u001b[0;32m   2417\u001b[0m \u001b[38;5;124;03m    (unlike ``Range.end()``).\u001b[39;00m\n\u001b[1;32m   (...)\u001b[0m\n\u001b[0;32m   2440\u001b[0m \u001b[38;5;124;03m    .. versionadded:: 0.9.0\u001b[39;00m\n\u001b[0;32m   2441\u001b[0m \u001b[38;5;124;03m    \"\"\"\u001b[39;00m\n\u001b[1;32m-> 2442\u001b[0m     \u001b[38;5;28;01mreturn\u001b[39;00m \u001b[43mexpansion\u001b[49m\u001b[38;5;241;43m.\u001b[39;49m\u001b[43mexpanders\u001b[49m\u001b[38;5;241;43m.\u001b[39;49m\u001b[43mget\u001b[49m\u001b[43m(\u001b[49m\u001b[43mmode\u001b[49m\u001b[43m,\u001b[49m\u001b[43m \u001b[49m\u001b[43mmode\u001b[49m\u001b[43m)\u001b[49m\u001b[38;5;241;43m.\u001b[39;49m\u001b[43mexpand\u001b[49m\u001b[43m(\u001b[49m\u001b[38;5;28;43mself\u001b[39;49m\u001b[43m)\u001b[49m\n",
      "File \u001b[1;32m~\\AppData\\Local\\Programs\\Python\\Python310\\lib\\site-packages\\xlwings\\expansion.py:76\u001b[0m, in \u001b[0;36mHorizontalExpander.expand\u001b[1;34m(self, rng)\u001b[0m\n\u001b[0;32m     74\u001b[0m \u001b[38;5;28;01mif\u001b[39;00m rng(\u001b[38;5;241m1\u001b[39m, \u001b[38;5;241m2\u001b[39m)\u001b[38;5;241m.\u001b[39mraw_value \u001b[38;5;129;01min\u001b[39;00m _empty:\n\u001b[0;32m     75\u001b[0m     \u001b[38;5;28;01mreturn\u001b[39;00m Range(rng(\u001b[38;5;241m1\u001b[39m, \u001b[38;5;241m1\u001b[39m), rng(rng\u001b[38;5;241m.\u001b[39mshape[\u001b[38;5;241m0\u001b[39m], \u001b[38;5;241m1\u001b[39m))\n\u001b[1;32m---> 76\u001b[0m \u001b[38;5;28;01melif\u001b[39;00m \u001b[43mrng\u001b[49m\u001b[43m(\u001b[49m\u001b[38;5;241;43m1\u001b[39;49m\u001b[43m,\u001b[49m\u001b[43m \u001b[49m\u001b[38;5;241;43m3\u001b[39;49m\u001b[43m)\u001b[49m\u001b[38;5;241;43m.\u001b[39;49m\u001b[43mraw_value\u001b[49m \u001b[38;5;129;01min\u001b[39;00m _empty:\n\u001b[0;32m     77\u001b[0m     \u001b[38;5;28;01mreturn\u001b[39;00m Range(rng(\u001b[38;5;241m1\u001b[39m, \u001b[38;5;241m1\u001b[39m), rng(rng\u001b[38;5;241m.\u001b[39mshape[\u001b[38;5;241m0\u001b[39m], \u001b[38;5;241m2\u001b[39m))\n\u001b[0;32m     78\u001b[0m \u001b[38;5;28;01melse\u001b[39;00m:\n",
      "File \u001b[1;32m~\\AppData\\Local\\Programs\\Python\\Python310\\lib\\site-packages\\xlwings\\main.py:1970\u001b[0m, in \u001b[0;36mRange.raw_value\u001b[1;34m(self)\u001b[0m\n\u001b[0;32m   1961\u001b[0m \u001b[38;5;129m@property\u001b[39m\n\u001b[0;32m   1962\u001b[0m \u001b[38;5;28;01mdef\u001b[39;00m \u001b[38;5;21mraw_value\u001b[39m(\u001b[38;5;28mself\u001b[39m):\n\u001b[0;32m   1963\u001b[0m \u001b[38;5;250m    \u001b[39m\u001b[38;5;124;03m\"\"\"\u001b[39;00m\n\u001b[0;32m   1964\u001b[0m \u001b[38;5;124;03m    Gets and sets the values directly as delivered from/accepted by the engine that\u001b[39;00m\n\u001b[0;32m   1965\u001b[0m \u001b[38;5;124;03m    s being used (``pywin32`` or ``appscript``) without going through any of\u001b[39;00m\n\u001b[1;32m   (...)\u001b[0m\n\u001b[0;32m   1968\u001b[0m \u001b[38;5;124;03m    compatibility.\u001b[39;00m\n\u001b[0;32m   1969\u001b[0m \u001b[38;5;124;03m    \"\"\"\u001b[39;00m\n\u001b[1;32m-> 1970\u001b[0m     \u001b[38;5;28;01mreturn\u001b[39;00m \u001b[38;5;28;43mself\u001b[39;49m\u001b[38;5;241;43m.\u001b[39;49m\u001b[43mimpl\u001b[49m\u001b[38;5;241;43m.\u001b[39;49m\u001b[43mraw_value\u001b[49m\n",
      "File \u001b[1;32m~\\AppData\\Local\\Programs\\Python\\Python310\\lib\\site-packages\\xlwings\\_xlwindows.py:1202\u001b[0m, in \u001b[0;36mRange.raw_value\u001b[1;34m(self)\u001b[0m\n\u001b[0;32m   1199\u001b[0m \u001b[38;5;129m@property\u001b[39m\n\u001b[0;32m   1200\u001b[0m \u001b[38;5;28;01mdef\u001b[39;00m \u001b[38;5;21mraw_value\u001b[39m(\u001b[38;5;28mself\u001b[39m):\n\u001b[0;32m   1201\u001b[0m     \u001b[38;5;28;01mif\u001b[39;00m \u001b[38;5;28mself\u001b[39m\u001b[38;5;241m.\u001b[39mxl \u001b[38;5;129;01mis\u001b[39;00m \u001b[38;5;129;01mnot\u001b[39;00m \u001b[38;5;28;01mNone\u001b[39;00m:\n\u001b[1;32m-> 1202\u001b[0m         \u001b[38;5;28;01mreturn\u001b[39;00m \u001b[38;5;28;43mself\u001b[39;49m\u001b[38;5;241;43m.\u001b[39;49m\u001b[43mxl\u001b[49m\u001b[38;5;241;43m.\u001b[39;49m\u001b[43mValue\u001b[49m\n\u001b[0;32m   1203\u001b[0m     \u001b[38;5;28;01melse\u001b[39;00m:\n\u001b[0;32m   1204\u001b[0m         \u001b[38;5;28;01mreturn\u001b[39;00m \u001b[38;5;28;01mNone\u001b[39;00m\n",
      "File \u001b[1;32m~\\AppData\\Local\\Programs\\Python\\Python310\\lib\\site-packages\\xlwings\\_xlwindows.py:199\u001b[0m, in \u001b[0;36mCOMRetryObjectWrapper.__getattr__\u001b[1;34m(self, item)\u001b[0m\n\u001b[0;32m    197\u001b[0m \u001b[38;5;28;01mwhile\u001b[39;00m \u001b[38;5;28;01mTrue\u001b[39;00m:\n\u001b[0;32m    198\u001b[0m     \u001b[38;5;28;01mtry\u001b[39;00m:\n\u001b[1;32m--> 199\u001b[0m         v \u001b[38;5;241m=\u001b[39m \u001b[38;5;28;43mgetattr\u001b[39;49m\u001b[43m(\u001b[49m\u001b[38;5;28;43mself\u001b[39;49m\u001b[38;5;241;43m.\u001b[39;49m\u001b[43m_inner\u001b[49m\u001b[43m,\u001b[49m\u001b[43m \u001b[49m\u001b[43mitem\u001b[49m\u001b[43m)\u001b[49m\n\u001b[0;32m    200\u001b[0m         \u001b[38;5;28;01mif\u001b[39;00m \u001b[38;5;28misinstance\u001b[39m(v, (CDispatch, CoClassBaseClass, DispatchBaseClass)):\n\u001b[0;32m    201\u001b[0m             \u001b[38;5;28;01mreturn\u001b[39;00m COMRetryObjectWrapper(v)\n",
      "File \u001b[1;32m~\\AppData\\Local\\Programs\\Python\\Python310\\lib\\site-packages\\win32com\\client\\__init__.py:585\u001b[0m, in \u001b[0;36mDispatchBaseClass.__getattr__\u001b[1;34m(self, attr)\u001b[0m\n\u001b[0;32m    581\u001b[0m \u001b[38;5;28;01mif\u001b[39;00m args \u001b[38;5;129;01mis\u001b[39;00m \u001b[38;5;28;01mNone\u001b[39;00m:\n\u001b[0;32m    582\u001b[0m     \u001b[38;5;28;01mraise\u001b[39;00m \u001b[38;5;167;01mAttributeError\u001b[39;00m(\n\u001b[0;32m    583\u001b[0m         \u001b[38;5;124m\"\u001b[39m\u001b[38;5;124m'\u001b[39m\u001b[38;5;132;01m%s\u001b[39;00m\u001b[38;5;124m'\u001b[39m\u001b[38;5;124m object has no attribute \u001b[39m\u001b[38;5;124m'\u001b[39m\u001b[38;5;132;01m%s\u001b[39;00m\u001b[38;5;124m'\u001b[39m\u001b[38;5;124m\"\u001b[39m \u001b[38;5;241m%\u001b[39m (\u001b[38;5;28mrepr\u001b[39m(\u001b[38;5;28mself\u001b[39m), attr)\n\u001b[0;32m    584\u001b[0m     )\n\u001b[1;32m--> 585\u001b[0m \u001b[38;5;28;01mreturn\u001b[39;00m \u001b[38;5;28;43mself\u001b[39;49m\u001b[38;5;241;43m.\u001b[39;49m\u001b[43m_ApplyTypes_\u001b[49m\u001b[43m(\u001b[49m\u001b[38;5;241;43m*\u001b[39;49m\u001b[43margs\u001b[49m\u001b[43m)\u001b[49m\n",
      "File \u001b[1;32m~\\AppData\\Local\\Programs\\Python\\Python310\\lib\\site-packages\\win32com\\client\\__init__.py:574\u001b[0m, in \u001b[0;36mDispatchBaseClass._ApplyTypes_\u001b[1;34m(self, dispid, wFlags, retType, argTypes, user, resultCLSID, *args)\u001b[0m\n\u001b[0;32m    572\u001b[0m \u001b[38;5;28;01mdef\u001b[39;00m \u001b[38;5;21m_ApplyTypes_\u001b[39m(\u001b[38;5;28mself\u001b[39m, dispid, wFlags, retType, argTypes, user, resultCLSID, \u001b[38;5;241m*\u001b[39margs):\n\u001b[0;32m    573\u001b[0m     \u001b[38;5;28;01mreturn\u001b[39;00m \u001b[38;5;28mself\u001b[39m\u001b[38;5;241m.\u001b[39m_get_good_object_(\n\u001b[1;32m--> 574\u001b[0m         \u001b[38;5;28;43mself\u001b[39;49m\u001b[38;5;241;43m.\u001b[39;49m\u001b[43m_oleobj_\u001b[49m\u001b[38;5;241;43m.\u001b[39;49m\u001b[43mInvokeTypes\u001b[49m\u001b[43m(\u001b[49m\u001b[43mdispid\u001b[49m\u001b[43m,\u001b[49m\u001b[43m \u001b[49m\u001b[38;5;241;43m0\u001b[39;49m\u001b[43m,\u001b[49m\u001b[43m \u001b[49m\u001b[43mwFlags\u001b[49m\u001b[43m,\u001b[49m\u001b[43m \u001b[49m\u001b[43mretType\u001b[49m\u001b[43m,\u001b[49m\u001b[43m \u001b[49m\u001b[43margTypes\u001b[49m\u001b[43m,\u001b[49m\u001b[43m \u001b[49m\u001b[38;5;241;43m*\u001b[39;49m\u001b[43margs\u001b[49m\u001b[43m)\u001b[49m,\n\u001b[0;32m    575\u001b[0m         user,\n\u001b[0;32m    576\u001b[0m         resultCLSID,\n\u001b[0;32m    577\u001b[0m     )\n",
      "\u001b[1;31mcom_error\u001b[0m: (-2146827864, 'OLE error 0x800a01a8', None, None)"
     ]
    }
   ],
   "source": [
    "saveName = 'recipes.xlsx'\n",
    "wb = xw.Book(saveName)\n",
    "main_sht = wb.sheets['Отзывы']\n",
    "recipes = wb.sheets['Рецепты'].range('A1').options(pd.DataFrame, expand='table').value\n",
    "table = main_sht.range('A1').options(pd.DataFrame, expand='table').value\n",
    "\n",
    "s0 = table.shape[0]+2\n",
    "for i in range(2, s0):\n",
    "    rating: xw.Range = main_sht.range((i, 5))\n",
    "    recipe_id: xw.Range = main_sht.range((i, 3))\n",
    "    need_to_paint = False\n",
    "    try:\n",
    "        rating_num = int(rating.value)\n",
    "        if rating_num < 0 or rating_num > 5:\n",
    "            need_to_paint = True\n",
    "    except ValueError:\n",
    "        need_to_paint = True\n",
    "    \n",
    "    if not need_to_paint:\n",
    "        try:\n",
    "            recipe_id_num = int(recipe_id.value)\n",
    "            if len(recipes.loc[recipes['id'] == recipe_id_num]) == 0:\n",
    "                need_to_paint = True\n",
    "        except ValueError:\n",
    "            need_to_paint = True\n",
    "    \n",
    "    if need_to_paint:\n",
    "        for cell in main_sht.range('A'+str(i)).expand('right'):\n",
    "            cell.color = '#ff6363'\n",
    "\n",
    "wb.save('recipesValidated.xlsx')"
   ]
  },
  {
   "cell_type": "markdown",
   "metadata": {},
   "source": [
    "9. В файле `recipes_model.csv` находится модель данных предметной области \"рецепты\". При помощи пакета `csv` считайте эти данные. При помощи пакета `xlwings` запишите данные на лист `Модель` книги `recipes_model.xlsx`, начиная с ячейки `A2`, не используя циклы. Сделайте скриншот текущего состояния листа и прикрепите в ячейку ноутбука. "
   ]
  },
  {
   "cell_type": "code",
   "execution_count": null,
   "metadata": {
    "collapsed": false,
    "jupyter": {
     "outputs_hidden": false
    }
   },
   "outputs": [],
   "source": []
  },
  {
   "cell_type": "code",
   "execution_count": 38,
   "metadata": {
    "ExecuteTime": {
     "end_time": "2024-04-22T21:25:45.750287300Z",
     "start_time": "2024-04-22T21:25:44.530242800Z"
    },
    "collapsed": false,
    "jupyter": {
     "outputs_hidden": false
    }
   },
   "outputs": [],
   "source": [
    "data = None\n",
    "with open('recipes_model.csv', encoding='utf-8') as file:\n",
    "    reader = csv.reader(file, delimiter='\\t')\n",
    "    for row in reader:\n",
    "        # row = [i for i in row if i != '']\n",
    "        if data is None:\n",
    "            data = pd.DataFrame(columns=row)\n",
    "        else:\n",
    "            data.loc[len(data)] = row\n",
    "\n",
    "saveName = 'recipes_model.csv'\n",
    "wb = xw.Book()\n",
    "defaultName = wb.sheets[0].name\n",
    "sht_model = wb.sheets.add('Модель')\n",
    "wb.sheets[defaultName].delete()\n",
    "\n",
    "sht_model.range('A1').options(pd.DataFrame, index=False, header=1).value = data\n",
    "\n",
    "wb.save('recipes_model.xlsx')"
   ]
  },
  {
   "attachments": {
    "a9c327fe-67cc-4871-b5f8-d76cdd462e07.png": {
     "image/png": "[encoded data removed]"
    }
   },
   "cell_type": "markdown",
   "metadata": {
    "collapsed": false,
    "jupyter": {
     "outputs_hidden": false
    }
   },
   "source": [
    "![изображение.png](attachment:a9c327fe-67cc-4871-b5f8-d76cdd462e07.png)"
   ]
  },
  {
   "cell_type": "markdown",
   "metadata": {},
   "source": [
    "10. При помощи пакета `xlwings` добавьте в столбец J формулу для описания столбца на языке SQL. Формула должна реализовывать следующую логику:\n",
    "\n",
    "    1\\. в начале строки идут значения из столбцов В и C (значение столбца С приведено к верхнему регистру), разделенные пробелом\n",
    "    \n",
    "    2\\. далее идут слова на основе столбца \"Ключ\"\n",
    "        2.1 если в столбце \"Ключ\" указано значение \"PK\", то дальше через пробел идет ключевое слово \"PRIMARY KEY\"\n",
    "        2.2 если в столбце \"Ключ\" указано значение \"FK\", то дальше через пробел идет ключевое слово \"REFERENCES\", затем значения столбцов H и I в формате \"название_таблицы(название_столбца)\"\n",
    "        \n",
    "    3\\. если в столбце \"Обязательно к заполнению\" указано значение \"Y\" и в столбце \"Ключ\" указано не \"PK\", то дальше через пробел идет ключевое слово \"NOT NULL\".\n",
    "\n",
    "Заполните этой формулой необходимое количество строк, используя \"протягивание\". Количество строк для протягивания определите на основе данных.\n",
    "\n",
    "Сделайте скриншот текущего состояния листа и прикрепите в ячейку ноутбука."
   ]
  },
  {
   "cell_type": "markdown",
   "metadata": {},
   "source": [
    "11. При помощи пакета `xlwings` измените стилизацию листа `Модель`.\n",
    "* для заголовков добавьте заливку цвета `00ccff`\n",
    "* примените автоподбор ширины столбца;\n",
    "* сделайте шрифт заголовков полужирным;\n",
    "* добавьте таблице автофильтр.\n",
    "\n",
    "Сделайте скриншот текущего состояния листа и прикрепите в ячейку ноутбука."
   ]
  },
  {
   "cell_type": "markdown",
   "metadata": {},
   "source": [
    "12. Посчитайте количество атрибутов для каждой из сущностей. Создайте лист `Статистика` и запишите в него результат группировки, начиная с ячейки \"А1\". Визуализируйте полученный результат при помощи столбчатой диаграммы. Сохраните полученную визуализацию на лист `Статистика`, начиная с ячейки \"E2\".  Сделайте скриншот листа `Статистика` и прикрепите в ячейку ноутбука.\n",
    "\n",
    "* Вы можете воспользоваться методами для визуализации, которые поставляются вместе с объектами `pandas` (см. https://pandas.pydata.org/docs/reference/api/pandas.DataFrame.plot) "
   ]
  }
 ],
 "metadata": {
  "kernelspec": {
   "display_name": "Python 3 (ipykernel)",
   "language": "python",
   "name": "python3"
  },
  "language_info": {
   "codemirror_mode": {
    "name": "ipython",
    "version": 3
   },
   "file_extension": ".py",
   "mimetype": "text/x-python",
   "name": "python",
   "nbconvert_exporter": "python",
   "pygments_lexer": "ipython3",
   "version": "3.10.9"
  }
 },
 "nbformat": 4,
 "nbformat_minor": 4
}
