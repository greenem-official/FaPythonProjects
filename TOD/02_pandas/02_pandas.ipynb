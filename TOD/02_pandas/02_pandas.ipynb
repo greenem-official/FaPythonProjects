{
 "cells": [
  {
   "cell_type": "markdown",
   "metadata": {},
   "source": [
    "# Pandas"
   ]
  },
  {
   "cell_type": "markdown",
   "metadata": {},
   "source": [
    "Материалы:\n",
    "* Макрушин С.В. \"Лекция 2: Библиотека Pandas\"\n",
    "* https://pandas.pydata.org/docs/user_guide/index.html#\n",
    "* https://pandas.pydata.org/docs/reference/index.html\n",
    "* Уэс Маккини. Python и анализ данных"
   ]
  },
  {
   "cell_type": "markdown",
   "metadata": {},
   "source": [
    "## Задачи для совместного разбора"
   ]
  },
  {
   "cell_type": "markdown",
   "metadata": {},
   "source": [
    "1. Загрузите данные из файла `sp500hst.txt` и обозначьте столбцы в соответствии с содержимым: `\"date\", \"ticker\", \"open\", \"high\", \"low\", \"close\", \"volume\"`."
   ]
  },
  {
   "cell_type": "code",
   "execution_count": 128,
   "metadata": {
    "ExecuteTime": {
     "end_time": "2024-03-18T22:05:26.631827300Z",
     "start_time": "2024-03-18T22:05:26.347827600Z"
    }
   },
   "outputs": [
    {
     "name": "stdout",
     "output_type": "stream",
     "text": [
      "date      [b'20090821', b'20090824', b'20090825', b'2009...\n",
      "ticker    [b'A', b'A', b'A', b'A', b'A', b'A', b'A', b'A...\n",
      "open      [b'25.6', b'25.64', b'25.5', b'25.32', b'25.5'...\n",
      "high      [b'25.61', b'25.74', b'25.7', b'25.6425', b'25...\n",
      "low       [b'25.22', b'25.33', b'25.225', b'25.145', b'2...\n",
      "close     [b'25.55', b'25.5', b'25.34', b'25.48', b'25.5...\n",
      "volume    [b'34758', b'22247', b'30891', b'33334', b'701...\n",
      "dtype: object\n",
      "\n",
      "Второй способ\n",
      "\n",
      "            date ticker   open     high     low  close  volume\n",
      "0       20090824      A  25.64  25.7400  25.330  25.50   22247\n",
      "1       20090825      A  25.50  25.7000  25.225  25.34   30891\n",
      "2       20090826      A  25.32  25.6425  25.145  25.48   33334\n",
      "3       20090827      A  25.50  25.5700  25.230  25.54   70176\n",
      "4       20090828      A  25.67  26.0500  25.630  25.83   39694\n",
      "...          ...    ...    ...      ...     ...    ...     ...\n",
      "122568  20100813    ZMH  51.72  51.9000  51.380  51.44   14561\n",
      "122569  20100816    ZMH  51.13  51.4700  50.600  51.00   13489\n",
      "122570  20100817    ZMH  51.14  51.6000  50.890  51.21   20498\n",
      "122571  20100819    ZMH  51.63  51.6300  50.170  50.22   18259\n",
      "122572  20100820    ZMH  50.03  50.5500  49.480  49.82   17792\n",
      "\n",
      "[122573 rows x 7 columns]\n"
     ]
    }
   ],
   "source": [
    "import numpy as np\n",
    "import pandas as pd\n",
    "\n",
    "sr = pd.Series(np.loadtxt('sp500hst.txt', delimiter=',', dtype=np.string_).transpose().tolist(), index=[\"date\", \"ticker\", \"open\", \"high\", \"low\", \"close\", \"volume\"])\n",
    "print(sr)\n",
    "\n",
    "print('\\nВторой способ\\n')\n",
    "\n",
    "csv_data = pd.read_csv('sp500hst.txt', sep=',')\n",
    "csv_data.columns = [\"date\", \"ticker\", \"open\", \"high\", \"low\", \"close\", \"volume\"]\n",
    "print(csv_data)"
   ]
  },
  {
   "cell_type": "markdown",
   "metadata": {},
   "source": [
    "2. Рассчитайте среднее значение показателей для каждого из столбцов c номерами 3-6."
   ]
  },
  {
   "cell_type": "code",
   "execution_count": 129,
   "metadata": {
    "ExecuteTime": {
     "end_time": "2024-03-18T22:05:26.804827500Z",
     "start_time": "2024-03-18T22:05:26.572826300Z"
    }
   },
   "outputs": [
    {
     "name": "stdout",
     "output_type": "stream",
     "text": [
      "43.102243387667855\n",
      "42.05446366521448\n",
      "42.60186484817335\n",
      "81395.06813843067\n"
     ]
    }
   ],
   "source": [
    "import numpy as np\n",
    "import pandas as pd\n",
    "\n",
    "sr = pd.Series(np.loadtxt('sp500hst.txt', delimiter=',', dtype=np.string_).transpose().tolist(), index=[\"date\", \"ticker\", \"open\", \"high\", \"low\", \"close\", \"volume\"])\n",
    "\n",
    "for i in range(3, 7):\n",
    "    df = pd.DataFrame(sr[i])\n",
    "    print(np.average(df.astype('float64')))"
   ]
  },
  {
   "cell_type": "markdown",
   "metadata": {},
   "source": [
    "3. Добавьте столбец, содержащий только число месяца, к которому относится дата."
   ]
  },
  {
   "cell_type": "code",
   "execution_count": 130,
   "metadata": {
    "ExecuteTime": {
     "end_time": "2024-03-18T22:05:26.979964200Z",
     "start_time": "2024-03-18T22:05:26.806828500Z"
    }
   },
   "outputs": [
    {
     "name": "stdout",
     "output_type": "stream",
     "text": [
      "               date  ticker      open        high        low     close  \\\n",
      "0       b'20090821'    b'A'   b'25.6'    b'25.61'   b'25.22'  b'25.55'   \n",
      "1       b'20090824'    b'A'  b'25.64'    b'25.74'   b'25.33'   b'25.5'   \n",
      "2       b'20090825'    b'A'   b'25.5'     b'25.7'  b'25.225'  b'25.34'   \n",
      "3       b'20090826'    b'A'  b'25.32'  b'25.6425'  b'25.145'  b'25.48'   \n",
      "4       b'20090827'    b'A'   b'25.5'    b'25.57'   b'25.23'  b'25.54'   \n",
      "...             ...     ...       ...         ...        ...       ...   \n",
      "122569  b'20100813'  b'ZMH'  b'51.72'     b'51.9'   b'51.38'  b'51.44'   \n",
      "122570  b'20100816'  b'ZMH'  b'51.13'    b'51.47'    b'50.6'     b'51'   \n",
      "122571  b'20100817'  b'ZMH'  b'51.14'     b'51.6'   b'50.89'  b'51.21'   \n",
      "122572  b'20100819'  b'ZMH'  b'51.63'    b'51.63'   b'50.17'  b'50.22'   \n",
      "122573  b'20100820'  b'ZMH'  b'50.03'    b'50.55'   b'49.48'  b'49.82'   \n",
      "\n",
      "          volume  month  \n",
      "0       b'34758'      8  \n",
      "1       b'22247'      8  \n",
      "2       b'30891'      8  \n",
      "3       b'33334'      8  \n",
      "4       b'70176'      8  \n",
      "...          ...    ...  \n",
      "122569  b'14561'      8  \n",
      "122570  b'13489'      8  \n",
      "122571  b'20498'      8  \n",
      "122572  b'18259'      8  \n",
      "122573  b'17792'      8  \n",
      "\n",
      "[122574 rows x 8 columns]\n"
     ]
    }
   ],
   "source": [
    "import numpy as np\n",
    "import pandas as pd\n",
    "\n",
    "data = np.loadtxt('sp500hst.txt', delimiter=',', dtype=np.string_)\n",
    "df = pd.DataFrame(data, columns=[\"date\", \"ticker\", \"open\", \"high\", \"low\", \"close\", \"volume\"])\n",
    "\n",
    "df['month'] = pd.to_datetime(df['date'].astype(np.int32), format='%Y%m%d').dt.month\n",
    "print(df)"
   ]
  },
  {
   "cell_type": "markdown",
   "metadata": {},
   "source": [
    "4. Рассчитайте суммарный объем торгов для для одинаковых значений тикеров."
   ]
  },
  {
   "cell_type": "code",
   "execution_count": 131,
   "metadata": {
    "ExecuteTime": {
     "end_time": "2024-03-18T22:05:27.041964600Z",
     "start_time": "2024-03-18T22:05:26.976965Z"
    }
   },
   "outputs": [
    {
     "name": "stdout",
     "output_type": "stream",
     "text": [
      "ticker\n",
      "A        8574578\n",
      "AA      81898998\n",
      "AAPL    52261170\n",
      "ABC      9006756\n",
      "ABT     18975870\n",
      "          ...   \n",
      "XTO     21297931\n",
      "YHOO    56837171\n",
      "YUM     10971538\n",
      "ZION    15551119\n",
      "ZMH      4938916\n",
      "Name: volume, Length: 524, dtype: int64\n"
     ]
    }
   ],
   "source": [
    "import pandas as pd\n",
    "\n",
    "csv_data = pd.read_csv('sp500hst.txt', sep=',')\n",
    "csv_data.columns = [\"date\", \"ticker\", \"open\", \"high\", \"low\", \"close\", \"volume\"]\n",
    "summary = csv_data.groupby('ticker')['volume'].sum()\n",
    "print(summary)"
   ]
  },
  {
   "cell_type": "markdown",
   "metadata": {},
   "source": [
    "5. Загрузите данные из файла sp500hst.txt и обозначьте столбцы в соответствии с содержимым: \"date\", \"ticker\", \"open\", \"high\", \"low\", \"close\", \"volume\". Добавьте столбец с расшифровкой названия тикера, используя данные из файла `sp_data2.csv` . В случае нехватки данных об именах тикеров корректно обработать их."
   ]
  },
  {
   "cell_type": "code",
   "execution_count": 132,
   "metadata": {
    "ExecuteTime": {
     "end_time": "2024-03-18T22:05:27.117963800Z",
     "start_time": "2024-03-18T22:05:27.041964600Z"
    }
   },
   "outputs": [
    {
     "name": "stdout",
     "output_type": "stream",
     "text": [
      "           date ticker   open     high     low  close  volume  \\\n",
      "0      20090821      A  25.60  25.6100  25.220  25.55   34758   \n",
      "1      20090824      A  25.64  25.7400  25.330  25.50   22247   \n",
      "2      20090825      A  25.50  25.7000  25.225  25.34   30891   \n",
      "3      20090826      A  25.32  25.6425  25.145  25.48   33334   \n",
      "4      20090827      A  25.50  25.5700  25.230  25.54   70176   \n",
      "...         ...    ...    ...      ...     ...    ...     ...   \n",
      "82167  20100813   ZION  20.17  20.4300  19.840  19.89   25193   \n",
      "82168  20100816   ZION  19.81  19.9600  19.600  19.95   25914   \n",
      "82169  20100817   ZION  20.07  20.4700  19.830  20.31   31717   \n",
      "82170  20100819   ZION  19.83  20.0000  19.130  19.35   45935   \n",
      "82171  20100820   ZION  19.15  19.2700  18.810  19.14   37225   \n",
      "\n",
      "           ticker_full_name  \n",
      "0      Agilent Technologies  \n",
      "1      Agilent Technologies  \n",
      "2      Agilent Technologies  \n",
      "3      Agilent Technologies  \n",
      "4      Agilent Technologies  \n",
      "...                     ...  \n",
      "82167         Zions Bancorp  \n",
      "82168         Zions Bancorp  \n",
      "82169         Zions Bancorp  \n",
      "82170         Zions Bancorp  \n",
      "82171         Zions Bancorp  \n",
      "\n",
      "[82172 rows x 8 columns]\n"
     ]
    }
   ],
   "source": [
    "import pandas as pd\n",
    "\n",
    "csv_data = pd.read_csv('sp500hst.txt', sep=',', names=[\"date\", \"ticker\", \"open\", \"high\", \"low\", \"close\", \"volume\"])\n",
    "extra_data = pd.read_csv('sp_data2.csv', sep =';', names = [\"ticker\", \"ticker_full_name\", \"percent\"])\n",
    "\n",
    "# Из данных от sp_data2.csv убирается третий столбец \n",
    "extra_data = extra_data.drop('percent', axis=1)\n",
    "# К csv_data добавляется столбец ticker_full_name, опираясь на ticker\n",
    "result = pd.merge(csv_data, extra_data)\n",
    "print(result)"
   ]
  },
  {
   "cell_type": "markdown",
   "metadata": {},
   "source": [
    "## Лабораторная работа №2"
   ]
  },
  {
   "cell_type": "markdown",
   "metadata": {},
   "source": [
    "### Базовые операции с `DataFrame`"
   ]
  },
  {
   "cell_type": "markdown",
   "metadata": {},
   "source": [
    "1.1 В файлах `recipes_sample.csv` и `reviews_sample.csv` находится информация об рецептах блюд и отзывах на эти рецепты соответственно. Загрузите данные из файлов в виде `pd.DataFrame` с названиями `recipes` и `reviews`. Обратите внимание на корректное считывание столбца с индексами в таблице `reviews` (безымянный столбец)."
   ]
  },
  {
   "cell_type": "code",
   "execution_count": 133,
   "metadata": {
    "ExecuteTime": {
     "end_time": "2024-03-18T22:05:27.638014100Z",
     "start_time": "2024-03-18T22:05:27.118963700Z"
    }
   },
   "outputs": [
    {
     "name": "stdout",
     "output_type": "stream",
     "text": [
      "                                       name     id  minutes  contributor_id  \\\n",
      "0     george s at the cove  black bean soup  44123       90           35193   \n",
      "1        healthy for them  yogurt popsicles  67664       10           91970   \n",
      "2              i can t believe it s spinach  38798       30            1533   \n",
      "3                      italian  gut busters  35173       45           22724   \n",
      "4  love is in the air  beef fondue   sauces  84797       25            4470   \n",
      "\n",
      "   submitted  n_steps                                        description  \\\n",
      "0 2002-10-25      NaN  an original recipe created by chef scott meska...   \n",
      "1 2003-07-26      NaN  my children and their friends ask for my homem...   \n",
      "2 2002-08-29      NaN            these were so go, it surprised even me.   \n",
      "3 2002-07-27      NaN  my sister-in-law made these for us at a family...   \n",
      "4 2004-02-23      4.0  i think a fondue is a very romantic casual din...   \n",
      "\n",
      "   n_ingredients  \n",
      "0           18.0  \n",
      "1            NaN  \n",
      "2            8.0  \n",
      "3            NaN  \n",
      "4            NaN  \n",
      "   review_id     user_id  recipe_id        date  rating  \\\n",
      "0     370476       21752      57993  2003-05-01       5   \n",
      "1     624300      431813     142201  2007-09-16       5   \n",
      "2     187037      400708     252013  2008-01-10       4   \n",
      "3     706134  2001852463     404716  2017-12-11       5   \n",
      "4     312179       95810     129396  2008-03-14       5   \n",
      "\n",
      "                                              review  \n",
      "0  Last week whole sides of frozen salmon fillet ...  \n",
      "1  So simple and so tasty!  I used a yellow capsi...  \n",
      "2  Very nice breakfast HH, easy to make and yummy...  \n",
      "3  These are a favorite for the holidays and so e...  \n",
      "4  Excellent soup!  The tomato flavor is just gre...  \n"
     ]
    }
   ],
   "source": [
    "import pandas as pd\n",
    "\n",
    "recipes = pd.read_csv('recipes_sample.csv', header=0)\n",
    "reviews = pd.read_csv('reviews_sample.csv', header=0)\n",
    "# Можно ещё через .rename(columns={'old_name': 'new_name'})\n",
    "reviews.columns.values[0] = 'review_id'\n",
    "# Требуется модифицировать по условию из 2.2\n",
    "recipes['submitted'] = pd.to_datetime(recipes['submitted'])\n",
    "\n",
    "print(recipes.head())\n",
    "print(reviews.head())"
   ]
  },
  {
   "cell_type": "markdown",
   "metadata": {},
   "source": [
    "1.2 Для каждой из таблиц выведите основные параметры:\n",
    "* количество точек данных (строк);\n",
    "* количество столбцов;\n",
    "* тип данных каждого столбца."
   ]
  },
  {
   "cell_type": "code",
   "execution_count": 134,
   "outputs": [
    {
     "name": "stdout",
     "output_type": "stream",
     "text": [
      "Recipes: 30000 indexes, 8 columns\n",
      "Reviews: 126696 indexes, 6 columns\n",
      "\n",
      "Recipes:\n",
      "name                      object\n",
      "id                         int64\n",
      "minutes                    int64\n",
      "contributor_id             int64\n",
      "submitted         datetime64[ns]\n",
      "n_steps                  float64\n",
      "description               object\n",
      "n_ingredients            float64\n",
      "dtype: object\n",
      "\n",
      "Reviews:\n",
      "review_id     int64\n",
      "user_id       int64\n",
      "recipe_id     int64\n",
      "date         object\n",
      "rating        int64\n",
      "review       object\n",
      "dtype: object\n"
     ]
    }
   ],
   "source": [
    "dataframes = [recipes, reviews]\n",
    "names = ['Recipes', 'Reviews']\n",
    "\n",
    "for i in range(len(dataframes)):\n",
    "    print(f'{names[i]}: {len(dataframes[i].index)} indexes, {len(dataframes[i].columns)} columns')\n",
    "\n",
    "print(f'\\nRecipes:\\n{recipes.dtypes}')\n",
    "print(f'\\nReviews:\\n{reviews.dtypes}')"
   ],
   "metadata": {
    "collapsed": false,
    "ExecuteTime": {
     "end_time": "2024-03-18T22:05:27.679013600Z",
     "start_time": "2024-03-18T22:05:27.635013800Z"
    }
   }
  },
  {
   "cell_type": "markdown",
   "metadata": {},
   "source": [
    "1.3 Исследуйте, в каких столбцах таблиц содержатся пропуски. Посчитайте долю строк, содержащих пропуски, в отношении к общему количеству строк."
   ]
  },
  {
   "cell_type": "code",
   "execution_count": 135,
   "outputs": [
    {
     "name": "stdout",
     "output_type": "stream",
     "text": [
      "0.5684666666666667\n"
     ]
    }
   ],
   "source": [
    "# .dropna() удаляет пропуски\n",
    "print((len(recipes) - len(recipes.dropna())) / len(recipes))"
   ],
   "metadata": {
    "collapsed": false,
    "ExecuteTime": {
     "end_time": "2024-03-18T22:05:27.686012900Z",
     "start_time": "2024-03-18T22:05:27.651014Z"
    }
   }
  },
  {
   "cell_type": "markdown",
   "metadata": {},
   "source": [
    "1.4 Рассчитайте среднее значение для каждого из числовых столбцов (где это имеет смысл)."
   ]
  },
  {
   "cell_type": "code",
   "execution_count": 136,
   "outputs": [
    {
     "name": "stdout",
     "output_type": "stream",
     "text": [
      "Recipes: minutes mean = 123.35813333333333, n_ingredients mean = 9.008285984848484\n",
      "Reviews: rating mean = 4.410802235271832\n"
     ]
    }
   ],
   "source": [
    "print(f'Recipes: minutes mean = {recipes[\"minutes\"].mean()}, n_ingredients mean = {recipes[\"n_ingredients\"].dropna().mean()}')\n",
    "print(f'Reviews: rating mean = {reviews[\"rating\"].mean()}')"
   ],
   "metadata": {
    "collapsed": false,
    "ExecuteTime": {
     "end_time": "2024-03-18T22:05:27.687013700Z",
     "start_time": "2024-03-18T22:05:27.665012500Z"
    }
   }
  },
  {
   "cell_type": "markdown",
   "metadata": {},
   "source": [
    "1.5 Создайте серию из 10 случайных названий рецептов."
   ]
  },
  {
   "cell_type": "code",
   "execution_count": 137,
   "outputs": [
    {
     "name": "stdout",
     "output_type": "stream",
     "text": [
      "0                            smoky peas   potatoes\n",
      "1                        italian sausage orzo soup\n",
      "2                      crock pot apple brown betty\n",
      "3                                   birdseed bread\n",
      "4                      jolean s hominy and sausage\n",
      "5      moosewood red  gold  black  and green chili\n",
      "6                         low fat creamy cucumbers\n",
      "7                    melon balls with rum and lime\n",
      "8    lisa s white chocolate strawberry mousse cake\n",
      "9                          broccoli cheese squares\n",
      "dtype: object\n"
     ]
    }
   ],
   "source": [
    "import numpy as np\n",
    "\n",
    "ser = pd.Series([recipes.iloc[i]['name'] for i in np.random.randint(0, 29999, 10)])\n",
    "print(ser)"
   ],
   "metadata": {
    "collapsed": false,
    "ExecuteTime": {
     "end_time": "2024-03-18T22:05:27.700013300Z",
     "start_time": "2024-03-18T22:05:27.682011900Z"
    }
   }
  },
  {
   "cell_type": "markdown",
   "metadata": {},
   "source": [
    "1.6 Измените индекс в таблице `reviews`, пронумеровав строки, начиная с нуля."
   ]
  },
  {
   "cell_type": "code",
   "execution_count": 138,
   "outputs": [
    {
     "name": "stdout",
     "output_type": "stream",
     "text": [
      "        review_id     user_id  recipe_id        date  rating  \\\n",
      "0          370476       21752      57993  2003-05-01       5   \n",
      "1          624300      431813     142201  2007-09-16       5   \n",
      "2          187037      400708     252013  2008-01-10       4   \n",
      "3          706134  2001852463     404716  2017-12-11       5   \n",
      "4          312179       95810     129396  2008-03-14       5   \n",
      "...           ...         ...        ...         ...     ...   \n",
      "126691    1013457     1270706     335534  2009-05-17       4   \n",
      "126692     158736     2282344       8701  2012-06-03       0   \n",
      "126693    1059834      689540     222001  2008-04-08       5   \n",
      "126694     453285  2000242659     354979  2015-06-02       5   \n",
      "126695     691207      463435     415599  2010-09-30       5   \n",
      "\n",
      "                                                   review  \n",
      "0       Last week whole sides of frozen salmon fillet ...  \n",
      "1       So simple and so tasty!  I used a yellow capsi...  \n",
      "2       Very nice breakfast HH, easy to make and yummy...  \n",
      "3       These are a favorite for the holidays and so e...  \n",
      "4       Excellent soup!  The tomato flavor is just gre...  \n",
      "...                                                   ...  \n",
      "126691  This recipe was great! I made it last night. I...  \n",
      "126692  This recipe is outstanding. I followed the rec...  \n",
      "126693  Well, we were not a crowd but it was a fabulou...  \n",
      "126694  I have been a steak eater and dedicated BBQ gr...  \n",
      "126695  Wonderful and simple to prepare seasoning blen...  \n",
      "\n",
      "[126696 rows x 6 columns]\n"
     ]
    }
   ],
   "source": [
    "reviews_temp = reviews.copy()\n",
    "# Перенумерация строк с нуля (принудительная)\n",
    "reviews_temp = reviews_temp.reset_index(drop=True)\n",
    "print(reviews_temp)"
   ],
   "metadata": {
    "collapsed": false,
    "ExecuteTime": {
     "end_time": "2024-03-18T22:05:27.767016Z",
     "start_time": "2024-03-18T22:05:27.698013200Z"
    }
   }
  },
  {
   "cell_type": "markdown",
   "metadata": {},
   "source": [
    "1.7 Выведите информацию о рецептах, время выполнения которых не больше 20 минут и кол-во ингредиентов в которых не больше 5."
   ]
  },
  {
   "cell_type": "code",
   "execution_count": 139,
   "outputs": [
    {
     "name": "stdout",
     "output_type": "stream",
     "text": [
      "                                                    name      id  minutes  \\\n",
      "28                                   quick biscuit bread  302399       20   \n",
      "60                         peas  fit for a king or queen  303944       20   \n",
      "90                     hawaiian sunrise           mimosa  100837        5   \n",
      "91            tasty dish s   banana pudding in 2 minutes  286484        2   \n",
      "94                                    1 minute meatballs   11361       13   \n",
      "...                                                  ...     ...      ...   \n",
      "29873  zip and steam red potatoes with butter and garlic  304922       13   \n",
      "29874                          ziplock vanilla ice cream   74250       10   \n",
      "29905                      zucchini and corn with cheese  256177       15   \n",
      "29980               zucchini with jalapeno monterey jack  320622       10   \n",
      "29983                          zucchini with serrano ham  162411       15   \n",
      "\n",
      "       contributor_id  submitted  n_steps  \\\n",
      "28             213909 2008-05-06     11.0   \n",
      "60             213909 2008-05-16      NaN   \n",
      "90              58104 2004-09-29      4.0   \n",
      "91              47892 2008-02-13      NaN   \n",
      "94               4470 2001-09-03      NaN   \n",
      "...               ...        ...      ...   \n",
      "29873          724218 2008-05-27      9.0   \n",
      "29874           24386 2003-10-29      8.0   \n",
      "29905          305531 2007-09-29      4.0   \n",
      "29980          305531 2008-08-20      3.0   \n",
      "29983          152500 2006-03-31      6.0   \n",
      "\n",
      "                                             description  n_ingredients  \n",
      "28     this is a wonderful quick bread to make as an ...            5.0  \n",
      "60     this recipe is so simple and the flavors are s...            5.0  \n",
      "90     pineapple mimosa was changed to hawaiian sunri...            3.0  \n",
      "91     \"mmmm, i love bananas!\" a --tasty dish-- origi...            4.0  \n",
      "94     this is a real short cut for cooks in a hurry....            2.0  \n",
      "...                                                  ...            ...  \n",
      "29873  i haven't tried this yet, but i am going to so...            5.0  \n",
      "29874  a fun thing for kids to do. may want to use mi...            3.0  \n",
      "29905  from betty crocker fresh spring recipes. i lik...            5.0  \n",
      "29980                                  simple and yummy!            3.0  \n",
      "29983  this dish is from tim malzer, a german chef wh...            5.0  \n",
      "\n",
      "[2019 rows x 8 columns]\n"
     ]
    }
   ],
   "source": [
    "# Пересечение масок\n",
    "# Для масок применимы операторы ~, &, |\n",
    "print(recipes[(recipes['minutes'] <= 20) & (recipes['n_ingredients'] <= 5)]) "
   ],
   "metadata": {
    "collapsed": false,
    "ExecuteTime": {
     "end_time": "2024-03-18T22:05:27.767016Z",
     "start_time": "2024-03-18T22:05:27.730013300Z"
    }
   }
  },
  {
   "cell_type": "markdown",
   "metadata": {},
   "source": [
    "### Работа с датами в `pandas`"
   ]
  },
  {
   "cell_type": "markdown",
   "metadata": {},
   "source": [
    "2.1 Преобразуйте столбец `submitted` из таблицы `recipes` в формат времени. Модифицируйте решение задачи 1.1 так, чтобы считать столбец сразу в нужном формате."
   ]
  },
  {
   "cell_type": "code",
   "execution_count": 140,
   "outputs": [
    {
     "name": "stdout",
     "output_type": "stream",
     "text": [
      "                                               name      id  minutes  \\\n",
      "0             george s at the cove  black bean soup   44123       90   \n",
      "1                healthy for them  yogurt popsicles   67664       10   \n",
      "2                      i can t believe it s spinach   38798       30   \n",
      "3                              italian  gut busters   35173       45   \n",
      "4          love is in the air  beef fondue   sauces   84797       25   \n",
      "...                                             ...     ...      ...   \n",
      "29995  zurie s holey rustic olive and cheddar bread  267661       80   \n",
      "29996          zwetschgenkuchen  bavarian plum cake  386977      240   \n",
      "29997   zwiebelkuchen   southwest german onion cake  103312       75   \n",
      "29998                                   zydeco soup  486161       60   \n",
      "29999        cookies by design   cookies on a stick  298512       29   \n",
      "\n",
      "       contributor_id  submitted  n_steps  \\\n",
      "0               35193 2002-10-25      NaN   \n",
      "1               91970 2003-07-26      NaN   \n",
      "2                1533 2002-08-29      NaN   \n",
      "3               22724 2002-07-27      NaN   \n",
      "4                4470 2004-02-23      4.0   \n",
      "...               ...        ...      ...   \n",
      "29995          200862 2007-11-25     16.0   \n",
      "29996          177443 2009-08-24      NaN   \n",
      "29997          161745 2004-11-03      NaN   \n",
      "29998          227978 2012-08-29      NaN   \n",
      "29999          506822 2008-04-15      9.0   \n",
      "\n",
      "                                             description  n_ingredients  \n",
      "0      an original recipe created by chef scott meska...           18.0  \n",
      "1      my children and their friends ask for my homem...            NaN  \n",
      "2                these were so go, it surprised even me.            8.0  \n",
      "3      my sister-in-law made these for us at a family...            NaN  \n",
      "4      i think a fondue is a very romantic casual din...            NaN  \n",
      "...                                                  ...            ...  \n",
      "29995  this is based on a french recipe but i changed...           10.0  \n",
      "29996  this is a traditional fresh plum cake, thought...           11.0  \n",
      "29997  this is a traditional late summer early fall s...            NaN  \n",
      "29998  this is a delicious soup that i originally fou...            NaN  \n",
      "29999  i've heard of the 'cookies by design' company,...           10.0  \n",
      "\n",
      "[30000 rows x 8 columns]\n"
     ]
    }
   ],
   "source": [
    "recipes_temp = recipes.copy()\n",
    "recipes_temp['submitted'] = pd.to_datetime(recipes_temp['submitted'])\n",
    "print(recipes_temp)"
   ],
   "metadata": {
    "collapsed": false,
    "ExecuteTime": {
     "end_time": "2024-03-18T22:05:27.768015400Z",
     "start_time": "2024-03-18T22:05:27.744012600Z"
    }
   }
  },
  {
   "cell_type": "markdown",
   "metadata": {},
   "source": [
    "2.2 Выведите информацию о рецептах, добавленных в датасет не позже 2010 года."
   ]
  },
  {
   "cell_type": "code",
   "execution_count": 141,
   "outputs": [
    {
     "name": "stdout",
     "output_type": "stream",
     "text": [
      "                                               name      id  minutes  \\\n",
      "0             george s at the cove  black bean soup   44123       90   \n",
      "1                healthy for them  yogurt popsicles   67664       10   \n",
      "2                      i can t believe it s spinach   38798       30   \n",
      "3                              italian  gut busters   35173       45   \n",
      "4          love is in the air  beef fondue   sauces   84797       25   \n",
      "...                                             ...     ...      ...   \n",
      "29993                     zuni caf zucchini pickles  316950     2895   \n",
      "29995  zurie s holey rustic olive and cheddar bread  267661       80   \n",
      "29996          zwetschgenkuchen  bavarian plum cake  386977      240   \n",
      "29997   zwiebelkuchen   southwest german onion cake  103312       75   \n",
      "29999        cookies by design   cookies on a stick  298512       29   \n",
      "\n",
      "       contributor_id  submitted  n_steps  \\\n",
      "0               35193 2002-10-25      NaN   \n",
      "1               91970 2003-07-26      NaN   \n",
      "2                1533 2002-08-29      NaN   \n",
      "3               22724 2002-07-27      NaN   \n",
      "4                4470 2004-02-23      4.0   \n",
      "...               ...        ...      ...   \n",
      "29993           62264 2008-07-31      NaN   \n",
      "29995          200862 2007-11-25     16.0   \n",
      "29996          177443 2009-08-24      NaN   \n",
      "29997          161745 2004-11-03      NaN   \n",
      "29999          506822 2008-04-15      9.0   \n",
      "\n",
      "                                             description  n_ingredients  \n",
      "0      an original recipe created by chef scott meska...           18.0  \n",
      "1      my children and their friends ask for my homem...            NaN  \n",
      "2                these were so go, it surprised even me.            8.0  \n",
      "3      my sister-in-law made these for us at a family...            NaN  \n",
      "4      i think a fondue is a very romantic casual din...            NaN  \n",
      "...                                                  ...            ...  \n",
      "29993  refrigerator pickles for some of the zucchini ...            8.0  \n",
      "29995  this is based on a french recipe but i changed...           10.0  \n",
      "29996  this is a traditional fresh plum cake, thought...           11.0  \n",
      "29997  this is a traditional late summer early fall s...            NaN  \n",
      "29999  i've heard of the 'cookies by design' company,...           10.0  \n",
      "\n",
      "[27661 rows x 8 columns]\n"
     ]
    }
   ],
   "source": [
    "print(recipes[recipes['submitted'].dt.year <= 2010])"
   ],
   "metadata": {
    "collapsed": false,
    "ExecuteTime": {
     "end_time": "2024-03-18T22:05:27.779013500Z",
     "start_time": "2024-03-18T22:05:27.761016400Z"
    }
   }
  },
  {
   "cell_type": "markdown",
   "metadata": {},
   "source": [
    "### Работа со строковыми данными в `pandas`"
   ]
  },
  {
   "cell_type": "markdown",
   "metadata": {},
   "source": [
    "3.1  Добавьте в таблицу `recipes` столбец `description_length`, в котором хранится длина описания рецепта из столбца `description`."
   ]
  },
  {
   "cell_type": "code",
   "execution_count": 176,
   "outputs": [
    {
     "name": "stdout",
     "output_type": "stream",
     "text": [
      "                                               name      id  minutes  \\\n",
      "0             george s at the cove  black bean soup   44123       90   \n",
      "1                healthy for them  yogurt popsicles   67664       10   \n",
      "2                      i can t believe it s spinach   38798       30   \n",
      "3                              italian  gut busters   35173       45   \n",
      "4          love is in the air  beef fondue   sauces   84797       25   \n",
      "...                                             ...     ...      ...   \n",
      "29995  zurie s holey rustic olive and cheddar bread  267661       80   \n",
      "29996          zwetschgenkuchen  bavarian plum cake  386977      240   \n",
      "29997   zwiebelkuchen   southwest german onion cake  103312       75   \n",
      "29998                                   zydeco soup  486161       60   \n",
      "29999        cookies by design   cookies on a stick  298512       29   \n",
      "\n",
      "       contributor_id  submitted  n_steps  \\\n",
      "0               35193 2002-10-25      NaN   \n",
      "1               91970 2003-07-26      NaN   \n",
      "2                1533 2002-08-29      NaN   \n",
      "3               22724 2002-07-27      NaN   \n",
      "4                4470 2004-02-23      4.0   \n",
      "...               ...        ...      ...   \n",
      "29995          200862 2007-11-25     16.0   \n",
      "29996          177443 2009-08-24      NaN   \n",
      "29997          161745 2004-11-03      NaN   \n",
      "29998          227978 2012-08-29      NaN   \n",
      "29999          506822 2008-04-15      9.0   \n",
      "\n",
      "                                             description  n_ingredients  \\\n",
      "0      an original recipe created by chef scott meska...           18.0   \n",
      "1      my children and their friends ask for my homem...            NaN   \n",
      "2                these were so go, it surprised even me.            8.0   \n",
      "3      my sister-in-law made these for us at a family...            NaN   \n",
      "4      i think a fondue is a very romantic casual din...            NaN   \n",
      "...                                                  ...            ...   \n",
      "29995  this is based on a french recipe but i changed...           10.0   \n",
      "29996  this is a traditional fresh plum cake, thought...           11.0   \n",
      "29997  this is a traditional late summer early fall s...            NaN   \n",
      "29998  this is a delicious soup that i originally fou...            NaN   \n",
      "29999  i've heard of the 'cookies by design' company,...           10.0   \n",
      "\n",
      "       description_length  \n",
      "0                   330.0  \n",
      "1                   255.0  \n",
      "2                    39.0  \n",
      "3                   154.0  \n",
      "4                   587.0  \n",
      "...                   ...  \n",
      "29995               484.0  \n",
      "29996               286.0  \n",
      "29997               311.0  \n",
      "29998               648.0  \n",
      "29999               125.0  \n",
      "\n",
      "[30000 rows x 9 columns]\n"
     ]
    }
   ],
   "source": [
    "desc_len_column = pd.DataFrame({'description_length': recipes['description'].str.len()})\n",
    "recipes_temp_3_1 = pd.concat([recipes, desc_len_column], axis=1)\n",
    "print(recipes_temp_3_1)"
   ],
   "metadata": {
    "collapsed": false,
    "ExecuteTime": {
     "end_time": "2024-03-18T22:33:52.517623500Z",
     "start_time": "2024-03-18T22:33:52.501622900Z"
    }
   }
  },
  {
   "cell_type": "markdown",
   "metadata": {},
   "source": [
    "3.2 Измените название каждого рецепта в таблице `recipes` таким образом, чтобы каждое слово в названии начиналось с прописной буквы."
   ]
  },
  {
   "cell_type": "code",
   "execution_count": 178,
   "metadata": {
    "ExecuteTime": {
     "end_time": "2024-03-18T22:35:39.183178400Z",
     "start_time": "2024-03-18T22:35:39.112178500Z"
    }
   },
   "outputs": [
    {
     "name": "stdout",
     "output_type": "stream",
     "text": [
      "                                               name      id  minutes  \\\n",
      "0             George S At The Cove  Black Bean Soup   44123       90   \n",
      "1                Healthy For Them  Yogurt Popsicles   67664       10   \n",
      "2                      I Can T Believe It S Spinach   38798       30   \n",
      "3                              Italian  Gut Busters   35173       45   \n",
      "4          Love Is In The Air  Beef Fondue   Sauces   84797       25   \n",
      "...                                             ...     ...      ...   \n",
      "29995  Zurie S Holey Rustic Olive And Cheddar Bread  267661       80   \n",
      "29996          Zwetschgenkuchen  Bavarian Plum Cake  386977      240   \n",
      "29997   Zwiebelkuchen   Southwest German Onion Cake  103312       75   \n",
      "29998                                   Zydeco Soup  486161       60   \n",
      "29999        Cookies By Design   Cookies On A Stick  298512       29   \n",
      "\n",
      "       contributor_id  submitted  n_steps  \\\n",
      "0               35193 2002-10-25      NaN   \n",
      "1               91970 2003-07-26      NaN   \n",
      "2                1533 2002-08-29      NaN   \n",
      "3               22724 2002-07-27      NaN   \n",
      "4                4470 2004-02-23      4.0   \n",
      "...               ...        ...      ...   \n",
      "29995          200862 2007-11-25     16.0   \n",
      "29996          177443 2009-08-24      NaN   \n",
      "29997          161745 2004-11-03      NaN   \n",
      "29998          227978 2012-08-29      NaN   \n",
      "29999          506822 2008-04-15      9.0   \n",
      "\n",
      "                                             description  n_ingredients  \n",
      "0      An Original Recipe Created By Chef Scott Meska...           18.0  \n",
      "1      My Children And Their Friends Ask For My Homem...            NaN  \n",
      "2                These Were So Go, It Surprised Even Me.            8.0  \n",
      "3      My Sister-In-Law Made These For Us At A Family...            NaN  \n",
      "4      I Think A Fondue Is A Very Romantic Casual Din...            NaN  \n",
      "...                                                  ...            ...  \n",
      "29995  This Is Based On A French Recipe But I Changed...           10.0  \n",
      "29996  This Is A Traditional Fresh Plum Cake, Thought...           11.0  \n",
      "29997  This Is A Traditional Late Summer Early Fall S...            NaN  \n",
      "29998  This Is A Delicious Soup That I Originally Fou...            NaN  \n",
      "29999  I'Ve Heard Of The 'Cookies By Design' Company,...           10.0  \n",
      "\n",
      "[30000 rows x 8 columns]\n"
     ]
    }
   ],
   "source": [
    "recipes_temp_3_2 = recipes.copy()\n",
    "for col in recipes_temp_3_2.columns:\n",
    "    try:\n",
    "        recipes_temp_3_2[col] = recipes_temp_3_2[col].str.title()\n",
    "    except AttributeError:\n",
    "        pass  # Столбец не со строками\n",
    "print(recipes_temp_3_2)"
   ]
  },
  {
   "cell_type": "markdown",
   "metadata": {},
   "source": [
    "3.3 Добавьте в таблицу `recipes` столбец `name_word_count`, в котором хранится количество слов из названии рецепта (считайте, что слова в названии разделяются только пробелами). Обратите внимание, что между словами может располагаться несколько пробелов подряд."
   ]
  },
  {
   "cell_type": "code",
   "execution_count": 179,
   "outputs": [
    {
     "name": "stdout",
     "output_type": "stream",
     "text": [
      "                                               name      id  minutes  \\\n",
      "0             george s at the cove  black bean soup   44123       90   \n",
      "1                healthy for them  yogurt popsicles   67664       10   \n",
      "2                      i can t believe it s spinach   38798       30   \n",
      "3                              italian  gut busters   35173       45   \n",
      "4          love is in the air  beef fondue   sauces   84797       25   \n",
      "...                                             ...     ...      ...   \n",
      "29995  zurie s holey rustic olive and cheddar bread  267661       80   \n",
      "29996          zwetschgenkuchen  bavarian plum cake  386977      240   \n",
      "29997   zwiebelkuchen   southwest german onion cake  103312       75   \n",
      "29998                                   zydeco soup  486161       60   \n",
      "29999        cookies by design   cookies on a stick  298512       29   \n",
      "\n",
      "       contributor_id  submitted  n_steps  \\\n",
      "0               35193 2002-10-25      NaN   \n",
      "1               91970 2003-07-26      NaN   \n",
      "2                1533 2002-08-29      NaN   \n",
      "3               22724 2002-07-27      NaN   \n",
      "4                4470 2004-02-23      4.0   \n",
      "...               ...        ...      ...   \n",
      "29995          200862 2007-11-25     16.0   \n",
      "29996          177443 2009-08-24      NaN   \n",
      "29997          161745 2004-11-03      NaN   \n",
      "29998          227978 2012-08-29      NaN   \n",
      "29999          506822 2008-04-15      9.0   \n",
      "\n",
      "                                             description  n_ingredients  \\\n",
      "0      an original recipe created by chef scott meska...           18.0   \n",
      "1      my children and their friends ask for my homem...            NaN   \n",
      "2                these were so go, it surprised even me.            8.0   \n",
      "3      my sister-in-law made these for us at a family...            NaN   \n",
      "4      i think a fondue is a very romantic casual din...            NaN   \n",
      "...                                                  ...            ...   \n",
      "29995  this is based on a french recipe but i changed...           10.0   \n",
      "29996  this is a traditional fresh plum cake, thought...           11.0   \n",
      "29997  this is a traditional late summer early fall s...            NaN   \n",
      "29998  this is a delicious soup that i originally fou...            NaN   \n",
      "29999  i've heard of the 'cookies by design' company,...           10.0   \n",
      "\n",
      "       name_word_count  \n",
      "0                    8  \n",
      "1                    5  \n",
      "2                    7  \n",
      "3                    3  \n",
      "4                    8  \n",
      "...                ...  \n",
      "29995                8  \n",
      "29996                4  \n",
      "29997                5  \n",
      "29998                2  \n",
      "29999                7  \n",
      "\n",
      "[30000 rows x 9 columns]\n"
     ]
    }
   ],
   "source": [
    "recipes_temp_3_3 = recipes.copy()\n",
    "name_word_count_column = pd.DataFrame({'name_word_count': recipes_temp['name'].transform(lambda x: len(x.split()))})\n",
    "recipes_temp_3_3 = pd.concat([recipes_temp_3_3, name_word_count_column], axis=1)\n",
    "print(recipes_temp_3_3)"
   ],
   "metadata": {
    "collapsed": false,
    "ExecuteTime": {
     "end_time": "2024-03-18T22:35:41.694809300Z",
     "start_time": "2024-03-18T22:35:41.651811300Z"
    }
   }
  },
  {
   "cell_type": "markdown",
   "metadata": {},
   "source": [
    "### Группировки таблиц `pd.DataFrame`"
   ]
  },
  {
   "cell_type": "markdown",
   "metadata": {},
   "source": [
    "4.1 Посчитайте количество рецептов, представленных каждым из участников (`contributor_id`). Какой участник добавил максимальное кол-во рецептов?"
   ]
  },
  {
   "cell_type": "code",
   "execution_count": 145,
   "metadata": {
    "ExecuteTime": {
     "end_time": "2024-03-18T22:05:27.989013300Z",
     "start_time": "2024-03-18T22:05:27.916014Z"
    }
   },
   "outputs": [
    {
     "name": "stdout",
     "output_type": "stream",
     "text": [
      "                                    name     id  minutes  contributor_id  \\\n",
      "0  george s at the cove  black bean soup  44123       90           35193   \n",
      "\n",
      "   submitted  n_steps                                        description  \\\n",
      "0 2002-10-25      NaN  an original recipe created by chef scott meska...   \n",
      "\n",
      "   n_ingredients  name_word_count  \n",
      "0           18.0                8  \n"
     ]
    }
   ],
   "source": [
    "recipes_temp = recipes.copy()\n",
    "recipes_temp['name_word_count'] = recipes_temp['name'].apply(lambda x: len(str(x).split()))\n",
    "print(recipes_temp.head(1))"
   ]
  },
  {
   "cell_type": "markdown",
   "metadata": {},
   "source": [
    "4.2 Посчитайте средний рейтинг к каждому из рецептов. Для скольких рецептов отсутствуют отзывы? Обратите внимание, что отзыв с нулевым рейтингом или не заполненным текстовым описанием не считается отсутствующим."
   ]
  },
  {
   "cell_type": "code",
   "execution_count": 146,
   "metadata": {
    "ExecuteTime": {
     "end_time": "2024-03-18T22:05:28.037015300Z",
     "start_time": "2024-03-18T22:05:27.948017Z"
    }
   },
   "outputs": [
    {
     "name": "stdout",
     "output_type": "stream",
     "text": [
      "      contributor_id  num_recipes\n",
      "0               1530            5\n",
      "1               1533          186\n",
      "2               1534           50\n",
      "3               1535           40\n",
      "4               1538            8\n",
      "...              ...          ...\n",
      "8399      2001968497            2\n",
      "8400      2002059754            1\n",
      "8401      2002234079            1\n",
      "8402      2002234259            1\n",
      "8403      2002247884            1\n",
      "\n",
      "[8404 rows x 2 columns]\n"
     ]
    }
   ],
   "source": [
    "recipes_temp = recipes.copy()\n",
    "recipes_temp = recipes_temp.groupby('contributor_id')['name'].count().reset_index(name='num_recipes')\n",
    "print(recipes_temp)"
   ]
  },
  {
   "cell_type": "markdown",
   "metadata": {},
   "source": [
    "4.3 Посчитайте количество рецептов с разбивкой по годам создания."
   ]
  },
  {
   "cell_type": "code",
   "execution_count": 150,
   "metadata": {
    "ExecuteTime": {
     "end_time": "2024-03-18T22:06:20.509930200Z",
     "start_time": "2024-03-18T22:06:20.486929900Z"
    }
   },
   "outputs": [
    {
     "name": "stdout",
     "output_type": "stream",
     "text": [
      "year\n",
      "2007    4429\n",
      "2008    4029\n",
      "2006    3473\n",
      "2005    3130\n",
      "2009    2963\n",
      "2002    2644\n",
      "2003    2334\n",
      "2004    2153\n",
      "2010    1538\n",
      "2011     922\n",
      "2012     659\n",
      "2001     589\n",
      "2013     490\n",
      "1999     275\n",
      "2014     139\n",
      "2000     104\n",
      "2015      42\n",
      "2017      39\n",
      "2016      24\n",
      "2018      24\n",
      "Name: name, dtype: int64\n"
     ]
    }
   ],
   "source": [
    "recipes_temp = recipes.copy()\n",
    "recipes_temp['year'] = pd.to_datetime(recipes_temp['submitted']).dt.year\n",
    "print(recipes_temp.groupby('year')['name'].count().sort_values()[::-1])"
   ]
  },
  {
   "cell_type": "markdown",
   "metadata": {},
   "source": [
    "### Объединение таблиц `pd.DataFrame`"
   ]
  },
  {
   "cell_type": "markdown",
   "metadata": {},
   "source": [
    "5.1 При помощи объединения таблиц, создайте `DataFrame`, состоящий из четырех столбцов: `id`, `name`, `user_id`, `rating`. Рецепты, на которые не оставлен ни один отзыв, должны отсутствовать в полученной таблице. Подтвердите правильность работы вашего кода, выбрав рецепт, не имеющий отзывов, и попытавшись найти строку, соответствующую этому рецепту, в полученном `DataFrame`."
   ]
  },
  {
   "cell_type": "code",
   "execution_count": 163,
   "metadata": {
    "ExecuteTime": {
     "end_time": "2024-03-18T22:23:29.055440900Z",
     "start_time": "2024-03-18T22:23:29.001440300Z"
    }
   },
   "outputs": [
    {
     "name": "stdout",
     "output_type": "stream",
     "text": [
      "            id                                    name  user_id  rating\n",
      "0        44123   george s at the cove  black bean soup   743566       5\n",
      "1        44123   george s at the cove  black bean soup    76503       5\n",
      "2        44123   george s at the cove  black bean soup    34206       5\n",
      "3        67664      healthy for them  yogurt popsicles   494084       5\n",
      "4        67664      healthy for them  yogurt popsicles   303445       5\n",
      "...        ...                                     ...      ...     ...\n",
      "126674  486161                             zydeco soup   305531       5\n",
      "126675  486161                             zydeco soup  1271506       5\n",
      "126676  486161                             zydeco soup   724631       5\n",
      "126677  486161                             zydeco soup   133174       5\n",
      "126678  298512  cookies by design   cookies on a stick   804234       1\n",
      "\n",
      "[126679 rows x 4 columns]\n"
     ]
    }
   ],
   "source": [
    "# Только не пустые строки\n",
    "reviews_temp = reviews[~reviews['review'].isna()]\n",
    "# На рецепт есть отзыв\n",
    "recipes_temp = recipes[recipes['id'].isin(reviews_temp['recipe_id'])]\n",
    "# Объединение\n",
    "result_5_1 = pd.merge(recipes_temp, reviews_temp, left_on='id', right_on='recipe_id')\n",
    "# Оставляем только полезные столбцы, потому что иначе слишком много лишних\n",
    "result_5_1 = result_5_1[['id', 'name', 'user_id', 'rating']]\n",
    "print(result_5_1)"
   ]
  },
  {
   "cell_type": "markdown",
   "metadata": {},
   "source": [
    "5.2 При помощи объединения таблиц и группировок, создайте `DataFrame`, состоящий из трех столбцов: `recipe_id`, `name`, `review_count`, где столбец `review_count` содержит кол-во отзывов, оставленных на рецепт `recipe_id`. У рецептов, на которые не оставлен ни один отзыв, в столбце `review_count` должен быть указан 0. Подтвердите правильность работы вашего кода, выбрав рецепт, не имеющий отзывов, и найдя строку, соответствующую этому рецепту, в полученном `DataFrame`."
   ]
  },
  {
   "cell_type": "code",
   "execution_count": 182,
   "outputs": [
    {
     "name": "stdout",
     "output_type": "stream",
     "text": [
      "   recipe_id                                   name  user_id  review_count\n",
      "0      44123  george s at the cove  black bean soup   743566             3\n",
      "1      44123  george s at the cove  black bean soup    76503             3\n"
     ]
    }
   ],
   "source": [
    "result_5_2 = result_5_1.copy()\n",
    "result_5_2 = result_5_2[['id', 'name', 'user_id']]\n",
    "result_5_2.columns.values[0] = 'recipe_id'\n",
    "\n",
    "result_5_2['review_count'] = result_5_2['recipe_id'].apply(lambda x: len(result_5_2[result_5_2['recipe_id'] == x]))\n",
    "\n",
    "print(result_5_2.head(2))"
   ],
   "metadata": {
    "collapsed": false,
    "ExecuteTime": {
     "end_time": "2024-03-18T22:38:07.657204100Z",
     "start_time": "2024-03-18T22:37:47.518825500Z"
    }
   }
  },
  {
   "cell_type": "markdown",
   "metadata": {},
   "source": [
    "5.3. Выясните, рецепты, добавленные в каком году, имеют наименьший средний рейтинг?"
   ]
  },
  {
   "cell_type": "code",
   "execution_count": 173,
   "outputs": [
    {
     "name": "stdout",
     "output_type": "stream",
     "text": [
      "Год с наименьшим средним рейтингом: 2017\n"
     ]
    }
   ],
   "source": [
    "temp = pd.merge(recipes, reviews, left_on='id', right_on='recipe_id', how='inner')\n",
    "\n",
    "temp['submitted_year'] = pd.to_datetime(temp['submitted']).dt.year\n",
    "avg_ratings_by_year = temp.groupby('submitted_year')['rating'].mean()\n",
    "# Год с минимальным средним рейтингом\n",
    "min_average_rating_year = avg_ratings_by_year.idxmin()\n",
    "\n",
    "print(f\"Год с наименьшим средним рейтингом: {min_average_rating_year}\")"
   ],
   "metadata": {
    "collapsed": false,
    "ExecuteTime": {
     "end_time": "2024-03-18T22:30:13.165996700Z",
     "start_time": "2024-03-18T22:30:13.113995Z"
    }
   }
  },
  {
   "cell_type": "markdown",
   "metadata": {},
   "source": [
    "### Сохранение таблиц `pd.DataFrame`"
   ]
  },
  {
   "cell_type": "markdown",
   "metadata": {},
   "source": [
    "6.1 Отсортируйте таблицу в порядке убывания величины столбца `name_word_count` и сохраните результаты выполнения заданий 3.1-3.3 в csv файл. "
   ]
  },
  {
   "cell_type": "code",
   "execution_count": 181,
   "outputs": [
    {
     "name": "stdout",
     "output_type": "stream",
     "text": [
      "                                                    name      id  minutes  \\\n",
      "26223  subru uncle s whole green moong dal i ll be ma...   77188       95   \n",
      "28083  tsr version of t g i  friday s black bean soup...  102274       75   \n",
      "26222  subru uncle s toor ki dal sindhi style  dad  m...   76908       65   \n",
      "27876  top secret recipes version of  i h o p  griddl...  113346       20   \n",
      "5734   chicken curry or  cat s vomit on a bed of magg...  294898       30   \n",
      "...                                                  ...     ...      ...   \n",
      "3253                                          blackmoons  323195      430   \n",
      "4138                                         bushwhacker  156521       10   \n",
      "2357                                            basbousa   12957       60   \n",
      "15052                                          josefinas  264859       20   \n",
      "4710                                            caramels  143615       30   \n",
      "\n",
      "       contributor_id  submitted  n_steps  \\\n",
      "26223            6357 2003-11-21      NaN   \n",
      "28083           74652 2004-10-19      9.0   \n",
      "26222            6357 2003-11-18     29.0   \n",
      "27876          175727 2005-03-14      5.0   \n",
      "5734           802799 2008-03-28     11.0   \n",
      "...               ...        ...      ...   \n",
      "3253           415934 2008-09-04      5.0   \n",
      "4138           177392 2006-02-17      1.0   \n",
      "2357            18391 2001-10-20      NaN   \n",
      "15052          498271 2007-11-11      7.0   \n",
      "4710           212088 2005-11-02      NaN   \n",
      "\n",
      "                                             description  n_ingredients  \\\n",
      "26223  my dad and mom quite enjoy this lentil curry. ...           15.0   \n",
      "28083  from www.topsecretrecipes.com i got this copyc...           16.0   \n",
      "26222  this is the lentil curry that subru uncle(our ...           15.0   \n",
      "27876  this recipe is top secret recipes version of i...            9.0   \n",
      "5734   an old family recipe that's easy to make since...           12.0   \n",
      "...                                                  ...            ...   \n",
      "3253   my mom was a newlywed in the 1950s when she fo...            NaN   \n",
      "4138   this drink is an excellent after dinner drink ...            6.0   \n",
      "2357   this is a traditional middle eastern dessert. ...            NaN   \n",
      "15052  from the junior league of corpus christi tx, t...            NaN   \n",
      "4710   i've been making these at christmas time for y...            6.0   \n",
      "\n",
      "       name_word_count  \n",
      "26223               15  \n",
      "28083               14  \n",
      "26222               14  \n",
      "27876               14  \n",
      "5734                13  \n",
      "...                ...  \n",
      "3253                 1  \n",
      "4138                 1  \n",
      "2357                 1  \n",
      "15052                1  \n",
      "4710                 1  \n",
      "\n",
      "[30000 rows x 9 columns]\n"
     ]
    }
   ],
   "source": [
    "recipes_temp = recipes.copy()\n",
    "recipes_temp['name_word_count'] = recipes_temp['name'].apply(lambda x: len(str(x).split()))\n",
    "recipes_temp = recipes_temp.sort_values(by='name_word_count', ascending=False)\n",
    "\n",
    "print(recipes_temp)\n",
    "\n",
    "recipes_temp_3_1.to_csv('saved_3_1.scv', index=False)\n",
    "recipes_temp_3_2.to_csv('saved_3_2.scv', index=False)\n",
    "recipes_temp_3_3.to_csv('saved_3_3.scv', index=False)"
   ],
   "metadata": {
    "collapsed": false,
    "ExecuteTime": {
     "end_time": "2024-03-18T22:36:01.697802600Z",
     "start_time": "2024-03-18T22:36:01.223803800Z"
    }
   }
  },
  {
   "cell_type": "markdown",
   "metadata": {},
   "source": [
    "6.2 Воспользовавшись `pd.ExcelWriter`, cохраните результаты 5.1 и 5.2 в файл: на лист с названием `Рецепты с оценками` сохраните результаты выполнения 5.1; на лист с названием `Количество отзывов по рецептам` сохраните результаты выполнения 5.2."
   ]
  },
  {
   "cell_type": "code",
   "execution_count": 184,
   "metadata": {
    "ExecuteTime": {
     "end_time": "2024-03-18T22:39:21.326025500Z",
     "start_time": "2024-03-18T22:39:06.614874800Z"
    }
   },
   "outputs": [],
   "source": [
    "# pip install openpyxl\n",
    "\n",
    "with pd.ExcelWriter('ExcelFile_6_2.xlsx') as writer:\n",
    "    result_5_1.to_excel(writer, sheet_name='Рецепты с оценками', index=False)\n",
    "    result_5_2.to_excel(writer, sheet_name='Количество отзывов по рецептам', index=False)"
   ]
  },
  {
   "cell_type": "markdown",
   "metadata": {},
   "source": [
    "#### [версия 2]\n",
    "* Уточнены формулировки задач 1.1, 3.3, 4.2, 5.1, 5.2, 5.3"
   ]
  },
  {
   "cell_type": "code",
   "execution_count": null,
   "metadata": {
    "ExecuteTime": {
     "start_time": "2024-03-18T22:05:28.122013400Z"
    }
   },
   "outputs": [],
   "source": []
  }
 ],
 "metadata": {
  "kernelspec": {
   "display_name": "Python 3 (ipykernel)",
   "language": "python",
   "name": "python3"
  },
  "language_info": {
   "codemirror_mode": {
    "name": "ipython",
    "version": 3
   },
   "file_extension": ".py",
   "mimetype": "text/x-python",
   "name": "python",
   "nbconvert_exporter": "python",
   "pygments_lexer": "ipython3",
   "version": "3.10.9"
  }
 },
 "nbformat": 4,
 "nbformat_minor": 4
}
