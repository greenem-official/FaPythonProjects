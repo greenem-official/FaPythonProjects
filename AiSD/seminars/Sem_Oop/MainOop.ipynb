{
 "cells": [
  {
   "cell_type": "code",
   "execution_count": 2,
   "id": "a7bb9d97",
   "metadata": {},
   "outputs": [
    {
     "name": "stdout",
     "output_type": "stream",
     "text": [
      "Ivan\n",
      "Oleg\n"
     ]
    }
   ],
   "source": [
    "# 1\n",
    "# Создать класс «Студент» и реализовать методы для установки и получения имени студента.\n",
    "\n",
    "class Student:\n",
    "    def __init__(self, name):\n",
    "        self.name = name\n",
    "\n",
    "    def get_name(self):\n",
    "        return self.name\n",
    "    \n",
    "    def set_name(self, name):\n",
    "        self.name = name\n",
    "\n",
    "stud = Student('Ivan')\n",
    "print(stud.get_name())\n",
    "stud.set_name('Oleg')\n",
    "print(stud.get_name())"
   ]
  },
  {
   "cell_type": "code",
   "execution_count": 22,
   "id": "1000c90c",
   "metadata": {},
   "outputs": [
    {
     "name": "stdout",
     "output_type": "stream",
     "text": [
      "15\n",
      "Product[price: 15]\n"
     ]
    }
   ],
   "source": [
    "# 2\n",
    "# Создать класс «Товар» с методами для установки и получения цены товара.\n",
    "\n",
    "class Product:\n",
    "    def __init__(self, price=None):\n",
    "       self.price = price\n",
    "\n",
    "    def get_price(self):\n",
    "        return self.price\n",
    "\n",
    "    def set_price(self, price):\n",
    "        self.price = price\n",
    "    \n",
    "    def __str__(self):\n",
    "        return f'Product[price: {self.price}]'\n",
    "\n",
    "prod = Product()\n",
    "prod.set_price(15)\n",
    "print(prod.get_price())\n",
    "print(prod)"
   ]
  },
  {
   "cell_type": "code",
   "execution_count": 4,
   "id": "0f5a4f69",
   "metadata": {},
   "outputs": [
    {
     "name": "stdout",
     "output_type": "stream",
     "text": [
      "5\n",
      "-3\n",
      "20\n",
      "5.0\n"
     ]
    }
   ],
   "source": [
    "# 3\n",
    "# Создать класс «Калькулятор» с методами для выполнения простых математических операций: сложение, вычитание, умножение и деление.\n",
    "\n",
    "class Calc:\n",
    "    def plus(self, a, b):\n",
    "        return a + b\n",
    "\n",
    "    def minus(self, a, b):\n",
    "        return a - b\n",
    "\n",
    "    def multiply(self, a, b):\n",
    "        return a * b\n",
    "\n",
    "    def divide(self, a, b):\n",
    "        return a / b\n",
    "\n",
    "calc = Calc()\n",
    "print(calc.plus(1, 4))\n",
    "print(calc.minus(2, 5))\n",
    "print(calc.multiply(4, 5))\n",
    "print(calc.divide(20, 4))"
   ]
  },
  {
   "cell_type": "code",
   "execution_count": 23,
   "id": "83d9f715",
   "metadata": {},
   "outputs": [
    {
     "name": "stdout",
     "output_type": "stream",
     "text": [
      "Газировка и лимон\n",
      "Обычная газировка\n"
     ]
    }
   ],
   "source": [
    "# 4\n",
    "# Создайте класс Soda (для определения типа газированной воды), принимающий 1 аргумент при инициализации (отвечающий за добавку к выбираемому лимонаду).\n",
    "# В этом классе реализуйте метод show_my_drink(), выводящий на печать Газировка и {ДОБАВКА} в случае наличия добавки, а иначе отобразится следующая фраза: Обычная газировка.\n",
    "class Soda:\n",
    "    def __init__(self, addition=None):\n",
    "        self.addition = addition\n",
    "\n",
    "    def show_my_drink(self):\n",
    "        if self.addition:\n",
    "            print('Газировка и', self.addition)\n",
    "        else:\n",
    "            print('Обычная газировка')\n",
    "\n",
    "soda1 = Soda('лимон')\n",
    "soda1.show_my_drink()\n",
    "\n",
    "soda2 = Soda()\n",
    "soda2.show_my_drink()"
   ]
  },
  {
   "cell_type": "code",
   "execution_count": 27,
   "id": "cc9907b5",
   "metadata": {},
   "outputs": [
    {
     "name": "stdout",
     "output_type": "stream",
     "text": [
      "Ура, можно построить треугольник!\n",
      "Жаль, но из этого треугольник не сделать.\n",
      "С отрицательными числами ничего не выйдет! (С нулями тоже)\n",
      "Нужно вводить только числа!\n"
     ]
    }
   ],
   "source": [
    "# 5\n",
    "# Николаю требуется проверить, возможно ли из представленных отрезков условной длины сформировать треугольник.\n",
    "# Для этого он решил создать класс TriangleChecker, принимающий только положительные числа.\n",
    "# С помощью метода is_triangle() возвращаются следующие значения (в зависимости от ситуации):\n",
    "#\n",
    "# – Ура, можно построить треугольник!;\n",
    "# – С отрицательными числами ничего не выйдет!;\n",
    "# – Нужно вводить только числа!;\n",
    "# – Жаль, но из этого треугольник не сделать.\n",
    "\n",
    "class TriangleChecker:\n",
    "    def __init__(self, a, b, c):\n",
    "        self.a = a\n",
    "        self.b = b\n",
    "        self.c = c\n",
    "\n",
    "    def is_triangle(self):\n",
    "        try:\n",
    "            self.a = float(self.a)\n",
    "            self.b = float(self.b)\n",
    "            self.c = float(self.c)\n",
    "        except ValueError:\n",
    "            return 'Нужно вводить только числа!'\n",
    "        if self.a <= 0 or self.b <= 0 or self.c <= 0:\n",
    "            return 'С отрицательными числами ничего не выйдет! (С нулями тоже)'\n",
    "        if self.a+self.b > self.c and self.a+self.c > self.b and self.b+self.c > self.a:\n",
    "            return 'Ура, можно построить треугольник!'\n",
    "        else:\n",
    "            return 'Жаль, но из этого треугольник не сделать.'\n",
    "\n",
    "tc1 = TriangleChecker(4, 2, 3)\n",
    "tc2 = TriangleChecker(1, 2, 10)\n",
    "tc3 = TriangleChecker(1, '-1', 3)\n",
    "tc4 = TriangleChecker(1, 'fdgdf', 'aaa')\n",
    "\n",
    "print(tc1.is_triangle())\n",
    "print(tc2.is_triangle())\n",
    "print(tc3.is_triangle())\n",
    "print(tc4.is_triangle())"
   ]
  },
  {
   "cell_type": "code",
   "execution_count": 30,
   "id": "d2d240fe",
   "metadata": {},
   "outputs": [
    {
     "name": "stdout",
     "output_type": "stream",
     "text": [
      "20\n",
      "50\n",
      "Ошибка: Килограммы задаются только числами\n"
     ]
    }
   ],
   "source": [
    "# 6\n",
    "# Евгения создала класс KgToPounds с параметром kg, куда передается определенное количество килограмм, а с помощью метода to_pounds() они переводятся в фунты.\n",
    "# Чтобы закрыть доступ к переменной kg она реализовала методы set_kg() - для задания нового значения килограммов, get_kg() - для вывода текущего значения кг.\n",
    "# Из-за этого возникло неудобство: нам нужно теперь использовать эти 2 метода для задания и вывода значений.\n",
    "# Помогите ей переделать класс с использованием функции property() и свойств-декораторов.\n",
    "\n",
    "class KgToPounds:\n",
    "\n",
    "    def __init__(self, kg):\n",
    "        self.__kg = kg\n",
    "\n",
    "    def to_pounds(self):\n",
    "        return self.__kg * 2.205\n",
    "\n",
    "    @property\n",
    "    def kg(self):\n",
    "        return self.__kg\n",
    "\n",
    "    @kg.setter\n",
    "    def kg(self, new_kg):\n",
    "        if isinstance(new_kg, (int, float)):\n",
    "            self.__kg = new_kg\n",
    "        else:\n",
    "            raise ValueError('Килограммы задаются только числами')\n",
    "\n",
    "kgtp = KgToPounds(20)\n",
    "print(kgtp.kg)\n",
    "kgtp.kg = 50\n",
    "print(kgtp.kg)\n",
    "\n",
    "try:\n",
    "    kgtp.kg = 'a'\n",
    "except ValueError as e:\n",
    "    print('Ошибка:', e)"
   ]
  },
  {
   "cell_type": "code",
   "execution_count": 32,
   "id": "6d7edb48",
   "metadata": {},
   "outputs": [
    {
     "name": "stdout",
     "output_type": "stream",
     "text": [
      "Николай\n",
      "Николай\n"
     ]
    }
   ],
   "source": [
    "# 7\n",
    "# Николай – оригинальный человек. Он решил создать класс Nikola, принимающий при инициализации 2 параметра: имя и возраст.\n",
    "# Но на этом он не успокоился. Не важно, какое имя передаст пользователь при создании экземпляра, оно всегда будет содержать Николая.\n",
    "# В частности - если пользователя на самом деле зовут Николаем, то с именем ничего не произойдет, а если его зовут, например, Максим, то оно преобразуется в Я не Максим, а Николай.\n",
    "# Более того, никаких других атрибутов и методов у экземпляра не может быть добавлено, даже если кто-то и вздумает так поступить\n",
    "# (т.е. если некий пользователь решит прибавить к экземпляру свойство отчество или метод приветствие, то ничего у такого хитреца не получится).\n",
    "\n",
    "class Nikola:\n",
    "    def __init__(self, name, age):\n",
    "        self.name = name\n",
    "        self.age = age\n",
    "\n",
    "    @property\n",
    "    def name(self):\n",
    "        return self.__name\n",
    "\n",
    "    @name.setter\n",
    "    def name(self, new_name):\n",
    "        if str(new_name).lower() != 'николай':\n",
    "            self.__name = f'Николай, а не {new_name}'\n",
    "        else:\n",
    "            self.__name = 'Николай'\n",
    "\n",
    "    def __setattr__(self, attr, value):\n",
    "        if attr != 'name' and attr != 'age':\n",
    "            raise AttributeError(\"Нельзя изменять атрибуты!\")\n",
    "\n",
    "    def __getattr__(self, attr):\n",
    "        if attr == 'name':\n",
    "            return self.__getattr__('__name')\n",
    "        if attr == '__name':\n",
    "            return 'Николай'\n",
    "        else:\n",
    "            raise AttributeError(\"Атрибут не доступен\")\n",
    "\n",
    "nikola1 = Nikola('Никола', 20)\n",
    "print(nikola1.name)\n",
    "# try:\n",
    "#     nikola1.name = 'Владимир'\n",
    "# except AttributeError as e:\n",
    "#     print(e)\n",
    "\n",
    "nikola1 = Nikola('Владимир', 22)\n",
    "print(nikola1.name)\n",
    "try:\n",
    "    nikola1.age = 10\n",
    "#     print(nikola1.age)\n",
    "except AttributeError as e:\n",
    "    print(e)"
   ]
  },
  {
   "cell_type": "code",
   "execution_count": 33,
   "id": "1809a1ca",
   "metadata": {},
   "outputs": [
    {
     "name": "stdout",
     "output_type": "stream",
     "text": [
      "Яблоко < Apple: False\n",
      "Яблоко <= Apple: False\n",
      "Яблоко > Apple: True\n",
      "Яблоко >= Apple: True\n",
      "Яблоко == Apple: False\n",
      "Яблоко != Apple: True\n"
     ]
    }
   ],
   "source": [
    "# 8 (Полный)\n",
    "# Строки в Питоне сравниваются на основании значений символов.\n",
    "# Т.е. если мы захотим выяснить, что больше: Apple или Яблоко, – то Яблоко окажется бОльшим.\n",
    "# А все потому, что английская буква A имеет значение 65 (берется из таблицы кодировки), а русская буква Я – 1071 (с помощью функции ord() это можно выяснить). Такое положение дел не устроило Анну.\n",
    "# Она считает, что строки нужно сравнивать по количеству входящих в них символов.\n",
    "#Для этого девушка создала класс RealString и реализовала озвученный инструментарий.\n",
    "# Сравнивать между собой можно как объекты класса, так и обычные строки с экземплярами класса RealString.\n",
    "# К слову, Анне понадобилось только 3 метода внутри класса (включая __init__()) для воплощения задуманного.\n",
    "\n",
    "class RealString:\n",
    "    def __init__(self, value):\n",
    "        if isinstance(value, str):\n",
    "            self.__value = value\n",
    "        else:\n",
    "            raise ValueError('Не строковый тип')\n",
    "\n",
    "    def __str__(self):\n",
    "        return self.__value\n",
    "\n",
    "    def __eq__(self, other):\n",
    "        return self.__value == str(other)\n",
    "\n",
    "    def __ne__(self, other):\n",
    "        return self.__value != str(other)\n",
    "\n",
    "    def __lt__(self, other):\n",
    "        return len(self.__value) < len(str(other))\n",
    "\n",
    "    def __gt__(self, other):\n",
    "        return len(self.__value) > len(str(other))\n",
    "\n",
    "    def __le__(self, other):\n",
    "        return len(self.__value) <= len(str(other))\n",
    "\n",
    "    def __ge__(self, other):\n",
    "        return len(self.__value) >= len(str(other))\n",
    "\n",
    "rs = RealString('Яблоко')\n",
    "# compareTo = 'Apple'\n",
    "compareTo = RealString('Apple')\n",
    "print(f'{rs} < {compareTo}: {rs < compareTo}')\n",
    "print(f'{rs} <= {compareTo}: {rs <= compareTo}')\n",
    "print(f'{rs} > {compareTo}: {rs > compareTo}')\n",
    "print(f'{rs} >= {compareTo}: {rs >= compareTo}')\n",
    "print(f'{rs} == {compareTo}: {rs == compareTo}')\n",
    "print(f'{rs} != {compareTo}: {rs != compareTo}')"
   ]
  },
  {
   "cell_type": "code",
   "execution_count": 36,
   "id": "58d208d8",
   "metadata": {},
   "outputs": [
    {
     "name": "stdout",
     "output_type": "stream",
     "text": [
      "<__main__.RealString object at 0x00000116E1F972B0> < Apple: False\n",
      "<__main__.RealString object at 0x00000116E1F972B0> > Apple: True\n"
     ]
    }
   ],
   "source": [
    "# 8 (Урезанный до 3 функций, как в условии, со всеми последствиями)\n",
    "# *Можно было бы и сделать одну кастомную функцию на все операторы, но это уже не была бы реальная перегрузка настоящих операторов. В условии явно намекается на использование реальных операторов.\n",
    "\n",
    "class RealString:\n",
    "    def __init__(self, value):\n",
    "        if isinstance(value, str):\n",
    "            self.__value = value\n",
    "        else:\n",
    "            raise ValueError('Не строковый тип')\n",
    "\n",
    "    def __lt__(self, other):\n",
    "        return len(self.__value) < len(str(other))\n",
    "\n",
    "    def __gt__(self, other):\n",
    "        return len(self.__value) > len(str(other))\n",
    "\n",
    "rs = RealString('Яблоко')\n",
    "compareTo = 'Apple'\n",
    "# compareTo = RealString('Apple')\n",
    "print(f'{rs} < {compareTo}: {rs < compareTo}')\n",
    "print(f'{rs} > {compareTo}: {rs > compareTo}')"
   ]
  },
  {
   "cell_type": "code",
   "execution_count": null,
   "id": "b2aefe2d",
   "metadata": {},
   "outputs": [],
   "source": []
  }
 ],
 "metadata": {
  "kernelspec": {
   "display_name": "Python 3 (ipykernel)",
   "language": "python",
   "name": "python3"
  },
  "language_info": {
   "codemirror_mode": {
    "name": "ipython",
    "version": 3
   },
   "file_extension": ".py",
   "mimetype": "text/x-python",
   "name": "python",
   "nbconvert_exporter": "python",
   "pygments_lexer": "ipython3",
   "version": "3.10.9"
  }
 },
 "nbformat": 4,
 "nbformat_minor": 5
}
