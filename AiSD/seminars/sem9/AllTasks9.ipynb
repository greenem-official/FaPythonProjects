{
 "cells": [
  {
   "cell_type": "code",
   "execution_count": 1,
   "id": "a6f73873",
   "metadata": {
    "ExecuteTime": {
     "end_time": "2023-11-16T21:53:46.313669700Z",
     "start_time": "2023-11-16T21:53:46.293670100Z"
    }
   },
   "outputs": [
    {
     "name": "stdout",
     "output_type": "stream",
     "text": [
      "[1, 3, 3, 2, 1, 3]\n"
     ]
    }
   ],
   "source": [
    "#4.13\n",
    "l1 = ['1', '123', '123', '12', '1', '123']\n",
    "\n",
    "print([len(a) for a in l1])"
   ]
  },
  {
   "cell_type": "code",
   "execution_count": 2,
   "outputs": [
    {
     "name": "stdout",
     "output_type": "stream",
     "text": [
      "3\n"
     ]
    }
   ],
   "source": [
    "#4.14\n",
    "l1 = ['1', '123', '123', '12', '1', '123']\n",
    "\n",
    "print(sum(1 for a in l1 if len(a) > 2))"
   ],
   "metadata": {
    "collapsed": false,
    "ExecuteTime": {
     "end_time": "2023-11-23T13:55:54.795892200Z",
     "start_time": "2023-11-23T13:55:54.778892Z"
    }
   },
   "id": "83dfb9f4684463de"
  },
  {
   "cell_type": "code",
   "execution_count": 1,
   "outputs": [
    {
     "name": "stdout",
     "output_type": "stream",
     "text": [
      "910\n"
     ]
    }
   ],
   "source": [
    "#4.15\n",
    "d4 = {1: 10, 2: 20, 3: 30, 4: 40, 5: 50, 6: 60}\n",
    "\n",
    "print(sum(a * b for a, b in d4.items()))"
   ],
   "metadata": {
    "collapsed": false,
    "ExecuteTime": {
     "end_time": "2023-11-23T13:55:37.361895400Z",
     "start_time": "2023-11-23T13:55:37.351895700Z"
    }
   },
   "id": "235d1ca801558c0e"
  },
  {
   "cell_type": "code",
   "execution_count": 3,
   "outputs": [
    {
     "name": "stdout",
     "output_type": "stream",
     "text": [
      "['h', 'i', 'j', 'k', 'l']\n"
     ]
    }
   ],
   "source": [
    "#4.16\n",
    "d5 = {'a': 3, 'b': 4, 'c': 5, 'd': 6, 'e': 7, 'f': 8, 'g': 9}\n",
    "d6 = {'e': 20, 'f': 21, 'g': 22, 'h': 23, 'i': 24, 'j': 25, 'k': 26, 'l': 27}\n",
    "\n",
    "print([a for a in d6.keys() if not a in d5.keys()])"
   ],
   "metadata": {
    "collapsed": false,
    "ExecuteTime": {
     "end_time": "2023-11-23T13:57:27.541700200Z",
     "start_time": "2023-11-23T13:57:27.494698400Z"
    }
   },
   "id": "61751e413106cf1"
  },
  {
   "cell_type": "code",
   "execution_count": 6,
   "outputs": [
    {
     "name": "stdout",
     "output_type": "stream",
     "text": [
      "[2, 8, -6, -12, 0, 66, 14]\n"
     ]
    }
   ],
   "source": [
    "#4.17\n",
    "l2 = [2, 4, -2, -3, 0 , 11 , 3 -1]\n",
    "\n",
    "print([a * (i + 1) for a, i in zip(l2, range(len(l2)))])"
   ],
   "metadata": {
    "collapsed": false,
    "ExecuteTime": {
     "end_time": "2023-11-23T14:00:10.551701Z",
     "start_time": "2023-11-23T14:00:10.535703300Z"
    }
   },
   "id": "1a38d2fe8c51ab77"
  },
  {
   "cell_type": "code",
   "execution_count": 7,
   "outputs": [
    {
     "name": "stdout",
     "output_type": "stream",
     "text": [
      "[2, 4, 0, 11, 2]\n"
     ]
    }
   ],
   "source": [
    "#4.18\n",
    "l2 = [2, 4, -2, -3, 0 , 11 , 3 -1]\n",
    "\n",
    "print([a for a in l2 if a >= 0])"
   ],
   "metadata": {
    "collapsed": false,
    "ExecuteTime": {
     "end_time": "2023-11-23T14:02:17.560874600Z",
     "start_time": "2023-11-23T14:02:17.553875700Z"
    }
   },
   "id": "9617cd3e7ee29908"
  },
  {
   "cell_type": "code",
   "execution_count": 9,
   "outputs": [
    {
     "name": "stdout",
     "output_type": "stream",
     "text": [
      "[2, 4, 3, 4, 0, 11, 2]\n"
     ]
    }
   ],
   "source": [
    "#4.19\n",
    "l2 = [2, 4, -2, -3, 0 , 11 , 3 -1]\n",
    "\n",
    "print([a if a >= 0 else (i + 1) for a, i in zip(l2, range(len(l2)))])"
   ],
   "metadata": {
    "collapsed": false,
    "ExecuteTime": {
     "end_time": "2023-11-23T14:03:22.981227Z",
     "start_time": "2023-11-23T14:03:22.962230600Z"
    }
   },
   "id": "61c42f2dca5b27f0"
  },
  {
   "cell_type": "code",
   "execution_count": 10,
   "outputs": [
    {
     "name": "stdout",
     "output_type": "stream",
     "text": [
      "20\n"
     ]
    }
   ],
   "source": [
    "#5.1\n",
    "def multiply(a, b):\n",
    "    return a * b\n",
    "\n",
    "print(multiply(4, 5))"
   ],
   "metadata": {
    "collapsed": false,
    "ExecuteTime": {
     "end_time": "2023-11-23T14:05:29.386641800Z",
     "start_time": "2023-11-23T14:05:29.373641Z"
    }
   },
   "id": "ec51f144482eb0f3"
  },
  {
   "cell_type": "code",
   "execution_count": 23,
   "outputs": [
    {
     "name": "stdout",
     "output_type": "stream",
     "text": [
      "4\n",
      "20\n",
      "140\n"
     ]
    }
   ],
   "source": [
    "#5.2\n",
    "def multiply(a, b=1, c=1):\n",
    "    return a * b * c\n",
    "\n",
    "print(multiply(4))\n",
    "print(multiply(4, 5))\n",
    "print(multiply(4, 5, 7))"
   ],
   "metadata": {
    "collapsed": false,
    "ExecuteTime": {
     "end_time": "2023-11-23T14:18:11.625895200Z",
     "start_time": "2023-11-23T14:18:11.619894400Z"
    }
   },
   "id": "8fd8fb8f1d633e3b"
  },
  {
   "cell_type": "code",
   "execution_count": 24,
   "outputs": [
    {
     "name": "stdout",
     "output_type": "stream",
     "text": [
      "20\n",
      "140\n",
      "[2, 35, 55]\n"
     ]
    }
   ],
   "source": [
    "#5.2\n",
    "def multiply(*args):\n",
    "    if len(args) == 0:\n",
    "        raise ValueError(\"No arguments provided\")\n",
    "    if len(args) > 3:\n",
    "        raise ValueError(\"The function accepts up to 3 arguments\")\n",
    "    result = 1\n",
    "    for a in args:\n",
    "        result *= a\n",
    "    return result\n",
    "\n",
    "\n",
    "print(multiply(4, 5))\n",
    "print(multiply(4, 5, 7))\n",
    "print(multiply([2, 35, 55]))"
   ],
   "metadata": {
    "collapsed": false,
    "ExecuteTime": {
     "end_time": "2023-11-23T14:21:45.297289600Z",
     "start_time": "2023-11-23T14:21:45.288289200Z"
    }
   },
   "id": "53cbad9642a190e9"
  },
  {
   "cell_type": "code",
   "execution_count": 9,
   "outputs": [
    {
     "name": "stdout",
     "output_type": "stream",
     "text": [
      "750\n",
      "3\n",
      "3850\n",
      "750\n",
      "3000\n"
     ]
    }
   ],
   "source": [
    "#5.3\n",
    "def argToList(l, arg):\n",
    "    if isinstance(arg, list) or isinstance(arg, tuple):\n",
    "        for i in arg:\n",
    "            argToList(l, i)\n",
    "    else:\n",
    "        l.append(arg)\n",
    "\n",
    "def multiply(*args):\n",
    "    a = []\n",
    "    argToList(a, args)\n",
    "    if len(a) == 0:\n",
    "        raise ValueError(\"No arguments provided\")\n",
    "    if len(a) > 3:\n",
    "        raise ValueError(\"The function accepts up to 3 arguments\")\n",
    "    result = 1\n",
    "    for i in a:\n",
    "        result *= i\n",
    "    return result\n",
    "\n",
    "\n",
    "print(multiply(15, 10 ,5))\n",
    "print(multiply(3, 1))\n",
    "print(multiply(2, 35, 55))\n",
    "print(multiply([5, 10 ,15, 20][:-1]))\n",
    "print(multiply([5, 10 ,15, 20][1:]))"
   ],
   "metadata": {
    "collapsed": false,
    "ExecuteTime": {
     "end_time": "2023-11-23T16:39:14.618781300Z",
     "start_time": "2023-11-23T16:39:14.611778Z"
    }
   },
   "id": "4d0e64da52530626"
  },
  {
   "cell_type": "code",
   "execution_count": 8,
   "outputs": [
    {
     "name": "stdout",
     "output_type": "stream",
     "text": [
      "750\n",
      "3\n",
      "3850\n",
      "15000\n"
     ]
    }
   ],
   "source": [
    "#5.4\n",
    "def argToList(l, arg):\n",
    "    if isinstance(arg, list) or isinstance(arg, tuple):\n",
    "        for i in arg:\n",
    "            argToList(l, i)\n",
    "    else:\n",
    "        l.append(arg)\n",
    "\n",
    "def multiply(*args):\n",
    "    a = []\n",
    "    argToList(a, args)\n",
    "    if len(a) == 0:\n",
    "        raise ValueError(\"No arguments provided\")\n",
    "    result = 1\n",
    "    for i in a:\n",
    "        result *= i\n",
    "    return result\n",
    "\n",
    "\n",
    "print(multiply(15, 10 ,5))\n",
    "print(multiply(3, 1))\n",
    "print(multiply(2, 35, 55))\n",
    "print(multiply([5, 10 ,15, 20]))"
   ],
   "metadata": {
    "collapsed": false,
    "ExecuteTime": {
     "end_time": "2023-11-23T16:36:01.231210500Z",
     "start_time": "2023-11-23T16:36:01.219208400Z"
    }
   },
   "id": "1ada92befa615118"
  },
  {
   "cell_type": "code",
   "execution_count": 14,
   "outputs": [
    {
     "name": "stdout",
     "output_type": "stream",
     "text": [
      "Выберите режим:\n",
      "1. +\n",
      "2. -\n",
      "3. *\n",
      "4. /\n",
      "Результат: 20\n"
     ]
    }
   ],
   "source": [
    "#5.5\n",
    "def add(a, b):\n",
    "    return a + b\n",
    "\n",
    "def subtract(a, b):\n",
    "    return a - b\n",
    "\n",
    "def multiply(a, b):\n",
    "    return a * b\n",
    "\n",
    "def divide(a, b):\n",
    "    return a // b\n",
    "\n",
    "a = 4\n",
    "b = 5\n",
    "\n",
    "print('Выберите режим:')\n",
    "print('1. +')\n",
    "print('2. -')\n",
    "print('3. *')\n",
    "print('4. /')\n",
    "while True:\n",
    "    s = input()\n",
    "    if s == '1':\n",
    "        print('Результат:', add(a, b))\n",
    "    elif s == '2':\n",
    "        print('Результат:', subtract(a, b))\n",
    "    elif s == '3':\n",
    "        print('Результат:', multiply(a, b))\n",
    "    elif s == '4':\n",
    "        print('Результат:', divide(a, b))\n",
    "    else:\n",
    "        print('Неверное значение!')\n",
    "        continue\n",
    "    break"
   ],
   "metadata": {
    "collapsed": false,
    "ExecuteTime": {
     "end_time": "2023-11-23T16:46:33.827816600Z",
     "start_time": "2023-11-23T16:46:33.208857700Z"
    }
   },
   "id": "95fafc7ccc9208b7"
  },
  {
   "cell_type": "code",
   "execution_count": 16,
   "outputs": [
    {
     "name": "stdout",
     "output_type": "stream",
     "text": [
      "-6\n"
     ]
    }
   ],
   "source": [
    "#5.6\n",
    "import re\n",
    "operationRegex = r'(\\d+)\\s*([-+*/%^])\\s*(\\d+)'\n",
    "\n",
    "def calc(s):\n",
    "    m = re.fullmatch(operationRegex, s)\n",
    "    if not m:\n",
    "        print('Неверный формат операций, попробуйте снова')\n",
    "        return False\n",
    "    num1 = int(m.group(1))\n",
    "    num2 = int(m.group(3))\n",
    "    operation = m.group(2)\n",
    "    if operation == '+':\n",
    "        print(num1 + num2)\n",
    "    elif operation == '-':\n",
    "        print(num1 - num2)\n",
    "    elif operation == '*':\n",
    "        print(num1 * num2)\n",
    "    elif operation == '/':\n",
    "        print(num1 // num2)\n",
    "    elif operation == '%':\n",
    "        print(num1 % num2)\n",
    "    elif operation == '^':\n",
    "        print(pow(num1, num2))\n",
    "    return True\n",
    "\n",
    "while True:\n",
    "    if calc(input()):\n",
    "        break"
   ],
   "metadata": {
    "collapsed": false,
    "ExecuteTime": {
     "end_time": "2023-11-23T16:59:38.098690200Z",
     "start_time": "2023-11-23T16:59:35.303913600Z"
    }
   },
   "id": "648cb85c056fb74"
  },
  {
   "cell_type": "code",
   "execution_count": null,
   "outputs": [],
   "source": [
    "# Old way (5.7)\n",
    "def printInfo(mark='BMW', model=\"X5\", color='белый', launchYear=2006, distanceTravelled='215 000 км', plateId='X012АМ77', price='1 115 000 руб.'):\n",
    "    print(f'Автомобиль марки: {mark}, модели: {model}, цвета: {color}, {launchYear} года выпуска, с пробегом: {distanceTravelled}, c номерным знаком: {plateId}, цена: {price}')\n",
    "printInfo(mark='Mercedes', color='чёрный', plateId='CE12HA22', price='1 500 000 руб.')"
   ],
   "metadata": {
    "collapsed": false
   },
   "id": "a781083cd6963a3d"
  },
  {
   "cell_type": "code",
   "execution_count": 33,
   "outputs": [
    {
     "name": "stdout",
     "output_type": "stream",
     "text": [
      "Автомобиль марки: Mercedes, модели: X5, цвета: чёрный, 2006 года выпуска, с пробегом: 215 000 км, c номерным знаком: CE12HA22, цена: 1 500 000 руб.\n",
      "Автомобиль марки: Toyota, модели: A450, цвета: красный, 2006 года выпуска, с пробегом: 120 000 км, c номерным знаком: EY64EA88, цена: 2 800 000 руб.\n"
     ]
    }
   ],
   "source": [
    "#5.7\n",
    "def getWithDefault(kwargs, key, default):\n",
    "    if key in kwargs.keys():\n",
    "        return kwargs.get(key)\n",
    "    else:\n",
    "        return default\n",
    "\n",
    "def printInfo(**kwargs):\n",
    "    print('Автомобиль марки: ' + getWithDefault(kwargs, 'mark', 'BMW') +\n",
    "        ', модели: ' + getWithDefault(kwargs, 'model', 'X5') +\n",
    "        ', цвета: ' + getWithDefault(kwargs, 'color', 'белый') + \n",
    "        ', ' + getWithDefault(kwargs, 'launchYear', '2006') + ' года выпуска' +\n",
    "        ', с пробегом: ' + getWithDefault(kwargs, 'distanceTravelled', '215 000 км') +\n",
    "        ', c номерным знаком: ' + getWithDefault(kwargs, 'plateId', 'X012АМ77') +\n",
    "        ', цена: ' + getWithDefault(kwargs, 'price', '1 115 000 руб.'))\n",
    "\n",
    "c1 = {'mark':'Mercedes',\n",
    "      'color':'чёрный',\n",
    "      'plateId':'CE12HA22',\n",
    "      'price':'1 500 000 руб.'\n",
    "      }\n",
    "\n",
    "c2 = {'mark':'Toyota',\n",
    "      'model': 'A450',\n",
    "      'color':'красный',\n",
    "      'distanceTravelled': '120 000 км',\n",
    "      'plateId':'EY64EA88',\n",
    "      'price':'2 800 000 руб.'\n",
    "      }\n",
    "\n",
    "printInfo(**c1)\n",
    "printInfo(**c2)"
   ],
   "metadata": {
    "collapsed": false,
    "ExecuteTime": {
     "end_time": "2023-11-23T17:23:03.025889100Z",
     "start_time": "2023-11-23T17:23:03.015892800Z"
    }
   },
   "id": "a831d396ac1670d4"
  },
  {
   "cell_type": "code",
   "execution_count": 39,
   "outputs": [
    {
     "name": "stdout",
     "output_type": "stream",
     "text": [
      "Двадцать пять \n"
     ]
    }
   ],
   "source": [
    "#5.8\n",
    "def to_text(n):\n",
    "    n = int(n)\n",
    "    s = ''\n",
    "    if(n == 0):\n",
    "        return 'Ноль'\n",
    "    if n >= 10:\n",
    "        amount = int(n // 10)\n",
    "        space = True\n",
    "        if n == 10:\n",
    "            s += 'десять'\n",
    "        elif n == 11:\n",
    "            s += 'одиннадцать'\n",
    "            n -= 1\n",
    "        elif n == 12:\n",
    "            s += 'двенадцать'\n",
    "            n -= 2\n",
    "        elif n == 13:\n",
    "            s += 'тринадцать'\n",
    "            n -= 3\n",
    "        elif n == 14:\n",
    "            s += 'четырнадцать'\n",
    "            n -= 4\n",
    "        elif n == 15:\n",
    "            s += 'пятнадцать'\n",
    "            n -= 5\n",
    "        elif n == 16:\n",
    "            s += 'шестнадцать'\n",
    "            n -= 6\n",
    "        elif n == 17:\n",
    "            s += 'семнадцать'\n",
    "            n -= 7\n",
    "        elif n == 18:\n",
    "            s += 'восемнадцать'\n",
    "            n -= 8\n",
    "        elif n == 19:\n",
    "            s += 'девятнадцать'\n",
    "            n -= 9\n",
    "        elif amount == 2:\n",
    "            s += 'двадцать'\n",
    "        elif amount == 3:\n",
    "            s += 'тридцать'\n",
    "        elif amount == 4:\n",
    "            s += 'сорок'\n",
    "        elif amount == 5:\n",
    "            s += 'пятьдесят'\n",
    "        elif amount == 6:\n",
    "            s += 'шестьдесят'\n",
    "        elif amount == 7:\n",
    "            s += 'семьдесят'\n",
    "        elif amount == 8:\n",
    "            s += 'восемьдесят'\n",
    "        elif amount == 9:\n",
    "            s += 'девяносто'\n",
    "        else:\n",
    "            space = False\n",
    "        if space:\n",
    "            s += ' '\n",
    "        n -= amount * 10\n",
    "    if n > 0:\n",
    "        space = True\n",
    "        if n == 1:\n",
    "            s += 'один'\n",
    "        elif n == 2:\n",
    "            s += 'два'\n",
    "        elif n == 3:\n",
    "            s += 'три'\n",
    "        elif n == 4:\n",
    "            s += 'четыре'\n",
    "        elif n == 5:\n",
    "            s += 'пять'\n",
    "        elif n == 6:\n",
    "            s += 'шесть'\n",
    "        elif n == 7:\n",
    "            s += 'семь'\n",
    "        elif n == 8:\n",
    "            s += 'восемь'\n",
    "        elif n == 9:\n",
    "            s += 'девять'\n",
    "        else:\n",
    "            space = False\n",
    "        if space:\n",
    "            s += ' '\n",
    "    \n",
    "    s = s[0].upper() + s[1:]\n",
    "    return s\n",
    "\n",
    "print(to_text(25))"
   ],
   "metadata": {
    "collapsed": false,
    "ExecuteTime": {
     "end_time": "2023-11-23T17:27:58.944833400Z",
     "start_time": "2023-11-23T17:27:58.938835900Z"
    }
   },
   "id": "98cdbb9c1721f223"
  },
  {
   "cell_type": "code",
   "execution_count": 53,
   "outputs": [
    {
     "name": "stdout",
     "output_type": "stream",
     "text": [
      "33\n"
     ]
    }
   ],
   "source": [
    "#5.9\n",
    "def getNumHundreds(raw, silent=False):\n",
    "    if not raw:\n",
    "        return 0\n",
    "    raw = raw.strip()\n",
    "\n",
    "    if raw == 'сто':\n",
    "        return 100\n",
    "    elif raw == 'двести':\n",
    "        return 200\n",
    "    elif raw == 'триста':\n",
    "        return 300\n",
    "    elif raw == 'четыреста':\n",
    "        return 400\n",
    "    elif raw == 'пятьсот':\n",
    "        return 500\n",
    "    elif raw == 'шестьсот':\n",
    "        return 600\n",
    "    elif raw == 'семьсот':\n",
    "        return 700\n",
    "    elif raw == 'восемьсот':\n",
    "        return 800\n",
    "    elif raw == 'девятьсот':\n",
    "        return 900\n",
    "\n",
    "    if not silent:\n",
    "        print('Неверный формат сотен: \"' + raw + '\"')\n",
    "    return None\n",
    "\n",
    "\n",
    "def getNumTens(raw, silent=False):\n",
    "    if not raw:\n",
    "        return 0\n",
    "    raw = raw.strip()\n",
    "\n",
    "    if raw == 'двадцать':\n",
    "        return 20\n",
    "    elif raw == 'тридцать':\n",
    "        return 30\n",
    "    elif raw == 'сорок':\n",
    "        return 40\n",
    "    elif raw == 'пятьдесят':\n",
    "        return 50\n",
    "    elif raw == 'шестьдесят':\n",
    "        return 60\n",
    "    elif raw == 'семьдесят':\n",
    "        return 70\n",
    "    elif raw == 'восемьдесят':\n",
    "        return 80\n",
    "    elif raw == 'девяносто':\n",
    "        return 90\n",
    "\n",
    "    if not silent:\n",
    "        print('Неверный формат десятков: \"' + raw + '\"')\n",
    "    return None\n",
    "\n",
    "\n",
    "def getNumOnes(raw):\n",
    "    if not raw:\n",
    "        return 0\n",
    "    raw = raw.strip()\n",
    "\n",
    "    if raw == 'один' or raw == 'одна':\n",
    "        return 1\n",
    "    elif raw == 'два' or raw == 'две':\n",
    "        return 2\n",
    "    elif raw == 'три':\n",
    "        return 3\n",
    "    elif raw == 'четыре':\n",
    "        return 4\n",
    "    elif raw == 'пять':\n",
    "        return 5\n",
    "    elif raw == 'шесть':\n",
    "        return 6\n",
    "    elif raw == 'семь':\n",
    "        return 7\n",
    "    elif raw == 'восемь':\n",
    "        return 8\n",
    "    elif raw == 'девять':\n",
    "        return 9\n",
    "    elif raw == 'десять':\n",
    "        return 10\n",
    "    elif raw == 'одиннадцать':\n",
    "        return 11\n",
    "    elif raw == 'двенадцать':\n",
    "        return 12\n",
    "    elif raw == 'тринадцать':\n",
    "        return 13\n",
    "    elif raw == 'четырнадцать':\n",
    "        return 14\n",
    "    elif raw == 'пятнадцать':\n",
    "        return 15\n",
    "    elif raw == 'шестнадцать':\n",
    "        return 16\n",
    "    elif raw == 'семнадцать':\n",
    "        return 17\n",
    "    elif raw == 'восемнадцать':\n",
    "        return 18\n",
    "    elif raw == 'девятнадцать':\n",
    "        return 19\n",
    "    \n",
    "    attempt = getNumTens(raw, silent=True)\n",
    "    if attempt is None:\n",
    "        attempt = getNumHundreds(raw, silent=True)\n",
    "        if attempt is None:\n",
    "            print('Неверный формат единиц: \"' + raw + '\"')\n",
    "            return None\n",
    "    return attempt\n",
    "\n",
    "def getNumber(s):\n",
    "    hundreds = 0\n",
    "    tens = 0\n",
    "    ones = 0\n",
    "\n",
    "    p = s.split()\n",
    "    if len(p) == 0:\n",
    "        print('\"Пустое\" число!')\n",
    "        return None\n",
    "    if len(p) >= 1:\n",
    "        ones = getNumOnes(p[len(p) - 1])\n",
    "        if not ones:\n",
    "            return None\n",
    "    if len(p) >= 2:\n",
    "        tens = getNumTens(p[len(p) - 2])\n",
    "        if not tens:\n",
    "            return None\n",
    "    if len(p) >= 3:\n",
    "        hundreds = getNumHundreds(p[len(p) - 3])\n",
    "        if not hundreds:\n",
    "            return None\n",
    "\n",
    "    return hundreds + tens + ones\n",
    "\n",
    "def to_int(s):\n",
    "    n = getNumber(s)\n",
    "    if not n:\n",
    "        raise ValueError('Неверное число!')\n",
    "    return n\n",
    "\n",
    "print(to_int('тридцать три'))"
   ],
   "metadata": {
    "collapsed": false,
    "ExecuteTime": {
     "end_time": "2023-11-23T17:46:38.125999Z",
     "start_time": "2023-11-23T17:46:38.111997Z"
    }
   },
   "id": "5f348a730559ebdf"
  },
  {
   "cell_type": "code",
   "execution_count": 54,
   "outputs": [
    {
     "name": "stdout",
     "output_type": "stream",
     "text": [
      "Сто двадцать пять \n"
     ]
    }
   ],
   "source": [
    "#6.1\n",
    "import re\n",
    "operationRegex = r'(.*)\\s+(плюс|минус|умножить\\sна)\\s+(.*)'\n",
    "\n",
    "def to_text(n):\n",
    "    n = int(n)\n",
    "    s = ''\n",
    "    if n == 0:\n",
    "        return 'Ноль'\n",
    "    if n >= 100:\n",
    "        amount = int(n // 100)\n",
    "        space = True\n",
    "        if amount == 1:\n",
    "            s += 'сто'\n",
    "        elif amount == 2:\n",
    "            s += 'двести'\n",
    "        elif amount == 3:\n",
    "            s += 'триста'\n",
    "        elif amount == 4:\n",
    "            s += 'четыреста'\n",
    "        elif amount == 5:\n",
    "            s += 'пятьсот'\n",
    "        elif amount == 6:\n",
    "            s += 'шестьсот'\n",
    "        elif amount == 7:\n",
    "            s += 'семьсот'\n",
    "        elif amount == 8:\n",
    "            s += 'восемьсот'\n",
    "        elif amount == 9:\n",
    "            s += 'девятьсот'\n",
    "        else:\n",
    "            space = False\n",
    "        if space:\n",
    "            s += ' '\n",
    "        n -= amount * 100\n",
    "    if n >= 10:\n",
    "        amount = int(n // 10)\n",
    "        space = True\n",
    "        if n == 10:\n",
    "            s += 'десять'\n",
    "        elif n == 11:\n",
    "            s += 'одиннадцать'\n",
    "            n -= 1\n",
    "        elif n == 12:\n",
    "            s += 'двенадцать'\n",
    "            n -= 2\n",
    "        elif n == 13:\n",
    "            s += 'тринадцать'\n",
    "            n -= 3\n",
    "        elif n == 14:\n",
    "            s += 'четырнадцать'\n",
    "            n -= 4\n",
    "        elif n == 15:\n",
    "            s += 'пятнадцать'\n",
    "            n -= 5\n",
    "        elif n == 16:\n",
    "            s += 'шестнадцать'\n",
    "            n -= 6\n",
    "        elif n == 17:\n",
    "            s += 'семнадцать'\n",
    "            n -= 7\n",
    "        elif n == 18:\n",
    "            s += 'восемнадцать'\n",
    "            n -= 8\n",
    "        elif n == 19:\n",
    "            s += 'девятнадцать'\n",
    "            n -= 9\n",
    "        elif amount == 2:\n",
    "            s += 'двадцать'\n",
    "        elif amount == 3:\n",
    "            s += 'тридцать'\n",
    "        elif amount == 4:\n",
    "            s += 'сорок'\n",
    "        elif amount == 5:\n",
    "            s += 'пятьдесят'\n",
    "        elif amount == 6:\n",
    "            s += 'шестьдесят'\n",
    "        elif amount == 7:\n",
    "            s += 'семьдесят'\n",
    "        elif amount == 8:\n",
    "            s += 'восемьдесят'\n",
    "        elif amount == 9:\n",
    "            s += 'девяносто'\n",
    "        else:\n",
    "            space = False\n",
    "        if space:\n",
    "            s += ' '\n",
    "        n -= amount * 10\n",
    "    if n > 0:\n",
    "        space = True\n",
    "        if n == 1:\n",
    "            s += 'один'\n",
    "        elif n == 2:\n",
    "            s += 'два'\n",
    "        elif n == 3:\n",
    "            s += 'три'\n",
    "        elif n == 4:\n",
    "            s += 'четыре'\n",
    "        elif n == 5:\n",
    "            s += 'пять'\n",
    "        elif n == 6:\n",
    "            s += 'шесть'\n",
    "        elif n == 7:\n",
    "            s += 'семь'\n",
    "        elif n == 8:\n",
    "            s += 'восемь'\n",
    "        elif n == 9:\n",
    "            s += 'девять'\n",
    "        else:\n",
    "            space = False\n",
    "        if space:\n",
    "            s += ' '\n",
    "    \n",
    "    s = s[0].upper() + s[1:]\n",
    "    return s\n",
    "\n",
    "def calc(s):\n",
    "    m = re.fullmatch(operationRegex, s)\n",
    "    if not m:\n",
    "        print('Неверный формат операций')\n",
    "        return None\n",
    "    num1 = to_int(m.group(1))\n",
    "    num2 = to_int(m.group(3))\n",
    "    operation = m.group(2)\n",
    "    if operation == 'плюс':\n",
    "        return to_text(num1 + num2)\n",
    "    elif operation == 'минус':\n",
    "        return to_text(num1 - num2)\n",
    "    elif operation == 'умножить на':\n",
    "        return to_text(num1 * num2)\n",
    "\n",
    "print(calc('пятьдесят пять плюс семьдесят'))"
   ],
   "metadata": {
    "collapsed": false,
    "ExecuteTime": {
     "end_time": "2023-11-23T17:48:08.516631800Z",
     "start_time": "2023-11-23T17:48:08.505629100Z"
    }
   },
   "id": "ce6854118ea3282"
  },
  {
   "cell_type": "code",
   "execution_count": null,
   "outputs": [],
   "source": [],
   "metadata": {
    "collapsed": false
   },
   "id": "2d7fd22c2bcd31be"
  }
 ],
 "metadata": {
  "kernelspec": {
   "display_name": "Python 3 (ipykernel)",
   "language": "python",
   "name": "python3"
  },
  "language_info": {
   "codemirror_mode": {
    "name": "ipython",
    "version": 3
   },
   "file_extension": ".py",
   "mimetype": "text/x-python",
   "name": "python",
   "nbconvert_exporter": "python",
   "pygments_lexer": "ipython3",
   "version": "3.10.7"
  }
 },
 "nbformat": 4,
 "nbformat_minor": 5
}
