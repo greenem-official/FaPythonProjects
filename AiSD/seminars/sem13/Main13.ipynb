{
 "cells": [
  {
   "cell_type": "code",
   "execution_count": 1,
   "id": "initial_id",
   "metadata": {
    "ExecuteTime": {
     "end_time": "2024-02-25T18:48:43.341756800Z",
     "start_time": "2024-02-25T18:48:43.300758Z"
    }
   },
   "outputs": [
    {
     "name": "stdout",
     "output_type": "stream",
     "text": [
      "a b\n",
      "1\n",
      "c b\n",
      "b\n"
     ]
    }
   ],
   "source": [
    "# 1\n",
    "# Реализовать простейший динамический массив, поддерживающий добавление элемента в конец массива при помощи метода append(e)\n",
    "# Также должны поддерживаться следующие операции:\n",
    "# - извлечение элемента по индексу;\n",
    "# - устанавка нового значения по индексу;\n",
    "# - получение текущей длины массива.\n",
    "\n",
    "from SimpleListImpl import SimpleList\n",
    "\n",
    "l = SimpleList()\n",
    "l.append('a')\n",
    "l.append('b')\n",
    "print(l)\n",
    "print(len(l))\n",
    "l.set('c', 0)\n",
    "print(l)\n",
    "print(l[1])"
   ]
  },
  {
   "cell_type": "code",
   "execution_count": 2,
   "id": "aa29ee70294f2da6",
   "metadata": {
    "ExecuteTime": {
     "end_time": "2024-02-25T18:48:43.373757200Z",
     "start_time": "2024-02-25T18:48:43.314758200Z"
    }
   },
   "outputs": [
    {
     "name": "stdout",
     "output_type": "stream",
     "text": [
      "a b\n",
      "b\n"
     ]
    }
   ],
   "source": [
    "# 1.1\n",
    "# Добавить реализацию удаления элемента из любого места массива и поддержку корректного вывода массива при помощи функции print\n",
    "\n",
    "from SimpleListImplV1_1 import SimpleList\n",
    "\n",
    "l = SimpleList()\n",
    "l.append('a')\n",
    "l.append('b')\n",
    "print(l)\n",
    "l.remove(0)\n",
    "print(l)"
   ]
  },
  {
   "cell_type": "code",
   "execution_count": 3,
   "id": "a283d43955573cd9",
   "metadata": {
    "ExecuteTime": {
     "end_time": "2024-02-25T18:48:43.374757Z",
     "start_time": "2024-02-25T18:48:43.331758500Z"
    }
   },
   "outputs": [
    {
     "name": "stdout",
     "output_type": "stream",
     "text": [
      "4\n",
      "9\n",
      "3\n",
      "8\n",
      "2\n",
      "7\n",
      "1\n",
      "6\n",
      "5\n"
     ]
    }
   ],
   "source": [
    "# 2\n",
    "# Реализовать генератор, который возвращает значение поочередно извлекаемое из конца двух очередей\n",
    "# (в качестве очереди используется deque из collections).\n",
    "# Если очередь из которой извлекается элемент пуста - генератор заканчивает работу.\n",
    "\n",
    "from collections import deque\n",
    "\n",
    "def special_generator(queue1, queue2):\n",
    "    while queue1 or queue2:\n",
    "        if queue1:\n",
    "            yield queue1.pop()\n",
    "        if queue2:\n",
    "            yield queue2.pop()\n",
    "\n",
    "q1 = deque([1, 2, 3, 4])\n",
    "q2 = deque([5, 6, 7, 8, 9])\n",
    "\n",
    "for value in special_generator(q1, q2):\n",
    "    print(value)"
   ]
  },
  {
   "cell_type": "code",
   "execution_count": 4,
   "id": "0e695c71",
   "metadata": {
    "ExecuteTime": {
     "end_time": "2024-02-25T18:48:43.375757600Z",
     "start_time": "2024-02-25T18:48:43.344757800Z"
    }
   },
   "outputs": [],
   "source": [
    "# Реализовать классы с медодом action():"
   ]
  },
  {
   "cell_type": "code",
   "execution_count": 5,
   "id": "6c1b4da9",
   "metadata": {
    "ExecuteTime": {
     "end_time": "2024-02-25T18:48:43.418758700Z",
     "start_time": "2024-02-25T18:48:43.361758100Z"
    }
   },
   "outputs": [
    {
     "name": "stdout",
     "output_type": "stream",
     "text": [
      "deque([3])\n",
      "deque([3, 6])\n",
      "deque([3, 6, 2])\n",
      "deque([3, 6, 2, 5])\n"
     ]
    }
   ],
   "source": [
    "# 3.а Класс Pump - в методе action() извлекает очередное значение из генератора и помещает значение в очередь\n",
    "# (очередь передается в конструктор).\n",
    "\n",
    "from collections import deque\n",
    "\n",
    "class Pump:\n",
    "    def __init__(self, queue, generator):\n",
    "        self.queue = queue\n",
    "        self.generator = generator\n",
    "\n",
    "    def action(self):\n",
    "        try:\n",
    "            value = next(self.generator)\n",
    "            self.queue.append(value)\n",
    "        except StopIteration:\n",
    "            # генератор завершил работу\n",
    "            pass\n",
    "\n",
    "\n",
    "# Очередь, куда класть значения\n",
    "q = deque()\n",
    "\n",
    "# Очереди с исходными данными\n",
    "q1 = deque([1, 2, 3])\n",
    "q2 = deque([4, 5, 6])\n",
    "\n",
    "# Генератор из задания №2\n",
    "gen = special_generator(q1, q2)\n",
    "# Pump\n",
    "pump = Pump(q, gen)\n",
    "\n",
    "pump.action()\n",
    "print(q)\n",
    "pump.action()\n",
    "print(q)\n",
    "pump.action()\n",
    "print(q)\n",
    "pump.action()\n",
    "print(q)"
   ]
  },
  {
   "cell_type": "code",
   "execution_count": 6,
   "id": "f4fffa0f",
   "metadata": {
    "ExecuteTime": {
     "end_time": "2024-02-25T18:48:43.433757Z",
     "start_time": "2024-02-25T18:48:43.375757600Z"
    }
   },
   "outputs": [
    {
     "name": "stdout",
     "output_type": "stream",
     "text": [
      "deque([3, 6])\n",
      "deque([3, 6, 2, 5])\n",
      "deque([3, 6, 2, 5, 1, 4])\n",
      "deque([3, 6, 2, 5, 1, 4])\n"
     ]
    }
   ],
   "source": [
    "# 3.b Класс MultiAction - при вызове метода action() n раз вызвает метод action() класса,\n",
    "# переданного в конструкторе. Число n также определяется в конструкторе.\n",
    "\n",
    "from collections import deque\n",
    "\n",
    "class MultiAction:\n",
    "    def __init__(self, queue, generator, n):\n",
    "        self.queue = queue\n",
    "        self.generator = generator\n",
    "        self.n = n\n",
    "\n",
    "    def action(self):\n",
    "        try:\n",
    "            for i in range(self.n):\n",
    "                value = next(self.generator)\n",
    "                self.queue.append(value)\n",
    "        except StopIteration:\n",
    "            # генератор завершил работу\n",
    "            pass\n",
    "\n",
    "\n",
    "# Очередь, куда класть значения\n",
    "q = deque()\n",
    "\n",
    "# Очереди с исходными данными\n",
    "q1 = deque([1, 2, 3])\n",
    "q2 = deque([4, 5, 6])\n",
    "\n",
    "# Генератор из задания №2\n",
    "gen = special_generator(q1, q2)\n",
    "# MultiAction\n",
    "ma = MultiAction(q, gen, 2)\n",
    "\n",
    "ma.action()\n",
    "print(q)\n",
    "ma.action()\n",
    "print(q)\n",
    "ma.action()\n",
    "print(q)\n",
    "ma.action()\n",
    "print(q)"
   ]
  },
  {
   "cell_type": "code",
   "execution_count": 7,
   "id": "0b751862",
   "metadata": {
    "ExecuteTime": {
     "end_time": "2024-02-25T18:48:43.434757Z",
     "start_time": "2024-02-25T18:48:43.392756200Z"
    }
   },
   "outputs": [
    {
     "name": "stdout",
     "output_type": "stream",
     "text": [
      "deque([3]) deque([])\n",
      "deque([3]) deque([6])\n",
      "deque([3, 2]) deque([6])\n",
      "deque([3, 2]) deque([6, 5])\n"
     ]
    }
   ],
   "source": [
    "# 3.c Класс MultiPump - в методе action() извлекает очередное значение из генератора и помещает значение в одну из очередей\n",
    "# (очереди передается в конструкторе); очереди , в которые помещаются очередные значения, меняются по порядку.\n",
    "\n",
    "from collections import deque\n",
    "\n",
    "class MultiPump:\n",
    "    def __init__(self, queues, generator):\n",
    "        self.queues = queues\n",
    "        self.generator = generator\n",
    "        self.index = 0\n",
    "\n",
    "    def action(self):\n",
    "        try:\n",
    "            while True:\n",
    "                for i in range(self.index, len(self.queues)):\n",
    "                    q = self.queues[i]\n",
    "                    value = next(self.generator)\n",
    "                    q.append(value)\n",
    "\n",
    "                    self.index += 1\n",
    "                    if self.index == len(self.queues):\n",
    "                        self.index = 0\n",
    "\n",
    "                    return\n",
    "        except StopIteration:\n",
    "            # генератор завершил работу\n",
    "            pass\n",
    "\n",
    "\n",
    "# Очередь, куда класть значения\n",
    "qRes1 = deque()\n",
    "qRes2 = deque()\n",
    "\n",
    "# Очереди с исходными данными\n",
    "q1 = deque([1, 2, 3])\n",
    "q2 = deque([4, 5, 6])\n",
    "\n",
    "# Генератор из задания №2\n",
    "gen = special_generator(q1, q2)\n",
    "# MultiPump\n",
    "mp = MultiPump([qRes1, qRes2], gen)\n",
    "\n",
    "mp.action()\n",
    "print(qRes1, qRes2)\n",
    "mp.action()\n",
    "print(qRes1, qRes2)\n",
    "mp.action()\n",
    "print(qRes1, qRes2)\n",
    "mp.action()\n",
    "print(qRes1, qRes2)"
   ]
  },
  {
   "cell_type": "code",
   "execution_count": 8,
   "id": "bf840111",
   "metadata": {
    "ExecuteTime": {
     "end_time": "2024-02-25T18:48:43.435757300Z",
     "start_time": "2024-02-25T18:48:43.405756700Z"
    }
   },
   "outputs": [],
   "source": [
    "# 4\n",
    "# ???"
   ]
  }
 ],
 "metadata": {
  "kernelspec": {
   "display_name": "Python 3 (ipykernel)",
   "language": "python",
   "name": "python3"
  },
  "language_info": {
   "codemirror_mode": {
    "name": "ipython",
    "version": 3
   },
   "file_extension": ".py",
   "mimetype": "text/x-python",
   "name": "python",
   "nbconvert_exporter": "python",
   "pygments_lexer": "ipython3",
   "version": "3.10.9"
  }
 },
 "nbformat": 4,
 "nbformat_minor": 5
}
