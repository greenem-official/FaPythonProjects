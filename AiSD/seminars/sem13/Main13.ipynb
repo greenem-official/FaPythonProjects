{
 "cells": [
  {
   "cell_type": "code",
   "execution_count": 1,
   "id": "initial_id",
   "metadata": {
    "collapsed": true,
    "ExecuteTime": {
     "end_time": "2024-02-20T21:41:08.772235100Z",
     "start_time": "2024-02-20T21:41:08.751234800Z"
    }
   },
   "outputs": [
    {
     "name": "stdout",
     "output_type": "stream",
     "text": [
      "a b\n",
      "1\n",
      "c b\n",
      "b\n"
     ]
    }
   ],
   "source": [
    "from SimpleListImpl import SimpleList\n",
    "\n",
    "l = SimpleList()\n",
    "l.append('a')\n",
    "l.append('b')\n",
    "print(l)\n",
    "print(len(l))\n",
    "l.setAt('c', 0)\n",
    "print(l)\n",
    "print(l[1])"
   ]
  },
  {
   "cell_type": "code",
   "execution_count": null,
   "outputs": [],
   "source": [],
   "metadata": {
    "collapsed": false
   },
   "id": "aa29ee70294f2da6"
  }
 ],
 "metadata": {
  "kernelspec": {
   "display_name": "Python 3",
   "language": "python",
   "name": "python3"
  },
  "language_info": {
   "codemirror_mode": {
    "name": "ipython",
    "version": 2
   },
   "file_extension": ".py",
   "mimetype": "text/x-python",
   "name": "python",
   "nbconvert_exporter": "python",
   "pygments_lexer": "ipython2",
   "version": "2.7.6"
  }
 },
 "nbformat": 4,
 "nbformat_minor": 5
}
