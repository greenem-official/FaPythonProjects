{
 "cells": [
  {
   "cell_type": "code",
   "execution_count": 4,
   "id": "initial_id",
   "metadata": {
    "collapsed": true,
    "ExecuteTime": {
     "end_time": "2023-12-21T18:35:29.898923500Z",
     "start_time": "2023-12-21T18:35:29.884923900Z"
    }
   },
   "outputs": [
    {
     "name": "stdout",
     "output_type": "stream",
     "text": [
      "Передано не число\n"
     ]
    }
   ],
   "source": [
    "# 3.1\n",
    "import sys\n",
    "\n",
    "s = 0\n",
    "try:\n",
    "    for i in range(1, len(sys.argv)):\n",
    "        num = int(sys.argv[i])\n",
    "        s += num\n",
    "    print(s)\n",
    "except ValueError:\n",
    "    print('Передано не число')"
   ]
  },
  {
   "cell_type": "code",
   "execution_count": 6,
   "outputs": [
    {
     "name": "stdout",
     "output_type": "stream",
     "text": [
      "Неизвестная операция: -f\n"
     ]
    }
   ],
   "source": [
    "# 3.3\n",
    "import sys\n",
    "\n",
    "def add(a, b):\n",
    "    return a + b\n",
    "\n",
    "def multiply(a, b):\n",
    "    return a * b\n",
    "\n",
    "s = 0\n",
    "if len(sys.argv) < 2:\n",
    "    print('Введите в аргументах операцию и числа')\n",
    "else:\n",
    "    oper = sys.argv[1]\n",
    "    func = None\n",
    "    if oper == '+' or oper == 'сложить' or oper == 'плюс':\n",
    "        func = add\n",
    "    elif oper == '*' or oper == 'умножить' or oper == 'умножить на' or oper == 'умножение':\n",
    "        func = multiply\n",
    "        s = 1\n",
    "    else:\n",
    "        print('Неизвестная операция:', oper)\n",
    "    \n",
    "    if func:\n",
    "        try:\n",
    "            for i in range(2, len(sys.argv)):\n",
    "                num = int(sys.argv[i])\n",
    "                s = func(s, num)\n",
    "            print(s)\n",
    "        except ValueError:\n",
    "            print('Передано не число')"
   ],
   "metadata": {
    "collapsed": false,
    "ExecuteTime": {
     "end_time": "2023-12-21T18:50:45.806001900Z",
     "start_time": "2023-12-21T18:50:45.797002200Z"
    }
   },
   "id": "a2c1756c6123c8f0"
  },
  {
   "cell_type": "code",
   "execution_count": 5,
   "outputs": [
    {
     "name": "stdout",
     "output_type": "stream",
     "text": [
      "Неизвестная операция: -f\n"
     ]
    }
   ],
   "source": [
    "# 3.5\n",
    "import module_3_5\n",
    "\n",
    "result = module_3_5.performOperations()\n",
    "if result:\n",
    "    print(result)"
   ],
   "metadata": {
    "collapsed": false,
    "ExecuteTime": {
     "end_time": "2023-12-21T18:50:38.635455900Z",
     "start_time": "2023-12-21T18:50:38.629454700Z"
    }
   },
   "id": "ea94bc055d68d6cd"
  }
 ],
 "metadata": {
  "kernelspec": {
   "display_name": "Python 3",
   "language": "python",
   "name": "python3"
  },
  "language_info": {
   "codemirror_mode": {
    "name": "ipython",
    "version": 2
   },
   "file_extension": ".py",
   "mimetype": "text/x-python",
   "name": "python",
   "nbconvert_exporter": "python",
   "pygments_lexer": "ipython2",
   "version": "2.7.6"
  }
 },
 "nbformat": 4,
 "nbformat_minor": 5
}
