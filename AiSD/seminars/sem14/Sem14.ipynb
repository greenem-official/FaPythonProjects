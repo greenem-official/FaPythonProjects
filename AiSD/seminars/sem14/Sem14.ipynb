{
 "cells": [
  {
   "cell_type": "code",
   "execution_count": 1,
   "id": "initial_id",
   "metadata": {
    "collapsed": true,
    "ExecuteTime": {
     "end_time": "2024-03-05T22:03:37.871609Z",
     "start_time": "2024-03-05T22:03:37.859606400Z"
    }
   },
   "outputs": [
    {
     "name": "stdout",
     "output_type": "stream",
     "text": [
      "[1, 2, 3, 4, 5, 6, 7, 8, 9, 10]\n",
      "[10, 9, 8, 7, 6, 5, 4, 3, 2, 1]\n",
      "[26, 59, 84, 78, 30, 28, 10, 23, 54, 3]\n",
      "[1, 2, 5, 4, 3, 6, 7, 8, 9, 10]\n"
     ]
    }
   ],
   "source": [
    "# 10. Написать 4 функции порождения списка целых значений: отсортированного (по возрастанию и убыванию), случайного и почти отсортированного по возрастанию.\n",
    "# Каждая функция принимает длину списка в качестве аргумента.\n",
    "import random\n",
    "\n",
    "def ascending(amount):\n",
    "    return list(range(1, amount + 1))\n",
    "\n",
    "def descending(amount):\n",
    "    return list(range(amount, 0, -1))\n",
    "\n",
    "def random_list(amount):\n",
    "    return [random.randint(1, 100) for i in range(amount)]\n",
    "\n",
    "def almost_sorted(amount):\n",
    "    divideBy = 10\n",
    "    l = [i for i in range(1, amount + 1)]\n",
    "    for i in range(amount // divideBy):\n",
    "        index1 = random.randint(0, amount - 1)\n",
    "        index2 = random.randint(0, amount - 1)\n",
    "        l[index1], l[index2] = l[index2], l[index1]\n",
    "    return l\n",
    "\n",
    "amount = 10\n",
    "print(ascending(amount))\n",
    "print(descending(amount))\n",
    "print(random_list(amount))\n",
    "print(almost_sorted(amount))"
   ]
  },
  {
   "cell_type": "code",
   "execution_count": 2,
   "outputs": [
    {
     "name": "stdout",
     "output_type": "stream",
     "text": [
      "Длина списка: 10\n",
      "Минимальное количество сравнений: 45\n",
      "Среднее количество сравнений: 45\n",
      "Максимальное количество сравнений: 45\n",
      "Минимальное количество перестановок: 1\n",
      "Среднее количество перестановок: 7.6\n",
      "Максимальное количество перестановок: 17\n",
      "\n",
      "Длина списка: 20\n",
      "Минимальное количество сравнений: 190\n",
      "Среднее количество сравнений: 190\n",
      "Максимальное количество сравнений: 190\n",
      "Минимальное количество перестановок: 6\n",
      "Среднее количество перестановок: 25.9\n",
      "Максимальное количество перестановок: 48\n",
      "\n",
      "Длина списка: 50\n",
      "Минимальное количество сравнений: 1225\n",
      "Среднее количество сравнений: 1225\n",
      "Максимальное количество сравнений: 1225\n",
      "Минимальное количество перестановок: 57\n",
      "Среднее количество перестановок: 117.1\n",
      "Максимальное количество перестановок: 183\n"
     ]
    }
   ],
   "source": [
    "# 11. Реализовать функцию тестирования алгоритма сортировки.\n",
    "# Процедура принимает на вход алгоритм сортировки и алгоритм порождения списка f_gen(list_len), генерирующий список заданной длины, количество повтороений теста и список длин использующихся для тестирования. Для каждой длины списка функция тестирования возвращает минимальное, среднее и наибольшее количество сравнений и перестановок.\n",
    "import statistics # для функции среднего по списку\n",
    "\n",
    "def algorithm_testing(sorting, generator, repetitions, lengths_list):\n",
    "    results = []\n",
    "    \n",
    "    for length in lengths_list:\n",
    "        comparisons = []\n",
    "        swaps = []\n",
    "        \n",
    "        for _ in range(repetitions):\n",
    "            test_list = generator(length)\n",
    "            sorted_list, comparisons_amount, swaps_amount = sorting(test_list.copy())\n",
    "            comparisons.append(comparisons_amount)\n",
    "            swaps.append(swaps_amount)\n",
    "        \n",
    "        results.append({\n",
    "            'length': length,\n",
    "            'min_comparisons': min(comparisons),\n",
    "            'avg_comparisons': statistics.mean(comparisons),\n",
    "            'max_comparisons': max(comparisons),\n",
    "            'min_swaps': min(swaps),\n",
    "            'avg_swaps': statistics.mean(swaps),\n",
    "            'max_swaps': max(swaps)\n",
    "        })\n",
    "    \n",
    "    return results\n",
    "\n",
    "def bubble_sort(arr):\n",
    "    n = len(arr)\n",
    "    comparisons = 0\n",
    "    swaps = 0\n",
    "    for i in range(n):\n",
    "        for j in range(0, n-i-1):\n",
    "            comparisons += 1\n",
    "            if arr[j] > arr[j+1] :\n",
    "                arr[j], arr[j+1] = arr[j+1], arr[j]\n",
    "                swaps += 1\n",
    "    return arr, comparisons, swaps\n",
    "\n",
    "res = algorithm_testing(bubble_sort, almost_sorted, 10, [10, 20, 50])\n",
    "for result in res:\n",
    "    print(f\"Длина списка: {result['length']}\")\n",
    "    print(f\"Минимальное количество сравнений: {result['min_comparisons']}\")\n",
    "    print(f\"Среднее количество сравнений: {result['avg_comparisons']}\")\n",
    "    print(f\"Максимальное количество сравнений: {result['max_comparisons']}\")\n",
    "    print(f\"Минимальное количество перестановок: {result['min_swaps']}\")\n",
    "    print(f\"Среднее количество перестановок: {result['avg_swaps']}\")\n",
    "    print(f\"Максимальное количество перестановок: {result['max_swaps']}\\n\")"
   ],
   "metadata": {
    "collapsed": false,
    "ExecuteTime": {
     "end_time": "2024-03-05T21:45:54.685642400Z",
     "start_time": "2024-03-05T21:45:54.630646Z"
    }
   },
   "id": "803334fb34b4853b"
  },
  {
   "cell_type": "code",
   "execution_count": 8,
   "outputs": [
    {
     "name": "stdout",
     "output_type": "stream",
     "text": [
      "{'result': [1, 2, 3, 4, 5, 6, 7, 8, 9, 10, 11, 12, 13, 14, 15, 16, 17, 18, 19, 20], 'comparisons': 190, 'swaps': 30}\n"
     ]
    }
   ],
   "source": [
    "# 12. Реализовать модификацию сортировки пузырьком: \"камешек-пузырек\" - с чередующимися проходами, приводящими к \"всплытию\" самого большого значения списка и \"погружению\" самого маленького значения из неотсортированной части списка.\n",
    "\n",
    "def stone_bubble_sorting(arr):\n",
    "    n = len(arr)\n",
    "    comparisons = 0\n",
    "    swaps = 0\n",
    "\n",
    "    start = 0\n",
    "    end = n-1\n",
    "    while start < end:\n",
    "        for i in range(start, end):\n",
    "            comparisons += 1\n",
    "            if arr[i] > arr[i+1]:\n",
    "                arr[i], arr[i+1] = arr[i+1], arr[i]\n",
    "                swaps += 1\n",
    "        end -= 1\n",
    "\n",
    "        for i in range(end, start, -1):\n",
    "            comparisons += 1\n",
    "            if arr[i] < arr[i-1]:\n",
    "                arr[i], arr[i-1] = arr[i-1], arr[i]\n",
    "                swaps += 1\n",
    "        start += 1\n",
    "\n",
    "    return {\n",
    "        'result': arr,\n",
    "        'comparisons': comparisons,\n",
    "        'swaps': swaps\n",
    "    }\n",
    "\n",
    "print(stone_bubble_sorting(almost_sorted(20)))"
   ],
   "metadata": {
    "collapsed": false,
    "ExecuteTime": {
     "end_time": "2024-03-05T21:52:55.546143400Z",
     "start_time": "2024-03-05T21:52:55.536143500Z"
    }
   },
   "id": "1ab631ce6578f8ba"
  },
  {
   "cell_type": "code",
   "execution_count": 12,
   "outputs": [
    {
     "name": "stdout",
     "output_type": "stream",
     "text": [
      "{'result': [1, 2, 3, 4, 5, 6, 7, 8, 9, 10, 11, 12, 13, 14, 15, 16, 17, 18, 19, 20], 'comparisons': 190, 'swaps': 0}\n",
      "{'result': [1, 2, 3, 4, 5, 6, 7, 8, 9, 10, 11, 12, 13, 14, 15, 16, 17, 18, 19, 20], 'comparisons': 190, 'swaps': 190}\n",
      "{'result': [6, 19, 30, 31, 33, 35, 39, 41, 42, 44, 46, 51, 51, 51, 55, 75, 76, 99, 100, 100], 'comparisons': 190, 'swaps': 104}\n",
      "{'result': [1, 2, 3, 4, 5, 6, 7, 8, 9, 10, 11, 12, 13, 14, 15, 16, 17, 18, 19, 20], 'comparisons': 190, 'swaps': 28}\n"
     ]
    }
   ],
   "source": [
    "# 14. Протестировать алгоритм \"пузырек\" и \"камешек-пузырек\" на разных типах списков.\n",
    "amount = 20\n",
    "print(stone_bubble_sorting(ascending(amount)))\n",
    "print(stone_bubble_sorting(descending(amount)))\n",
    "print(stone_bubble_sorting(random_list(amount)))\n",
    "print(stone_bubble_sorting(almost_sorted(amount)))"
   ],
   "metadata": {
    "collapsed": false,
    "ExecuteTime": {
     "end_time": "2024-03-05T21:53:44.681063Z",
     "start_time": "2024-03-05T21:53:44.658062900Z"
    }
   },
   "id": "56ba8e1d0917b369"
  },
  {
   "cell_type": "code",
   "execution_count": null,
   "outputs": [],
   "source": [
    "# 15. Реализовать модификацию сортировки выбором на основе выбора из подсписков (описанного в лекции). Протестировать алгоритм.\n",
    "\n"
   ],
   "metadata": {
    "collapsed": false
   },
   "id": "f8506f644bb8d237"
  },
  {
   "cell_type": "code",
   "execution_count": 12,
   "outputs": [
    {
     "name": "stdout",
     "output_type": "stream",
     "text": [
      "{'result': [2, 3, 4, 5, 13, 14, 15, 24, 24, 27, 27, 29, 30, 50, 63, 65, 79, 96, 98, 100], 'comparisons': 77, 'swaps': 77}\n",
      "{'result': [1, 2, 3, 4, 5, 6, 7, 8, 9, 10, 11, 12, 13, 14, 15, 16, 17, 18, 19, 20], 'comparisons': 55, 'swaps': 55}\n"
     ]
    }
   ],
   "source": [
    "# 16. Реализовать быструю сортировку с возможностью подсчета операций. Сравнить производительность алгоритма на случайных и упорядоченных (и почти упорядоченных) данных.\n",
    "\n",
    "def quick_sort_algorythm(arr):\n",
    "    if len(arr) <= 1:\n",
    "        return {\n",
    "            'result': arr,\n",
    "            'comparisons': 0,\n",
    "            'swaps': 0\n",
    "        }\n",
    "    \n",
    "    comparisons = 0\n",
    "    swaps = 0\n",
    "    \n",
    "    # Опорный элемент\n",
    "    pivot = arr[len(arr)//2]\n",
    "    # Значения до него\n",
    "    left = [x for x in arr if x < pivot]\n",
    "    # Значение на нём\n",
    "    middle = [x for x in arr if x == pivot]\n",
    "    # Значения после него\n",
    "    right = [x for x in arr if x > pivot]\n",
    "    \n",
    "    # Рекурсивная сортировка части до опорного элемента\n",
    "    qsL = quick_sort_algorythm(left)\n",
    "    result, left_comparisons, left_swaps = qsL['result'], qsL['comparisons'], qsL['swaps']\n",
    "    # Опорный элемент\n",
    "    result += middle\n",
    "    # Рекурсивная сортировка части после опорного элемента\n",
    "    qsR = quick_sort_algorythm(right)\n",
    "    right_sorted, right_comparisons, right_swaps = qsR['result'], qsR['comparisons'], qsR['swaps']\n",
    "    result += right_sorted\n",
    "    \n",
    "    comparisons = left_comparisons + right_comparisons + len(arr) - 1\n",
    "    swaps = left_swaps + right_swaps + len(arr) - 1\n",
    "    \n",
    "    return {\n",
    "        'result': result,\n",
    "        'comparisons': comparisons,\n",
    "        'swaps': swaps\n",
    "    }\n",
    "\n",
    "amount = 20\n",
    "print(quick_sort_algorythm(random_list(amount)))\n",
    "print(quick_sort_algorythm(almost_sorted(amount)))"
   ],
   "metadata": {
    "collapsed": false,
    "ExecuteTime": {
     "end_time": "2024-03-05T22:08:14.386094300Z",
     "start_time": "2024-03-05T22:08:14.378094500Z"
    }
   },
   "id": "81ffa792212e8a"
  },
  {
   "cell_type": "code",
   "execution_count": null,
   "outputs": [],
   "source": [
    "# 17. Улучшить работу быстрой сортировки на упорядоченных и почти упорядоченных за счет изменения алгоритма выбора элемента для разделения массива.\n",
    "\n",
    "import random\n",
    "\n",
    "def better_quick_sort(arr):\n",
    "    if len(arr) <= 1:\n",
    "        return {\n",
    "            'result': arr,\n",
    "            'comparisons': 0,\n",
    "            'swaps': 0\n",
    "        }\n",
    "    \n",
    "    comparisons = 0\n",
    "    swaps = 0\n",
    "    \n",
    "    # Опорный элемент\n",
    "    pivot = random.choice(arr)\n",
    "    # Значения до него\n",
    "    left = [x for x in arr if x < pivot]\n",
    "    # Значение на нём\n",
    "    middle = [x for x in arr if x == pivot]\n",
    "    # Значения после него\n",
    "    right = [x for x in arr if x > pivot]\n",
    "    \n",
    "    # Рекурсивная сортировка части до опорного элемента\n",
    "    qsL = quick_sort_algorythm(left)\n",
    "    result, left_comparisons, left_swaps = qsL['result'], qsL['comparisons'], qsL['swaps']\n",
    "    # Опорный элемент\n",
    "    result += middle\n",
    "    # Рекурсивная сортировка части после опорного элемента\n",
    "    qsR = quick_sort_algorythm(right)\n",
    "    right_sorted, right_comparisons, right_swaps = qsR['result'], qsR['comparisons'], qsR['swaps']\n",
    "    result += right_sorted\n",
    "    \n",
    "    comparisons = left_comparisons + right_comparisons + len(arr) - 1\n",
    "    swaps = left_swaps + right_swaps + len(arr) - 1\n",
    "    \n",
    "    return {\n",
    "        'result': result,\n",
    "        'comparisons': comparisons,\n",
    "        'swaps': swaps\n",
    "    }\n",
    "\n",
    "amount = 20\n",
    "print(better_quick_sort(random_list(amount)))\n",
    "print(better_quick_sort(almost_sorted(amount)))"
   ],
   "metadata": {
    "collapsed": false
   },
   "id": "a0a5c7190f3b061c"
  },
  {
   "cell_type": "code",
   "execution_count": null,
   "outputs": [],
   "source": [
    "# 18. Реализовать эффективный алгоритм получения из большого количества отсортированных списков одного отсортированного списка.\n",
    "\n"
   ],
   "metadata": {
    "collapsed": false
   },
   "id": "6ef50eecfa288c4c"
  },
  {
   "cell_type": "code",
   "execution_count": null,
   "outputs": [],
   "source": [
    "# 19. Модифицировать последовательность длин шагов в сортировке Шелла. 19) Модифицировать последовательность длин шагов в сортировке Шелла.\n",
    "# На 2[𝑛/2𝑘+1]+1\n",
    "# т.е. при первой сортировке будут использоваться шаги: 2[n/4]+1, 2[n/8]+1, ... , 3, 1 .\n",
    "\n"
   ],
   "metadata": {
    "collapsed": false
   },
   "id": "b567b8f86be6dcb"
  }
 ],
 "metadata": {
  "kernelspec": {
   "display_name": "Python 3",
   "language": "python",
   "name": "python3"
  },
  "language_info": {
   "codemirror_mode": {
    "name": "ipython",
    "version": 2
   },
   "file_extension": ".py",
   "mimetype": "text/x-python",
   "name": "python",
   "nbconvert_exporter": "python",
   "pygments_lexer": "ipython2",
   "version": "2.7.6"
  }
 },
 "nbformat": 4,
 "nbformat_minor": 5
}
