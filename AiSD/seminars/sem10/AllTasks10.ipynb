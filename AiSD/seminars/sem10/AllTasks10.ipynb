{
 "cells": [
  {
   "cell_type": "code",
   "execution_count": 1,
   "outputs": [
    {
     "name": "stdout",
     "output_type": "stream",
     "text": [
      "0\n",
      "1\n",
      "2\n",
      "3\n",
      "4\n"
     ]
    }
   ],
   "source": [
    "# 6.1.1\n",
    "a = [0, 1, 2, 3, 4]\n",
    "\n",
    "it = iter(a)\n",
    "try:\n",
    "    while True:\n",
    "        print(next(it))\n",
    "except StopIteration:\n",
    "    pass"
   ],
   "metadata": {
    "collapsed": false,
    "ExecuteTime": {
     "end_time": "2023-12-07T19:49:44.296399Z",
     "start_time": "2023-12-07T19:49:44.285399Z"
    }
   },
   "id": "e3aae7cf220e2485"
  },
  {
   "cell_type": "code",
   "execution_count": 7,
   "id": "initial_id",
   "metadata": {
    "collapsed": true,
    "ExecuteTime": {
     "end_time": "2023-12-07T20:11:39.989509700Z",
     "start_time": "2023-12-07T20:11:39.982509300Z"
    }
   },
   "outputs": [],
   "source": [
    "# 6.1.2\n",
    "import math\n",
    "\n",
    "def cathetus_2(hypotenuse, cathetus_1):\n",
    "    try:\n",
    "        cath_2 = math.sqrt(hypotenuse*hypotenuse - cathetus_1*cathetus_1)\n",
    "        if cath_2 == 0:\n",
    "            raise ValueError()\n",
    "        return cath_2\n",
    "    except ValueError:\n",
    "        print('Такой случай не существует!')"
   ]
  },
  {
   "cell_type": "code",
   "execution_count": 8,
   "outputs": [
    {
     "name": "stdout",
     "output_type": "stream",
     "text": [
      "Второй катет: 3.0\n"
     ]
    }
   ],
   "source": [
    "# 6.1.3\n",
    "while True:\n",
    "    try:\n",
    "        g = int(input(\"Введите длину гипотенузы: \"))\n",
    "        k1 = int(input(\"Введите длину первого катета: \"))\n",
    "    except ValueError:\n",
    "        print('Ввод должен быть числами!')\n",
    "        continue\n",
    "    k2 = cathetus_2(g, k1)\n",
    "    if not k2:\n",
    "        continue\n",
    "    print('Второй катет:', k2)\n",
    "    break"
   ],
   "metadata": {
    "collapsed": false,
    "ExecuteTime": {
     "end_time": "2023-12-07T20:11:42.854335300Z",
     "start_time": "2023-12-07T20:11:41.738507600Z"
    }
   },
   "id": "c5e4ca5ecdbaa546"
  },
  {
   "cell_type": "code",
   "execution_count": 13,
   "outputs": [
    {
     "name": "stdout",
     "output_type": "stream",
     "text": [
      "Just a file\n"
     ]
    }
   ],
   "source": [
    "# 6.1.4\n",
    "while True:\n",
    "    try:\n",
    "        f = open(input(\"Введите имя файла: \"), \"r\")\n",
    "    except FileNotFoundError:\n",
    "        print('Файл не найден!')\n",
    "        continue\n",
    "    print(f.readline())\n",
    "    break"
   ],
   "metadata": {
    "collapsed": false,
    "ExecuteTime": {
     "end_time": "2023-12-07T20:14:36.169990500Z",
     "start_time": "2023-12-07T20:14:35.365676300Z"
    }
   },
   "id": "8a15692dbc36ab10"
  },
  {
   "cell_type": "code",
   "execution_count": 20,
   "outputs": [],
   "source": [
    "# 6.2.1\n",
    "f = open(input(\"Введите имя нового файла: \"), \"w\")\n",
    "s = ' '\n",
    "while s != '':\n",
    "    s = input('Введите новую строку: ')\n",
    "    f.write(s + '\\n')\n",
    "    f.flush()\n",
    "f.close()"
   ],
   "metadata": {
    "collapsed": false,
    "ExecuteTime": {
     "end_time": "2023-12-07T20:18:38.123566500Z",
     "start_time": "2023-12-07T20:18:35.986143500Z"
    }
   },
   "id": "c0c56fb31c1dfac8"
  },
  {
   "cell_type": "code",
   "execution_count": 22,
   "outputs": [
    {
     "name": "stdout",
     "output_type": "stream",
     "text": [
      "Just a file\n",
      "line 2"
     ]
    }
   ],
   "source": [
    "# 6.2.2\n",
    "while True:\n",
    "    try:\n",
    "        f = open(input(\"Введите имя файла: \"), \"r\")\n",
    "    except FileNotFoundError:\n",
    "        print('Файл не найден!')\n",
    "        continue\n",
    "    for line in f.readlines():\n",
    "        print(line, end='')\n",
    "    break"
   ],
   "metadata": {
    "collapsed": false,
    "ExecuteTime": {
     "end_time": "2023-12-07T20:20:30.384466200Z",
     "start_time": "2023-12-07T20:20:26.965668900Z"
    }
   },
   "id": "df36b8fe9e6bd956"
  },
  {
   "cell_type": "code",
   "execution_count": 5,
   "outputs": [
    {
     "name": "stdout",
     "output_type": "stream",
     "text": [
      "{'aaa': 4, 'bb': 1, 'bbb': 0, 'aaaa': 0, 'fff': 1, 'aa': 1, 'ff': 0, 'ssss': 0, 'rrrr': 0, 'ddddd': 0}\n"
     ]
    }
   ],
   "source": [
    "# 6.2.3\n",
    "\n",
    "def getStats(fileName, d={}):\n",
    "    try:\n",
    "        f = open(fileName, \"r\")\n",
    "        for line in f.readlines():\n",
    "            for word in line.split():\n",
    "                if word in d.keys():\n",
    "                    d[word] += 1\n",
    "                else:\n",
    "                    d[word] = 0\n",
    "        f.close()\n",
    "        return d\n",
    "    except FileNotFoundError:\n",
    "        print('Файл \"' + fileName + '\" не найден!')\n",
    "        return d\n",
    "\n",
    "print(getStats('revisor.txt'))"
   ],
   "metadata": {
    "collapsed": false,
    "ExecuteTime": {
     "end_time": "2023-12-07T20:52:38.663410900Z",
     "start_time": "2023-12-07T20:52:38.646411400Z"
    }
   },
   "id": "7a8ae54c5e240293"
  },
  {
   "cell_type": "code",
   "execution_count": 6,
   "outputs": [],
   "source": [
    "# 6.2.4\n",
    "import pickle\n",
    "\n",
    "def saveStats(originalFileName, saveFileName):\n",
    "    f = open(saveFileName, \"wb\")\n",
    "    pickle.dump(getStats(originalFileName), f)\n",
    "    f.close()\n",
    "\n",
    "saveStats('revisor.txt', 'revisorStats.pickle')"
   ],
   "metadata": {
    "collapsed": false,
    "ExecuteTime": {
     "end_time": "2023-12-07T20:52:41.788684700Z",
     "start_time": "2023-12-07T20:52:41.768137700Z"
    }
   },
   "id": "13522640e39a71a0"
  },
  {
   "cell_type": "code",
   "execution_count": 26,
   "outputs": [
    {
     "name": "stdout",
     "output_type": "stream",
     "text": [
      "('aaa', 447) ('aa', 289) ('bb', 231) ('ff', 189) ('sss', 148) ('fff', 140) ('bbb', 97) ('aaaa', 68) ('ssss', 68) ('rrrr', 68) ('ddddd', 68) ('ee', 57) ('gg', 56) ('ddd', 55) ('ss', 54) ('ggg', 26) ('rrr', 26) ('dddd', 26) ('hhhh', 25)\n"
     ]
    }
   ],
   "source": [
    "# 6.2.5\n",
    "def getStatsFromSave(fileName, d={}):\n",
    "    try:\n",
    "        f = open(fileName, \"rb\")\n",
    "        data = pickle.loads(f.read())\n",
    "        for k, v in data.items():\n",
    "            if k in d.keys():\n",
    "                d[k] += v\n",
    "            else:\n",
    "                d[k] = v\n",
    "        f.close()\n",
    "        return d\n",
    "    except FileNotFoundError:\n",
    "        print('Файл \"' + fileName + '\" не найден!')\n",
    "        return d\n",
    "\n",
    "saveStats('revisor.txt', 'revisorStats.pickle')\n",
    "saveStats('mertvye1.txt', 'mertvye1Stats.pickle')\n",
    "saveStats('youngdoc.txt', 'youngdocStats.pickle')\n",
    "saveStats('dogheart.txt', 'dogheartStats.pickle')\n",
    "\n",
    "d = getStatsFromSave('revisorStats.pickle')\n",
    "d = getStatsFromSave('mertvye1Stats.pickle', d)\n",
    "d = getStatsFromSave('youngdocStats.pickle', d)\n",
    "d = getStatsFromSave('dogheartStats.pickle', d)\n",
    "\n",
    "d = sorted(d.items(), key=lambda x:x[1], reverse=True)\n",
    "\n",
    "print(*d)"
   ],
   "metadata": {
    "collapsed": false,
    "ExecuteTime": {
     "end_time": "2023-12-07T21:18:00.861695400Z",
     "start_time": "2023-12-07T21:18:00.835697100Z"
    }
   },
   "id": "dfb8c3aadac64f3f"
  },
  {
   "cell_type": "code",
   "execution_count": 21,
   "outputs": [
    {
     "name": "stdout",
     "output_type": "stream",
     "text": [
      "['п»їLast Name;First Name;University;Education;School or university (student);City;Country']\n"
     ]
    }
   ],
   "source": [
    "# 6.2.6\n",
    "import csv\n",
    "\n",
    "with open('participants.csv', 'r') as file:\n",
    "    csvreader = csv.reader(file)\n",
    "    for row in csvreader:\n",
    "        print(row)\n",
    "        break"
   ],
   "metadata": {
    "collapsed": false,
    "ExecuteTime": {
     "end_time": "2023-12-07T21:14:41.069506300Z",
     "start_time": "2023-12-07T21:14:41.054504800Z"
    }
   },
   "id": "62c724e628cee82e"
  },
  {
   "cell_type": "code",
   "execution_count": null,
   "outputs": [],
   "source": [
    "# 6.2.7 (NOT DONE)\n",
    "import csv\n",
    "\n",
    "def find_by_name(fileName, *args):\n",
    "    with open('participants.csv', 'r') as file:\n",
    "        csvreader = csv.reader(file)\n",
    "        a = None\n",
    "        for row in csvreader:\n",
    "            if not a:\n",
    "                a = []\n",
    "                continue\n",
    "            a.append(row)\n",
    "    return a\n",
    "\n"
   ],
   "metadata": {
    "collapsed": false
   },
   "id": "95a95bc4032a7cbc"
  }
 ],
 "metadata": {
  "kernelspec": {
   "display_name": "Python 3",
   "language": "python",
   "name": "python3"
  },
  "language_info": {
   "codemirror_mode": {
    "name": "ipython",
    "version": 2
   },
   "file_extension": ".py",
   "mimetype": "text/x-python",
   "name": "python",
   "nbconvert_exporter": "python",
   "pygments_lexer": "ipython2",
   "version": "2.7.6"
  }
 },
 "nbformat": 4,
 "nbformat_minor": 5
}
