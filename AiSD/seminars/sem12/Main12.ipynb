{
 "cells": [
  {
   "cell_type": "code",
   "execution_count": 16,
   "id": "initial_id",
   "metadata": {
    "collapsed": true,
    "ExecuteTime": {
     "end_time": "2024-02-06T17:39:32.130400Z",
     "start_time": "2024-02-06T17:39:32.124789500Z"
    }
   },
   "outputs": [
    {
     "name": "stdout",
     "output_type": "stream",
     "text": [
      "Некорректно\n"
     ]
    }
   ],
   "source": [
    "# 1) При помощи стека (можно использовать любую реализацию стека, например, из лекции) проверить, что в строке, содержащей большой фрагмент кода на python, корректно открываются и закрываются скобки '(' и ')'. Заводить какие-либо счетчики и вообще вести подсчет скобок запрещено.\n",
    "\n",
    "s = '(f(gfhd((hgfdg((fghh)dads)das))ds)adddads())))'\n",
    "stack = list()\n",
    "\n",
    "nearest1 = 0\n",
    "nearest2 = 0\n",
    "lastPos = 0\n",
    "otherIssue = False\n",
    "while nearest1 != -1 or nearest2 != -1:\n",
    "    nearest1 = s[lastPos:].find('(')\n",
    "    nearest2 = s[lastPos:].find(')')\n",
    "    # print(lastPos, nearest1, nearest2)\n",
    "    \n",
    "    if nearest1 < nearest2 and nearest1 != -1 or nearest1 != -1 and nearest2 == -1:\n",
    "        stack.append('')\n",
    "        lastPos += nearest1 + 1\n",
    "    elif nearest2 < nearest1 and nearest2 != -1 or nearest2 != -1 and nearest1 == -1:\n",
    "        if len(stack) == 0:\n",
    "            otherIssue = True\n",
    "            break\n",
    "        stack.pop()\n",
    "        lastPos += nearest2 + 1\n",
    "if len(stack) == 0 and not otherIssue:\n",
    "    print('Корректно')\n",
    "else:\n",
    "    print('Некорректно')"
   ]
  },
  {
   "cell_type": "code",
   "execution_count": 1,
   "outputs": [
    {
     "name": "stdout",
     "output_type": "stream",
     "text": [
      "1\n",
      "False\n",
      "a\n",
      "a\n",
      "[]\n"
     ]
    }
   ],
   "source": [
    "# С помощью списка (list) реализовать стек. При создании стека нужно передать максимальную длину стека. В случае попытки добавления элемента, приводящего к превышению емкости стека возвращать ошибку.\n",
    "\n",
    "from StackImpl import Stack\n",
    "\n",
    "stack = Stack(5)\n",
    "stack.push('a')\n",
    "print(len(stack))\n",
    "print(stack.is_empty())\n",
    "print(stack.top())\n",
    "print(stack.pop())\n",
    "print(stack)"
   ],
   "metadata": {
    "collapsed": false,
    "ExecuteTime": {
     "end_time": "2024-02-06T17:55:35.696899200Z",
     "start_time": "2024-02-06T17:55:35.686158Z"
    }
   },
   "id": "bba44652630105c7"
  },
  {
   "cell_type": "code",
   "execution_count": 1,
   "outputs": [
    {
     "name": "stdout",
     "output_type": "stream",
     "text": [
      "(2, <LinkedListImpl.LinkedListNode object at 0x0000020CD4FC58D0>)\n",
      "2\n",
      "(1, <LinkedListImpl.LinkedListNode object at 0x0000020CD4FC58D0>)\n"
     ]
    }
   ],
   "source": [
    "from LinkedListImpl import LinkedList\n",
    "\n",
    "l = LinkedList()\n",
    "l.add('c')\n",
    "l.add('b')\n",
    "l.add('a')\n",
    "l.add('a')\n",
    "print(l.find('a'))\n",
    "print(l.count('a'))\n",
    "l.remove('b')\n",
    "print(l.find('a'))"
   ],
   "metadata": {
    "collapsed": false,
    "ExecuteTime": {
     "end_time": "2024-02-06T21:21:06.059784600Z",
     "start_time": "2024-02-06T21:21:06.039785Z"
    }
   },
   "id": "40408cd078f8c77f"
  },
  {
   "cell_type": "markdown",
   "source": [],
   "metadata": {
    "collapsed": false
   },
   "id": "b9401077e5aff2e"
  }
 ],
 "metadata": {
  "kernelspec": {
   "display_name": "Python 3",
   "language": "python",
   "name": "python3"
  },
  "language_info": {
   "codemirror_mode": {
    "name": "ipython",
    "version": 2
   },
   "file_extension": ".py",
   "mimetype": "text/x-python",
   "name": "python",
   "nbconvert_exporter": "python",
   "pygments_lexer": "ipython2",
   "version": "2.7.6"
  }
 },
 "nbformat": 4,
 "nbformat_minor": 5
}
