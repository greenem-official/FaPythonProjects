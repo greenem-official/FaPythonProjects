{
 "cells": [
  {
   "cell_type": "code",
   "execution_count": 1,
   "id": "initial_id",
   "metadata": {
    "collapsed": true,
    "ExecuteTime": {
     "end_time": "2024-02-25T18:53:55.384390500Z",
     "start_time": "2024-02-25T18:53:55.344391400Z"
    }
   },
   "outputs": [
    {
     "name": "stdout",
     "output_type": "stream",
     "text": [
      "Некорректно\n"
     ]
    }
   ],
   "source": [
    "# 1) При помощи стека (можно использовать любую реализацию стека, например, из лекции) проверить, что в строке, содержащей большой фрагмент кода на python, корректно открываются и закрываются скобки '(' и ')'. Заводить какие-либо счетчики и вообще вести подсчет скобок запрещено.\n",
    "\n",
    "s = '(f(gfhd((hgfdg((fghh)dads)das))ds)adddads())))'\n",
    "stack = list()\n",
    "\n",
    "nearest1 = 0\n",
    "nearest2 = 0\n",
    "lastPos = 0\n",
    "otherIssue = False\n",
    "while nearest1 != -1 or nearest2 != -1:\n",
    "    nearest1 = s[lastPos:].find('(')\n",
    "    nearest2 = s[lastPos:].find(')')\n",
    "    # print(lastPos, nearest1, nearest2)\n",
    "    \n",
    "    if nearest1 < nearest2 and nearest1 != -1 or nearest1 != -1 and nearest2 == -1:\n",
    "        stack.append('')\n",
    "        lastPos += nearest1 + 1\n",
    "    elif nearest2 < nearest1 and nearest2 != -1 or nearest2 != -1 and nearest1 == -1:\n",
    "        if len(stack) == 0:\n",
    "            otherIssue = True\n",
    "            break\n",
    "        stack.pop()\n",
    "        lastPos += nearest2 + 1\n",
    "if len(stack) == 0 and not otherIssue:\n",
    "    print('Корректно')\n",
    "else:\n",
    "    print('Некорректно')"
   ]
  },
  {
   "cell_type": "code",
   "execution_count": 2,
   "id": "bba44652630105c7",
   "metadata": {
    "ExecuteTime": {
     "end_time": "2024-02-25T18:53:55.387390600Z",
     "start_time": "2024-02-25T18:53:55.357392500Z"
    }
   },
   "outputs": [
    {
     "name": "stdout",
     "output_type": "stream",
     "text": [
      "1\n",
      "False\n",
      "a\n",
      "a\n",
      "[]\n"
     ]
    }
   ],
   "source": [
    "# С помощью списка (list) реализовать стек. При создании стека нужно передать максимальную длину стека. В случае попытки добавления элемента, приводящего к превышению емкости стека возвращать ошибку.\n",
    "\n",
    "from StackImpl import Stack\n",
    "\n",
    "stack = Stack(5)\n",
    "stack.push('a')\n",
    "print(len(stack))\n",
    "print(stack.is_empty())\n",
    "print(stack.top())\n",
    "print(stack.pop())\n",
    "print(stack)"
   ]
  },
  {
   "cell_type": "code",
   "execution_count": 3,
   "id": "40408cd078f8c77f",
   "metadata": {
    "ExecuteTime": {
     "end_time": "2024-02-25T18:53:55.388391200Z",
     "start_time": "2024-02-25T18:53:55.370392100Z"
    }
   },
   "outputs": [
    {
     "name": "stdout",
     "output_type": "stream",
     "text": [
      "c b a a\n",
      "(2, <LinkedListImpl.LinkedListNode object at 0x000001505D27A410>)\n",
      "2\n",
      "(1, <LinkedListImpl.LinkedListNode object at 0x000001505D27A410>)\n"
     ]
    }
   ],
   "source": [
    "# 3) Реализовать класс однонаправленного связанного списка.  \n",
    "# 3.1) Реализовать метод добавления элемента в начало списка.  \n",
    "\n",
    "\n",
    "from LinkedListImpl import LinkedList\n",
    "\n",
    "l = LinkedList()\n",
    "l.add('c')\n",
    "l.add('b')\n",
    "l.add('a')\n",
    "l.add('a')\n",
    "print(l)\n",
    "print(l.find('a'))\n",
    "print(l.count('a'))\n",
    "l.remove('b')\n",
    "print(l.find('a'))"
   ]
  },
  {
   "cell_type": "code",
   "execution_count": 4,
   "id": "025a2384",
   "metadata": {
    "ExecuteTime": {
     "end_time": "2024-02-25T18:53:55.400430900Z",
     "start_time": "2024-02-25T18:53:55.388391200Z"
    }
   },
   "outputs": [
    {
     "name": "stdout",
     "output_type": "stream",
     "text": [
      "b a\n",
      "First b\n",
      "Last a\n",
      "get(0) b\n",
      "popFirst b\n",
      "First a\n",
      "popLast a\n",
      "Last None\n"
     ]
    }
   ],
   "source": [
    "# 4) На базе класса однонаправленного связанного списка реализовать двунаправленный связанный список.  \n",
    "# 4.1) Реализовать метод добавления элемента в начало списка.\n",
    "\n",
    "from DoublyLinkedListImpl import DoublyLinkedList\n",
    "\n",
    "l = DoublyLinkedList()\n",
    "l.addToEnd('a')\n",
    "l.addToBeginning('b')\n",
    "print(l)\n",
    "print('First', l.getFirst())\n",
    "print('Last', l.getLast())\n",
    "print('get(0)', l.get(0))\n",
    "print('popFirst', l.popFirst())\n",
    "print('First', l.getFirst())\n",
    "print('popLast', l.popLast())\n",
    "print('Last', l.getLast())"
   ]
  },
  {
   "cell_type": "code",
   "execution_count": 5,
   "id": "afcefeed",
   "metadata": {
    "ExecuteTime": {
     "end_time": "2024-02-25T18:53:55.444431300Z",
     "start_time": "2024-02-25T18:53:55.402431700Z"
    }
   },
   "outputs": [
    {
     "name": "stdout",
     "output_type": "stream",
     "text": [
      "a b c\n",
      "c\n",
      "c\n",
      "b\n"
     ]
    }
   ],
   "source": [
    "# 5) При помощи класса связанного списка реализовать очередь.\n",
    "from LinkedQueueImpl import LinkedQueue\n",
    "\n",
    "l = LinkedQueue()\n",
    "l.append('a')\n",
    "l.append('b')\n",
    "l.append('c')\n",
    "print(l)\n",
    "print(l.get())\n",
    "print(l.pop())\n",
    "print(l.get())"
   ]
  },
  {
   "cell_type": "markdown",
   "id": "b9401077e5aff2e",
   "metadata": {},
   "source": []
  }
 ],
 "metadata": {
  "kernelspec": {
   "display_name": "Python 3 (ipykernel)",
   "language": "python",
   "name": "python3"
  },
  "language_info": {
   "codemirror_mode": {
    "name": "ipython",
    "version": 3
   },
   "file_extension": ".py",
   "mimetype": "text/x-python",
   "name": "python",
   "nbconvert_exporter": "python",
   "pygments_lexer": "ipython3",
   "version": "3.10.9"
  }
 },
 "nbformat": 4,
 "nbformat_minor": 5
}
