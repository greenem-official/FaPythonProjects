{
 "cells": [
  {
   "cell_type": "code",
   "execution_count": 1,
   "id": "a6f73873",
   "metadata": {
    "ExecuteTime": {
     "end_time": "2023-11-16T21:53:46.313669700Z",
     "start_time": "2023-11-16T21:53:46.293670100Z"
    }
   },
   "outputs": [
    {
     "name": "stdout",
     "output_type": "stream",
     "text": [
      "[1, 3, 3, 2, 1, 3]\n"
     ]
    }
   ],
   "source": [
    "#1\n",
    "l1 = ['1', '123', '123', '12', '1', '123']\n",
    "\n",
    "print([len(a) for a in l1])"
   ]
  },
  {
   "cell_type": "code",
   "execution_count": 12,
   "id": "759d8d45",
   "metadata": {},
   "outputs": [
    {
     "name": "stdout",
     "output_type": "stream",
     "text": [
      "3\n"
     ]
    }
   ],
   "source": [
    "#2\n",
    "l1 = ['1', '123', '123', '12', '1', '123']\n",
    "\n",
    "print(sum(1 for a in l1 if len(a) > 2))"
   ]
  },
  {
   "cell_type": "code",
   "execution_count": 13,
   "id": "1bd3e2a4",
   "metadata": {},
   "outputs": [
    {
     "name": "stdout",
     "output_type": "stream",
     "text": [
      "[2, 8, -6, -12, 0, 66, 21, -8]\n"
     ]
    }
   ],
   "source": [
    "#3\n",
    "l2 = [2, 4, -2, -3, 0 , 11 , 3, -1]\n",
    "\n",
    "print([a * (b + 1) for a, b in zip(l2, range(len(l2)))])"
   ]
  },
  {
   "cell_type": "code",
   "execution_count": 14,
   "id": "4cd69cad",
   "metadata": {},
   "outputs": [
    {
     "name": "stdout",
     "output_type": "stream",
     "text": [
      "[2, 4, 0, 11, 3]\n"
     ]
    }
   ],
   "source": [
    "#4\n",
    "l2 = [2, 4, -2, -3, 0 , 11 , 3, -1]\n",
    "\n",
    "print([a for a in l2 if a >= 0])"
   ]
  },
  {
   "cell_type": "code",
   "execution_count": 16,
   "id": "3e06af47",
   "metadata": {},
   "outputs": [
    {
     "name": "stdout",
     "output_type": "stream",
     "text": [
      "[2, 4, 3, 4, 0, 11, 3, 8]\n"
     ]
    }
   ],
   "source": [
    "#5\n",
    "l2 = [2, 4, -2, -3, 0 , 11 , 3, -1]\n",
    "\n",
    "print([a if a >= 0 else (b + 1) for a, b in zip(l2, range(len(l2)))])"
   ]
  },
  {
   "cell_type": "code",
   "execution_count": 1,
   "id": "9addfbc8",
   "metadata": {},
   "outputs": [
    {
     "name": "stdout",
     "output_type": "stream",
     "text": [
      "{'q': 1, 'w': 2, 'e': 3, 'r': 4, 't': 5, 'y': 6}\n"
     ]
    }
   ],
   "source": [
    "#6\n",
    "s = input()\n",
    "\n",
    "print({a: (b + 1) for a, b in zip(s, range(len(s)))})"
   ]
  },
  {
   "cell_type": "code",
   "execution_count": 2,
   "id": "8b2b8eca",
   "metadata": {},
   "outputs": [
    {
     "name": "stdout",
     "output_type": "stream",
     "text": [
      "2\n"
     ]
    }
   ],
   "source": [
    "#7\n",
    "l1 = ['1', '123', '123', '12', '1', '123']\n",
    "d1 = {'1': 10, '2': 20, '3': 30, '4': 40, '5': 50, '6': 60}\n",
    "\n",
    "print(sum(1 for a in l1 if a in d1.keys()))"
   ]
  },
  {
   "cell_type": "code",
   "execution_count": 6,
   "id": "2ed49421",
   "metadata": {},
   "outputs": [
    {
     "name": "stdout",
     "output_type": "stream",
     "text": [
      "{'e': 3, 'v': 1, 'g': 1, 'n': 1, '_': 1, 'o': 1}\n"
     ]
    }
   ],
   "source": [
    "#8\n",
    "s = 'evgene_o'\n",
    "\n",
    "print({a: s.count(a) for a in s})"
   ]
  },
  {
   "cell_type": "code",
   "execution_count": 7,
   "id": "cc627249",
   "metadata": {},
   "outputs": [
    {
     "name": "stdout",
     "output_type": "stream",
     "text": [
      "4\n"
     ]
    }
   ],
   "source": [
    "#9\n",
    "s = 'evgene_O'\n",
    "d = {a: s.count(a) for a in s} # предыдущая задача\n",
    "\n",
    "print(sum(1 for a in d.keys() if str(a).islower()))"
   ]
  },
  {
   "cell_type": "code",
   "execution_count": 27,
   "id": "a6deee68",
   "metadata": {},
   "outputs": [
    {
     "name": "stdout",
     "output_type": "stream",
     "text": [
      "910\n"
     ]
    }
   ],
   "source": [
    "#10\n",
    "d4 = {1: 10, 2: 20, 3: 30, 4: 40, 5: 50, 6: 60}\n",
    "\n",
    "print(sum([a * b for a, b in zip(d4.keys(), d4.values())]))"
   ]
  },
  {
   "cell_type": "code",
   "execution_count": 30,
   "id": "951f14a2",
   "metadata": {},
   "outputs": [
    {
     "name": "stdout",
     "output_type": "stream",
     "text": [
      "['h', 'i', 'j', 'k', 'l']\n"
     ]
    }
   ],
   "source": [
    "#11\n",
    "d5 = {'a': 3, 'b': 4, 'c': 5, 'd': 6, 'e': 7, 'f': 8, 'g': 9}\n",
    "d6 = {'e': 20, 'f': 21, 'g': 22, 'h': 23, 'i': 24, 'j': 25, 'k': 26, 'l': 27}\n",
    "\n",
    "print([a for a in d6.keys() if not a in d5.keys()])"
   ]
  },
  {
   "cell_type": "code",
   "execution_count": 10,
   "id": "30310ceb",
   "metadata": {},
   "outputs": [
    {
     "name": "stdout",
     "output_type": "stream",
     "text": [
      "{'a': 3, 'b': 4, 'c': 5, 'd': 6, 'e': 7, 'f': 8, 'g': 9, 'h': 23, 'i': 24, 'j': 25, 'k': 26, 'l': 27}\n"
     ]
    }
   ],
   "source": [
    "#12\n",
    "d5 = {'a': 3, 'b': 4, 'c': 5, 'd': 6, 'e': 7, 'f': 8, 'g': 9}\n",
    "d6 = {'e': 20, 'f': 21, 'g': 22, 'h': 23, 'i': 24, 'j': 25, 'k': 26, 'l': 27}\n",
    "\n",
    "print(d5.update({a: b for a, b in zip(d6.keys(), d6.values()) if not a in d5.keys()}) or d5)"
   ]
  },
  {
   "cell_type": "code",
   "execution_count": null,
   "id": "6dc3bdd9",
   "metadata": {},
   "outputs": [],
   "source": [
    "#13 (Не сделано, не понятно условие)\n",
    "d6 = {'e': 20, 'f': 21, 'g': 22, 'h': 23, 'i': 24, 'j': 25, 'k': 26, 'l': 27}\n",
    "\n",
    "print()"
   ]
  }
 ],
 "metadata": {
  "kernelspec": {
   "display_name": "Python 3 (ipykernel)",
   "language": "python",
   "name": "python3"
  },
  "language_info": {
   "codemirror_mode": {
    "name": "ipython",
    "version": 3
   },
   "file_extension": ".py",
   "mimetype": "text/x-python",
   "name": "python",
   "nbconvert_exporter": "python",
   "pygments_lexer": "ipython3",
   "version": "3.10.7"
  }
 },
 "nbformat": 4,
 "nbformat_minor": 5
}
