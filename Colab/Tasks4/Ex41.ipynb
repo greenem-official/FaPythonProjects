{
 "cells": [
  {
   "cell_type": "markdown",
   "id": "de5dec3b",
   "metadata": {},
   "source": [
    "Вариант 5"
   ]
  },
  {
   "cell_type": "markdown",
   "id": "ff551eac",
   "metadata": {},
   "source": [
    "а) Создать класс «Книга» с полями «Название», «Автор», «Год выпуска» и «Количество страниц». Создать хеш-таблицу для хранения объектов класса «Книга» по ключу — ISBN."
   ]
  },
  {
   "cell_type": "code",
   "execution_count": 1,
   "id": "2becb6bf",
   "metadata": {},
   "outputs": [
    {
     "name": "stdout",
     "output_type": "stream",
     "text": [
      "Voyna i Mir\n",
      "Alexander Pushkin\n",
      "Book not found\n"
     ]
    }
   ],
   "source": [
    "class Book:\n",
    "    def __init__(self, title, author, year, num_pages):\n",
    "        self.title = title\n",
    "        self.author = author\n",
    "        self.year = year\n",
    "        self.num_pages = num_pages\n",
    "\n",
    "\n",
    "class Library:\n",
    "    def __init__(self):\n",
    "        self.books = {}\n",
    "\n",
    "    def add_book(self, isbn, book):\n",
    "        self.books[isbn] = book\n",
    "\n",
    "    def remove_book(self, isbn):\n",
    "        if isbn in self.books.keys():\n",
    "            del self.books[isbn]\n",
    "\n",
    "    def search_book(self, isbn):\n",
    "        if isbn in self.books.keys():\n",
    "            return self.books[isbn]\n",
    "        else:\n",
    "            return \"Book not found\"\n",
    "    \n",
    "    # б)\n",
    "    def count_books_with_pages_above(self, pages):\n",
    "        count = 0\n",
    "        for book in self.books.values():\n",
    "            if book.num_pages > pages:\n",
    "                count += 1\n",
    "        return count\n",
    "\n",
    "\n",
    "library = Library()\n",
    "\n",
    "library.add_book(\"ISBN_111\", Book(\"Voyna i Mir\", \"Leo Tolstoy\", 1867, 1300))\n",
    "library.add_book(\"ISBN_112\", Book(\"Kapitanskaya Dochka\", \"Alexander Pushkin\", 1836, 320))\n",
    "\n",
    "print(library.search_book(\"ISBN_111\").title)\n",
    "print(library.search_book(\"ISBN_112\").author)\n",
    "\n",
    "library.remove_book(\"ISBN_111\")\n",
    "print(library.search_book(\"ISBN_111\"))"
   ]
  },
  {
   "cell_type": "markdown",
   "id": "1d748faf",
   "metadata": {},
   "source": [
    "б) Написать функцию для нахождения количества элементов из хеш-таблицы, у которых значение больше заданного значения."
   ]
  },
  {
   "cell_type": "code",
   "execution_count": 2,
   "id": "a8325cd8",
   "metadata": {},
   "outputs": [
    {
     "name": "stdout",
     "output_type": "stream",
     "text": [
      "1\n"
     ]
    }
   ],
   "source": [
    "print(library.count_books_with_pages_above(300))"
   ]
  },
  {
   "cell_type": "markdown",
   "id": "4d3885ae",
   "metadata": {},
   "source": [
    "в) Реализуйте хеш-таблицу для хранения информации о товарах на складе. Ключом является штрих-код товара, значение — объект, содержащий информацию о товаре (название, количество, цена и т.д.). Используйте метод разрешения коллизий методом цепочек."
   ]
  },
  {
   "cell_type": "code",
   "execution_count": 5,
   "id": "964b43fc",
   "metadata": {},
   "outputs": [
    {
     "name": "stdout",
     "output_type": "stream",
     "text": [
      "Orange\n",
      "2\n",
      "50\n"
     ]
    }
   ],
   "source": [
    "class Product:\n",
    "    def __init__(self, name, quantity, price):\n",
    "        self.name = name\n",
    "        self.quantity = quantity\n",
    "        self.price = price\n",
    "\n",
    "class Node:\n",
    "    def __init__(self, barcode, product):\n",
    "        self.barcode = barcode\n",
    "        self.product = product\n",
    "        self.next = None\n",
    "\n",
    "class Warehouse:\n",
    "    def __init__(self):\n",
    "        self.table = {}\n",
    "\n",
    "    def hash_function(self, barcode):\n",
    "        return barcode % 5\n",
    "    \n",
    "    def find_last_node(self, index):\n",
    "        current = self.table[index]\n",
    "        while current.next is not None:\n",
    "            current = current.next\n",
    "        return current\n",
    "\n",
    "    def insert_product(self, barcode, product):\n",
    "        index = self.hash_function(barcode)\n",
    "        if index not in self.table:\n",
    "            self.table[index] = Node(barcode, product)\n",
    "        else:\n",
    "            self.find_last_node(index).next = Node(barcode, product)\n",
    "\n",
    "    def search_product(self, barcode):\n",
    "        index = self.hash_function(barcode)\n",
    "        current = self.table[index]\n",
    "        while current:\n",
    "            if current.barcode == barcode:\n",
    "                return current.product\n",
    "            current = current.next\n",
    "        return \"Product not found\"\n",
    "\n",
    "\n",
    "warehouse = Warehouse()\n",
    "\n",
    "warehouse.insert_product(11111, Product(\"Orange\", 100, 1))\n",
    "warehouse.insert_product(22222, Product(\"Apple\", 100, 2))\n",
    "warehouse.insert_product(77777, Product(\"Banana\", 50, 1.5))\n",
    "\n",
    "print(warehouse.search_product(11111).name)\n",
    "print(warehouse.search_product(22222).price)\n",
    "print(warehouse.search_product(77777).quantity)"
   ]
  },
  {
   "cell_type": "code",
   "execution_count": 6,
   "id": "7fb446d6",
   "metadata": {},
   "outputs": [
    {
     "name": "stdout",
     "output_type": "stream",
     "text": [
      "Orange\n",
      "2\n",
      "50\n"
     ]
    }
   ],
   "source": [
    "class Warehouse2:\n",
    "    def __init__(self, size):\n",
    "        self.size = size\n",
    "        self.table = [None] * size\n",
    "\n",
    "    def hash_function(self, barcode):\n",
    "        return barcode % 5\n",
    "    \n",
    "    def find_last_node(self, index):\n",
    "        current = self.table[index]\n",
    "        while current.next is not None:\n",
    "            current = current.next\n",
    "        return current\n",
    "\n",
    "    def insert_product(self, barcode, product):\n",
    "        index = self.hash_function(barcode)\n",
    "        if self.table[index] is None:\n",
    "            self.table[index] = Node(barcode, product)\n",
    "        else:\n",
    "            self.find_last_node(index).next = Node(barcode, product)\n",
    "\n",
    "    def search_product(self, barcode):\n",
    "        index = self.hash_function(barcode)\n",
    "        current = self.table[index]\n",
    "        while current:\n",
    "            if current.barcode == barcode:\n",
    "                return current.product\n",
    "            current = current.next\n",
    "        return \"Product not found\"\n",
    "\n",
    "warehouse = Warehouse2(10)\n",
    "\n",
    "warehouse.insert_product(11111, Product(\"Orange\", 100, 1))\n",
    "warehouse.insert_product(22222, Product(\"Apple\", 100, 2))\n",
    "warehouse.insert_product(77777, Product(\"Banana\", 50, 1.5))\n",
    "\n",
    "print(warehouse.search_product(11111).name)\n",
    "print(warehouse.search_product(22222).price)\n",
    "print(warehouse.search_product(77777).quantity)"
   ]
  },
  {
   "cell_type": "code",
   "execution_count": null,
   "id": "0b47f65e",
   "metadata": {},
   "outputs": [],
   "source": []
  }
 ],
 "metadata": {
  "kernelspec": {
   "display_name": "Python 3 (ipykernel)",
   "language": "python",
   "name": "python3"
  },
  "language_info": {
   "codemirror_mode": {
    "name": "ipython",
    "version": 3
   },
   "file_extension": ".py",
   "mimetype": "text/x-python",
   "name": "python",
   "nbconvert_exporter": "python",
   "pygments_lexer": "ipython3",
   "version": "3.10.9"
  }
 },
 "nbformat": 4,
 "nbformat_minor": 5
}
