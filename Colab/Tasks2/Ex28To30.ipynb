{
 "cells": [
  {
   "cell_type": "markdown",
   "id": "13289a3d",
   "metadata": {},
   "source": [
    "#### Вариант 5"
   ]
  },
  {
   "cell_type": "markdown",
   "id": "9d473d88",
   "metadata": {},
   "source": [
    "##### 28"
   ]
  },
  {
   "cell_type": "code",
   "execution_count": 12,
   "id": "5a038230",
   "metadata": {},
   "outputs": [
    {
     "name": "stdout",
     "output_type": "stream",
     "text": [
      "[6, 8, 54, 2]\n",
      "[1, 3, 5, 7, 9, 1, 3]\n",
      "[6, 8, 54, 2]\n",
      "[1, 3, 5, 7, 9, 1, 3]\n"
     ]
    }
   ],
   "source": [
    "# Отфильтровать список целых чисел на чётные и нечётные числа с помощью лямбда-функции.\n",
    "\n",
    "l = [1, 3, 5, 6, 7, 8, 9, 1, 3, 54, 2]\n",
    "\n",
    "# 1 способ\n",
    "even = list(filter(lambda x: x % 2 == 0, l))\n",
    "odd = list(filter(lambda x: x % 2 == 1, l))\n",
    "\n",
    "print(even)\n",
    "print(odd)\n",
    "\n",
    "# 2 способ\n",
    "even = (lambda lst: [i for i in lst if i % 2 == 0])(l)\n",
    "odd = (lambda lst: [i for i in lst if i % 2 == 1])(l)\n",
    "\n",
    "print(even)\n",
    "print(odd)"
   ]
  },
  {
   "cell_type": "code",
   "execution_count": 11,
   "id": "a58833a3",
   "metadata": {},
   "outputs": [
    {
     "name": "stdout",
     "output_type": "stream",
     "text": [
      "['red', 'green', 'blue', 'white']\n",
      "['red', 'green', 'blue', 'white']\n"
     ]
    }
   ],
   "source": [
    "# Для удаления определённых слов из заданного списка используйте лямбда-функцию.\n",
    "# Пример: дан список слов ['orange', 'red', 'green', 'blue', 'white', 'black'],\n",
    "# удалить слова ['orange', 'black'] → ['red', 'green', 'blue', 'white'].\n",
    "\n",
    "l = ['orange', 'red', 'green', 'blue', 'white', 'black']\n",
    "blacklist = ['orange', 'black']\n",
    "\n",
    "# 1 способ\n",
    "good = list(filter(lambda x: x not in blacklist, l))\n",
    "print(good)\n",
    "\n",
    "# 2 способ\n",
    "good = (lambda lst, bl: [x for x in lst if x not in bl])(l, blacklist)\n",
    "print(good)"
   ]
  },
  {
   "cell_type": "code",
   "execution_count": 10,
   "id": "047cb736",
   "metadata": {},
   "outputs": [
    {
     "name": "stdout",
     "output_type": "stream",
     "text": [
      "True\n",
      "True\n"
     ]
    }
   ],
   "source": [
    "# Используя лямбда-функцию, проверить, отсортирован ли указанный список или нет.\n",
    "\n",
    "l = [1, 2, 3, 4, 5, 6]\n",
    "# l = [1, 2, 3, 4, 6, 5]\n",
    "\n",
    "# 1 способ\n",
    "result = sum(list(1 if l[i] == sorted(l)[i] else 0 for i in range(len(l)))) == len(l)\n",
    "print(result)\n",
    "\n",
    "# 2 способ\n",
    "result = (lambda lst: all(lst[i] <= lst[i+1] for i in range(len(lst)-1)))(l)\n",
    "print(result)"
   ]
  },
  {
   "cell_type": "markdown",
   "id": "d091be20",
   "metadata": {},
   "source": [
    "##### 29"
   ]
  },
  {
   "cell_type": "code",
   "execution_count": 8,
   "id": "8adb7536",
   "metadata": {},
   "outputs": [
    {
     "name": "stdout",
     "output_type": "stream",
     "text": [
      "[['R', 'e', 'd'], ['B', 'l', 'u', 'e'], ['B', 'l', 'a', 'c', 'k'], ['W', 'h', 'i', 't', 'e'], ['P', 'i', 'n', 'k']]\n"
     ]
    }
   ],
   "source": [
    "# С помощью функции map() преобразуйте каждую строку из заданного списка строк в список символов.\n",
    "# Пример: ['Red', 'Blue', 'Black', 'White', 'Pink'] → [['R', 'e', 'd'], ['B', 'l', 'u', 'e'], ['B', 'l', 'a', 'c', 'k'], ['W', 'h', 'i', 't', 'e'], ['P', 'i', 'n', 'k']].\n",
    "\n",
    "l = ['Red', 'Blue', 'Black', 'White', 'Pink']\n",
    "\n",
    "result = list(map(lambda x: [i for i in x], l))\n",
    "print(result)"
   ]
  },
  {
   "cell_type": "code",
   "execution_count": 15,
   "id": "1669e8c9",
   "metadata": {},
   "outputs": [
    {
     "name": "stdout",
     "output_type": "stream",
     "text": [
      "1219276800\n"
     ]
    }
   ],
   "source": [
    "# Сгенерировать список целых чисел.\n",
    "# С помощью функции filter() выбрать из списка все числа больше заданного числа и упорядочить их по убыванию.\n",
    "# Используя функцию reduce(), найти их произведение.\n",
    "\n",
    "import random\n",
    "from functools import reduce\n",
    "\n",
    "a = 4\n",
    "randAmount = 20\n",
    "randMin = 0\n",
    "randMax = 10\n",
    "\n",
    "# Только для общего ознакомления, потому что рандом выдаст потом другой список\n",
    "# print('Предварительный результат:', sorted(filter(lambda x: x > a, list(random.randint(randMin, randMax) for i in range(randAmount))))[::-1])\n",
    "\n",
    "result = reduce(lambda x, y: x * y, sorted(filter(lambda x: x > a, list(random.randint(randMin, randMax) for i in range(randAmount))))[::-1])\n",
    "print(result)"
   ]
  },
  {
   "cell_type": "markdown",
   "id": "4f333314",
   "metadata": {},
   "source": [
    "##### 30"
   ]
  },
  {
   "cell_type": "code",
   "execution_count": 17,
   "id": "cbcb9537",
   "metadata": {},
   "outputs": [
    {
     "name": "stdout",
     "output_type": "stream",
     "text": [
      "Всего вызовов функции: 1, за последние 5 секунд: 1\n",
      "Функция была выполнена\n",
      "Всего вызовов функции: 2, за последние 5 секунд: 2\n",
      "Функция была выполнена\n",
      "Всего вызовов функции: 3, за последние 5 секунд: 3\n",
      "Функция была выполнена\n",
      "Всего вызовов функции: 4, за последние 5 секунд: 4\n",
      "Функция была выполнена\n"
     ]
    }
   ],
   "source": [
    "# Создайте декоратор, который будет выводить на экран количество вызовов функции за определенный период времени.\n",
    "\n",
    "import time\n",
    "\n",
    "seconds = 5\n",
    "\n",
    "def func_count_decorator(func):\n",
    "    count = 0\n",
    "    times = []\n",
    "\n",
    "    def wrapper(*args, **kwargs):\n",
    "        nonlocal count, times\n",
    "        count += 1\n",
    "        times.append(time.time())\n",
    "        print('Всего вызовов функции: ' + str(count) + ', за последние ' + str(seconds) + ' секунд: ' + str(len(list(filter(lambda t: times[::-1][0] - t < seconds, times)))))\n",
    "        return func(*args, **kwargs)\n",
    "    return wrapper\n",
    "\n",
    "@func_count_decorator\n",
    "def test():\n",
    "    print('Функция была выполнена')\n",
    "\n",
    "\n",
    "test()\n",
    "test()\n",
    "# time.sleep(5)\n",
    "test()\n",
    "test()"
   ]
  },
  {
   "cell_type": "code",
   "execution_count": 19,
   "id": "ebedf482",
   "metadata": {},
   "outputs": [
    {
     "name": "stdout",
     "output_type": "stream",
     "text": [
      "Автоматические аргументы: ('a', 'b')\n",
      "Доп. аргумент: None\n",
      "Автоматические аргументы: ('a', 'b', 'c')\n",
      "Доп. аргумент: None\n",
      "Автоматические аргументы: ('a', 'b', 'd')\n",
      "Доп. аргумент: s\n"
     ]
    }
   ],
   "source": [
    "# Создайте декоратор, который будет принимать несколько аргументов и передавать их в функцию в качестве позиционных параметров с заданными значениями по умолчанию.\n",
    "\n",
    "def auto_args(*args):\n",
    "    def decorator(func):\n",
    "        def wrapper(*args2, **kwargs):\n",
    "            return func(*args, *args2, **kwargs)\n",
    "        return wrapper\n",
    "    return decorator\n",
    "\n",
    "\n",
    "@auto_args('a', 'b')\n",
    "def test(*args, additional=None):\n",
    "    print('Автоматические аргументы:', args)\n",
    "    print('Доп. аргумент:', additional)\n",
    "\n",
    "\n",
    "test()\n",
    "test('c')\n",
    "test('d', additional='s')"
   ]
  },
  {
   "cell_type": "code",
   "execution_count": null,
   "id": "d4c52ff3",
   "metadata": {},
   "outputs": [],
   "source": []
  }
 ],
 "metadata": {
  "kernelspec": {
   "display_name": "Python 3 (ipykernel)",
   "language": "python",
   "name": "python3"
  },
  "language_info": {
   "codemirror_mode": {
    "name": "ipython",
    "version": 3
   },
   "file_extension": ".py",
   "mimetype": "text/x-python",
   "name": "python",
   "nbconvert_exporter": "python",
   "pygments_lexer": "ipython3",
   "version": "3.10.9"
  }
 },
 "nbformat": 4,
 "nbformat_minor": 5
}
