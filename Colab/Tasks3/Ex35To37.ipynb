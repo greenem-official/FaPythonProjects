{
 "cells": [
  {
   "cell_type": "markdown",
   "id": "d230a480",
   "metadata": {},
   "source": [
    "### Вариант 5"
   ]
  },
  {
   "cell_type": "markdown",
   "id": "3224b29e",
   "metadata": {},
   "source": [
    "#### 35. Создайте двусвязный список для хранения информации о задачах в календаре. Каждый элемент списка должен содержать название задачи, описание, дату начала и дату окончания, а также список напоминаний о задаче (например, за день до окончания, за час до начала и т.д.)."
   ]
  },
  {
   "cell_type": "code",
   "execution_count": 17,
   "id": "d0914f02",
   "metadata": {},
   "outputs": [],
   "source": [
    "class TaskData:\n",
    "    def __init__(self, name, desc, start_date, end_date, reminders=None):\n",
    "        self.name = name\n",
    "        self.desc = desc\n",
    "        self.start_date = start_date\n",
    "        self.end_date = end_date\n",
    "        self.reminders = reminders if reminders else []\n",
    "\n",
    "    def __str__(self):\n",
    "        s = ''\n",
    "        s += f'Task: {self.name}, '\n",
    "        s += f\"Description: {self.desc}, \"\n",
    "        s += f\"Start Date: {self.start_date}, \"\n",
    "        s += f\"End Date: {self.end_date}, \"\n",
    "        s += f\"Reminders: {self.reminders}\"\n",
    "        return s\n",
    "\n",
    "class CalendarNode:\n",
    "    def __init__(self, td: TaskData):\n",
    "        self.prev = None\n",
    "        self.next = None\n",
    "        self.value = td\n",
    "\n",
    "    def __str__(self):\n",
    "        return f'CalendarNode [{self.value}]'\n",
    "\n",
    "class Calendar:\n",
    "    def __init__(self):\n",
    "        self.first = None\n",
    "        self.last = None\n",
    "\n",
    "    def add_first(self, td: TaskData):\n",
    "        node = CalendarNode(td)\n",
    "        if not self.first:\n",
    "            self.first = node\n",
    "            self.last = node\n",
    "        else:\n",
    "            self.last.next = node\n",
    "            node.prev = self.last\n",
    "            self.last = node\n",
    "            \n",
    "    def add_last(self, td: TaskData):\n",
    "        node = CalendarNode(td)\n",
    "        if self.last is None:\n",
    "            self.first = node\n",
    "            self.last = node\n",
    "        else:\n",
    "            self.last.next = node\n",
    "            node.prev = self.last\n",
    "            self.last = node\n",
    "\n",
    "    def __str__(self):\n",
    "        current_task: CalendarNode = self.first\n",
    "        s = 'Calendar ['\n",
    "        while current_task:\n",
    "            s += str(current_task) + ','\n",
    "            current_task = current_task.next\n",
    "        s = s[:len(s)-1]\n",
    "        s += ']'\n",
    "        return s"
   ]
  },
  {
   "cell_type": "code",
   "execution_count": 19,
   "id": "89ddf442",
   "metadata": {},
   "outputs": [
    {
     "name": "stdout",
     "output_type": "stream",
     "text": [
      "Calendar [CalendarNode [Task: Задание по алгебре, Description: Дифференциальные уравнения, Start Date: 12.05.24, End Date: 16.05.24, Reminders: []],CalendarNode [Task: Задание по дискреьной математике, Description: Машина Тьюринга, Start Date: 11.05.24, End Date: 15.05.24, Reminders: ['40 m']]]\n"
     ]
    }
   ],
   "source": [
    "calendar = Calendar()\n",
    "calendar.add_first(TaskData(name='Задание по алгебре', desc='Дифференциальные уравнения',\n",
    "                      start_date='12.05.24', end_date='16.05.24', reminders = None))\n",
    "calendar.add_first(TaskData(name='Задание по дискреьной математике', desc='Машина Тьюринга',\n",
    "                      start_date='11.05.24', end_date='15.05.24', reminders = ['40 m']))\n",
    "print(calendar)"
   ]
  },
  {
   "cell_type": "markdown",
   "id": "200078cb",
   "metadata": {},
   "source": [
    "#### 36. Реализовать функцию, которая находит средний элемент в двусвязном списке."
   ]
  },
  {
   "cell_type": "code",
   "execution_count": 20,
   "id": "0a588ed1",
   "metadata": {},
   "outputs": [],
   "source": [
    "class Node:\n",
    "    def __init__(self, value):\n",
    "        self.value = value\n",
    "        self.next = None\n",
    "        self.prev = None\n",
    "\n",
    "class LinkedList:\n",
    "    def __init__(self):\n",
    "        self.first = None\n",
    "        self.last = None\n",
    "\n",
    "    def add_first(self, data):\n",
    "        node = Node(data)\n",
    "        if self.first is None:\n",
    "            self.first = node\n",
    "            self.last = node\n",
    "        else:\n",
    "            node.next = self.first\n",
    "            self.first.prev = node\n",
    "            self.first = node\n",
    "\n",
    "    def add_last(self, data):\n",
    "        node = Node(data)\n",
    "        if self.last is None:\n",
    "            self.first = node\n",
    "            self.last = node\n",
    "        else:\n",
    "            self.last.next = node\n",
    "            node.prev = self.last\n",
    "            self.last = node\n",
    "\n",
    "    def __str__(self):\n",
    "        s = '['\n",
    "        cur = self.first\n",
    "        while cur:\n",
    "            s += str(cur.value) + ', '\n",
    "            cur = cur.next\n",
    "        s = s[:len(s)-2] + ']'\n",
    "        return s\n",
    "\n",
    "    def average_value(self):\n",
    "        c = 0\n",
    "        s = 0\n",
    "        cur = self.first\n",
    "        while cur:\n",
    "            s += cur.value\n",
    "            c += 1\n",
    "            cur = cur.next\n",
    "        if c != 0:\n",
    "            return s / c\n",
    "        else:\n",
    "            raise ValueError('Список пуст')"
   ]
  },
  {
   "cell_type": "code",
   "execution_count": 21,
   "id": "5ec30711",
   "metadata": {},
   "outputs": [
    {
     "name": "stdout",
     "output_type": "stream",
     "text": [
      "[2, 1, 6, 4, 5, 3]\n",
      "Средний элемент: 3.5\n"
     ]
    }
   ],
   "source": [
    "l = LinkedList()\n",
    "\n",
    "l.add_first(6)\n",
    "l.add_first(1)\n",
    "l.add_first(2)\n",
    "l.add_last(4)\n",
    "l.add_last(5)\n",
    "l.add_last(3)\n",
    "\n",
    "print(l)\n",
    "print(\"Средний элемент:\", l.average_value())"
   ]
  },
  {
   "cell_type": "markdown",
   "id": "c4ce7082",
   "metadata": {},
   "source": [
    "#### 37. Реализовать функцию, которая сортирует циклический двусвязный список по возрастанию."
   ]
  },
  {
   "cell_type": "code",
   "execution_count": 26,
   "id": "15022666",
   "metadata": {},
   "outputs": [],
   "source": [
    "class Node:\n",
    "    def __init__(self, value):\n",
    "        self.value = value\n",
    "        self.prev = None\n",
    "        self.next = None\n",
    "\n",
    "class DoublyLinkedList:\n",
    "    def __init__(self):\n",
    "        self.head = None\n",
    "        self.tail = None\n",
    "\n",
    "    def add(self, data):\n",
    "        node = Node(data)\n",
    "        if not self.head:\n",
    "            self.head = node\n",
    "            self.tail = node\n",
    "            node.prev = self.tail\n",
    "            node.next = self.head\n",
    "        else:\n",
    "            node.prev = self.tail\n",
    "            node.next = self.head\n",
    "            self.tail.next = node\n",
    "            self.tail = node\n",
    "            self.head.prev = self.tail\n",
    "\n",
    "    def sort(self):\n",
    "        if not self.head:\n",
    "            return\n",
    "\n",
    "        current = self.head\n",
    "        while current.next != self.head:\n",
    "            other = current.next\n",
    "            while other != self.head:\n",
    "                if current.value > other.value:\n",
    "                    current.value, other.value = other.value, current.value\n",
    "                other = other.next\n",
    "            current = current.next\n",
    "\n",
    "    def __str__(self):\n",
    "        current = self.head\n",
    "        s = '['\n",
    "        while current:\n",
    "            s += str(current.value) + ', '\n",
    "            current = current.next\n",
    "            if current == self.head:\n",
    "                break\n",
    "        return s[:len(s)-2] + ']'"
   ]
  },
  {
   "cell_type": "code",
   "execution_count": 27,
   "id": "d61bd629",
   "metadata": {},
   "outputs": [
    {
     "name": "stdout",
     "output_type": "stream",
     "text": [
      "[5, 2, 8, 1, 10]\n",
      "[1, 2, 5, 8, 10]\n"
     ]
    }
   ],
   "source": [
    "l = DoublyLinkedList()\n",
    "l.add(5)\n",
    "l.add(2)\n",
    "l.add(8)\n",
    "l.add(1)\n",
    "l.add(10)\n",
    "\n",
    "print(l)\n",
    "l.sort()\n",
    "print(l)"
   ]
  },
  {
   "cell_type": "code",
   "execution_count": null,
   "id": "74826674",
   "metadata": {},
   "outputs": [],
   "source": []
  }
 ],
 "metadata": {
  "kernelspec": {
   "display_name": "Python 3 (ipykernel)",
   "language": "python",
   "name": "python3"
  },
  "language_info": {
   "codemirror_mode": {
    "name": "ipython",
    "version": 3
   },
   "file_extension": ".py",
   "mimetype": "text/x-python",
   "name": "python",
   "nbconvert_exporter": "python",
   "pygments_lexer": "ipython3",
   "version": "3.10.9"
  }
 },
 "nbformat": 4,
 "nbformat_minor": 5
}
